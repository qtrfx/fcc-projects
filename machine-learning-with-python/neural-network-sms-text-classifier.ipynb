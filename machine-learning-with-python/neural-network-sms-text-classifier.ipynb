{
  "cells": [
    {
      "cell_type": "code",
      "execution_count": null,
      "metadata": {
        "id": "8RZOuS9LWQvv"
      },
      "outputs": [],
      "source": [
        "# import libraries\n",
        "\n",
        "import tensorflow as tf\n",
        "import pandas as pd\n",
        "from tensorflow import keras\n",
        "from tensorflow.keras import layers\n",
        "!pip install tensorflow-datasets\n",
        "import tensorflow_datasets as tfds\n",
        "import numpy as np\n",
        "import matplotlib.pyplot as plt\n",
        "from tensorflow.keras.layers import TextVectorization\n",
        "\n",
        "\n",
        "print(tf.__version__)"
      ]
    },
    {
      "cell_type": "code",
      "execution_count": null,
      "metadata": {
        "id": "lMHwYXHXCar3"
      },
      "outputs": [],
      "source": [
        "# get data files\n",
        "!wget https://cdn.freecodecamp.org/project-data/sms/train-data.tsv\n",
        "!wget https://cdn.freecodecamp.org/project-data/sms/valid-data.tsv\n",
        "\n",
        "train_file_path = \"train-data.tsv\"\n",
        "test_file_path = \"valid-data.tsv\""
      ]
    },
    {
      "cell_type": "code",
      "execution_count": null,
      "metadata": {
        "id": "g_h508FEClxO"
      },
      "outputs": [],
      "source": [
        "# Import data as pandas datafames\n",
        "train_data = pd.read_csv(\n",
        "    train_file_path,\n",
        "    sep='\\t',\n",
        "    header=None,\n",
        "    names=['classification', 'text_message']\n",
        "    )\n",
        "\n",
        "test_data = pd.read_csv(\n",
        "    test_file_path,\n",
        "    sep='\\t',\n",
        "    header=None,\n",
        "    names=['classification', 'text_message']\n",
        "    )\n",
        "\n",
        "print(train_data.head())\n"
      ]
    },
    {
      "cell_type": "code",
      "execution_count": null,
      "metadata": {
        "id": "zOMKywn4zReN"
      },
      "outputs": [],
      "source": [
        "# Make new variables to keep original data intact and assign 0 and 1 to ham and spam.\n",
        "train_processed = train_data.copy()\n",
        "train_processed['classification'] = train_processed['classification'].map({'ham': 0, 'spam': 1})\n",
        "\n",
        "test_processed = test_data.copy()\n",
        "test_processed['classification'] = test_processed['classification'].map({'ham': 0, 'spam': 1})\n",
        "\n",
        "\n"
      ]
    },
    {
      "cell_type": "code",
      "source": [
        "# Make dataframes into tensor datasets\n",
        "BUFFER_SIZE = 10000\n",
        "BATCH_SIZE = 32\n",
        "\n",
        "train_ds = tf.data.Dataset.from_tensor_slices((train_processed['text_message'].values, train_processed['classification'].values))\n",
        "test_ds = tf.data.Dataset.from_tensor_slices((test_processed['text_message'].values, test_processed['classification'].values))\n",
        "\n",
        "\n",
        "# Batch datasets and shuffle the training set\n",
        "\n",
        "train_ds = train_ds.shuffle(BUFFER_SIZE).batch(BATCH_SIZE).prefetch(tf.data.AUTOTUNE)\n",
        "test_ds = test_ds.batch(BATCH_SIZE).prefetch(tf.data.AUTOTUNE)"
      ],
      "metadata": {
        "id": "pdHw6rI9_dw1"
      },
      "execution_count": null,
      "outputs": []
    },
    {
      "cell_type": "code",
      "source": [
        "# Make a vectorization layer that'll turn the text into numpy arrays for the model\n",
        "VOCAB_SIZE=100000\n",
        "vectorize_layer = TextVectorization(\n",
        "    max_tokens=VOCAB_SIZE)\n"
      ],
      "metadata": {
        "id": "_nhCB1mV_bTo"
      },
      "execution_count": null,
      "outputs": []
    },
    {
      "cell_type": "code",
      "source": [
        "# Adapt the vectorize layer to our training data\n",
        "vectorize_layer.adapt(train_ds.map(lambda text, label: text))\n",
        "\n",
        "# Print the vocabulary of our vectorization layer\n",
        "print(vectorize_layer.get_vocabulary())"
      ],
      "metadata": {
        "id": "q47avaONzQVM"
      },
      "execution_count": null,
      "outputs": []
    },
    {
      "cell_type": "code",
      "source": [
        "# Create model with the vectorization layer, an embedding layer,\n",
        "# an LSTM layer and two dense layers, the last one being a binary one squished with a sigmoid function\n",
        "model = tf.keras.Sequential([\n",
        "    vectorize_layer,\n",
        "    layers.Embedding(\n",
        "        input_dim=len(vectorize_layer.get_vocabulary()),\n",
        "        output_dim=64,\n",
        "        mask_zero=True),\n",
        "    layers.Bidirectional(tf.keras.layers.LSTM(64)),\n",
        "    layers.Dense(64, activation='relu'),\n",
        "    layers.Dense(1, activation='sigmoid')\n",
        "])\n",
        "\n",
        "# Compile model\n",
        "model.compile(\n",
        "    loss=tf.keras.losses.BinaryCrossentropy(from_logits=False),\n",
        "    optimizer='adam',\n",
        "    metrics=['accuracy']\n",
        ")"
      ],
      "metadata": {
        "id": "IURhaoe48Uaz"
      },
      "execution_count": null,
      "outputs": []
    },
    {
      "cell_type": "code",
      "source": [
        "# Train the model with our training data\n",
        "\n",
        "history = model.fit(\n",
        "    train_ds,\n",
        "    epochs=10,\n",
        "    validation_data=test_ds,\n",
        "    validation_steps=30\n",
        "    )"
      ],
      "metadata": {
        "id": "qljKb_nS9agJ"
      },
      "execution_count": null,
      "outputs": []
    },
    {
      "cell_type": "code",
      "source": [
        "# predict something to see if it works\n",
        "prediction = model.predict(np.array(['how are you doing today?']))\n",
        "print(prediction)"
      ],
      "metadata": {
        "id": "g_GnPKjuGa-d"
      },
      "execution_count": null,
      "outputs": []
    },
    {
      "cell_type": "code",
      "execution_count": null,
      "metadata": {
        "id": "J9tD9yACG6M9"
      },
      "outputs": [],
      "source": [
        "# function to predict messages based on model\n",
        "# (should return list containing prediction and label, ex. [0.008318834938108921, 'ham'])\n",
        "def predict_message(pred_text):\n",
        "  # predict the text that was input after converting it to a numpy array\n",
        "  result = model.predict(np.array([pred_text]))\n",
        "  print(result[0][0])\n",
        "\n",
        "  # Classify as ham or spam depending on output\n",
        "  if result[0][0] >= 0.5:\n",
        "    classification = 'spam'\n",
        "  else:\n",
        "    classification = 'ham'\n",
        "\n",
        "  # Put output and the text inside an array for returning\n",
        "  prediction = [result[0][0], classification]\n",
        "\n",
        "\n",
        "  # Return the prediction\n",
        "  return (prediction)\n",
        "\n",
        "pred_text = \"how are you doing today?\"\n",
        "\n",
        "prediction = predict_message(pred_text)\n",
        "print(prediction)"
      ]
    },
    {
      "cell_type": "code",
      "execution_count": null,
      "metadata": {
        "id": "Dxotov85SjsC"
      },
      "outputs": [],
      "source": [
        "# Run this cell to test your function and model. Do not modify contents.\n",
        "def test_predictions():\n",
        "  test_messages = [\"how are you doing today\",\n",
        "                   \"sale today! to stop texts call 98912460324\",\n",
        "                   \"i dont want to go. can we try it a different day? available sat\",\n",
        "                   \"our new mobile video service is live. just install on your phone to start watching.\",\n",
        "                   \"you have won £1000 cash! call to claim your prize.\",\n",
        "                   \"i'll bring it tomorrow. don't forget the milk.\",\n",
        "                   \"wow, is your arm alright. that happened to me one time too\"\n",
        "                  ]\n",
        "\n",
        "  test_answers = [\"ham\", \"spam\", \"ham\", \"spam\", \"spam\", \"ham\", \"ham\"]\n",
        "  passed = True\n",
        "\n",
        "  for msg, ans in zip(test_messages, test_answers):\n",
        "    prediction = predict_message(msg)\n",
        "    if prediction[1] != ans:\n",
        "      passed = False\n",
        "\n",
        "  if passed:\n",
        "    print(\"You passed the challenge. Great job!\")\n",
        "  else:\n",
        "    print(\"You haven't passed yet. Keep trying.\")\n",
        "\n",
        "test_predictions()\n"
      ]
    }
  ],
  "metadata": {
    "colab": {
      "private_outputs": true,
      "provenance": [],
      "gpuType": "T4"
    },
    "kernelspec": {
      "display_name": "Python 3",
      "name": "python3"
    },
    "language_info": {},
    "accelerator": "GPU"
  },
  "nbformat": 4,
  "nbformat_minor": 0
}