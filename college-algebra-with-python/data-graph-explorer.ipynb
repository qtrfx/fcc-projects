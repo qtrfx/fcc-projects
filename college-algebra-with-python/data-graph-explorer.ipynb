{
  "nbformat": 4,
  "nbformat_minor": 0,
  "metadata": {
    "colab": {
      "provenance": []
    },
    "kernelspec": {
      "name": "python3",
      "display_name": "Python 3"
    },
    "language_info": {
      "name": "python"
    }
  },
  "cells": [
    {
      "cell_type": "markdown",
      "source": [
        "# Import required libraries"
      ],
      "metadata": {
        "id": "fHtSTs14gB0R"
      }
    },
    {
      "cell_type": "code",
      "execution_count": null,
      "metadata": {
        "id": "VqjwSQfC4O76"
      },
      "outputs": [],
      "source": [
        "import pandas as pd\n",
        "import matplotlib.pyplot as plt\n",
        "from google.colab import files\n",
        "import io"
      ]
    },
    {
      "cell_type": "markdown",
      "source": [
        "# Ways to get data from external sources"
      ],
      "metadata": {
        "id": "1DE7x89PgGJT"
      }
    },
    {
      "cell_type": "code",
      "source": [
        "# Upload file from your computer\n",
        "\n",
        "uploaded = files.upload()\n",
        "file_name = next(iter(uploaded))\n",
        "df = pd.read_csv(io.BytesIO(uploaded[file_name]))"
      ],
      "metadata": {
        "id": "7RX7HJNNJ8GT"
      },
      "execution_count": null,
      "outputs": []
    },
    {
      "cell_type": "code",
      "source": [
        "# Get a csv from a url\n",
        "# https://gist.githubusercontent.com/qtrfx/d7e407a658746cebfa46385e82b1bb1e/raw/124e8ac5a1e8f0bbd719a1e2b75ac86c4ba59548/test_data.csv\n",
        "# https://gist.githubusercontent.com/qtrfx/d7e407a658746cebfa46385e82b1bb1e/raw/8c25603be21ebc39a71c96155d79b0ea894c092c/iris_csv.csv\n",
        "# You can use these URLs for testing\n",
        "\n",
        "url = input('Enter the url to the csv: ')\n",
        "df = pd.read_csv(url)"
      ],
      "metadata": {
        "id": "qYyAT10uKPWd"
      },
      "execution_count": null,
      "outputs": []
    },
    {
      "cell_type": "markdown",
      "source": [
        "# Look at the data"
      ],
      "metadata": {
        "id": "BjyS1LBlgNx-"
      }
    },
    {
      "cell_type": "code",
      "source": [
        "# Print first two rows and headings\n",
        "print(df.head(2))\n",
        "\n",
        "# Store column names in a list\n",
        "column_names = df.columns"
      ],
      "metadata": {
        "id": "GWRHL0zhKcMi"
      },
      "execution_count": null,
      "outputs": []
    },
    {
      "cell_type": "markdown",
      "source": [
        "# Plot data"
      ],
      "metadata": {
        "id": "n82vX-vLgQyI"
      }
    },
    {
      "cell_type": "markdown",
      "source": [
        "The next cell asks you to put in valid columns to use for plotting.\n",
        "You can uncomment and change the x/y-min/max values to limit what you'll see."
      ],
      "metadata": {
        "id": "cVVVyemQggVP"
      }
    },
    {
      "cell_type": "code",
      "source": [
        "print(df.head(2))\n",
        "print(' ')\n",
        "column_names = df.columns\n",
        "print('Available columns:')\n",
        "\n",
        "for name in column_names:\n",
        "  print(name)\n",
        "\n",
        "print('----------------------------')\n",
        "\n",
        "x_column = input('Pick a column to use as the x value\\n')\n",
        "y_column = input('Pick a column to use as the y value\\n')\n",
        "\n",
        "x = df[x_column].to_numpy()\n",
        "y = df[y_column].to_numpy()\n",
        "\n",
        "\n",
        "scatter_or_line = input('Would you like to draw a scatter or a line plot?\\n1. Scatter\\n2. Line\\n')\n",
        "\n",
        "fig, ax = plt.subplots()\n",
        "\n",
        "# You can play around with these values to zoom in or out\n",
        "\n",
        "#xmin = x.min()\n",
        "#xmax = x.max()\n",
        "#ymin = y.min()\n",
        "#ymax = y.max()\n",
        "\n",
        "#plt.axis([xmin,xmax,ymin,ymax])\n",
        "ax.set_xlabel(x_column)\n",
        "ax.set_ylabel(y_column)\n",
        "ax.grid(True)\n",
        "\n",
        "if int(scatter_or_line) == 1:\n",
        "  plt.plot(x, y, 'ro')\n",
        "elif int(scatter_or_line) == 2:\n",
        "  plt.plot(x,y, 'b-')\n",
        "plt.show()"
      ],
      "metadata": {
        "id": "Wdi5GcCvLQpr"
      },
      "execution_count": null,
      "outputs": []
    }
  ]
}