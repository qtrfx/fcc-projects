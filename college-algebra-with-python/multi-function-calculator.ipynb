{
  "nbformat": 4,
  "nbformat_minor": 0,
  "metadata": {
    "colab": {
      "provenance": [],
      "collapsed_sections": [
        "szp5flp1fA8-",
        "jVXoY1mmfBjG"
      ]
    },
    "kernelspec": {
      "name": "python3",
      "display_name": "Python 3"
    },
    "language_info": {
      "name": "python"
    }
  },
  "cells": [
    {
      "cell_type": "markdown",
      "metadata": {
        "id": "EsfO5Q92tL-6"
      },
      "source": [
        "[![freeCodeCamp](https://cdn.freecodecamp.org/testable-projects-fcc/images/fcc_secondary.svg)](https://freecodecamp.org/)"
      ]
    },
    {
      "cell_type": "markdown",
      "metadata": {
        "id": "OikF86Tfxsrq"
      },
      "source": [
        "**Learn Foundational Math 1 by Building an Equation Solver**<br>\n",
        "Each of these steps will lead you toward the Certification Project. First you have to copy the files and set them up in your Google Drive."
      ]
    },
    {
      "cell_type": "markdown",
      "metadata": {
        "id": "szp5flp1fA8-"
      },
      "source": [
        "# &darr; **Do this first** &darr;\n",
        "Make sure you are logged into your Google account, and copy this notebook to your own account. Click \"File\" (at the top of this page) and then click \"Save a copy in Drive.\"  The file will be in a folder called \"Colab Notebooks\" in your Google Drive."
      ]
    },
    {
      "cell_type": "markdown",
      "source": [
        "#Directions - Click to expand the next step<br>\n",
        "Click on the little <i>triangle</i> next to the word \"Step\" to do that step. Once you complete a step, click the triangle to expand the next step."
      ],
      "metadata": {
        "id": "jVXoY1mmfBjG"
      }
    },
    {
      "cell_type": "markdown",
      "source": [
        "# Step 0 - Acquire the testing library"
      ],
      "metadata": {
        "id": "FnqxVtNYIA8D"
      }
    },
    {
      "cell_type": "markdown",
      "source": [
        "Please run this code to get the library file from FreeCodeCamp. Each step will use this library to test your code. You do not need to edit anything; just run this code cell and wait a few seconds until it tells you to go on to the next step."
      ],
      "metadata": {
        "id": "jGDR7mBeh-ov"
      }
    },
    {
      "cell_type": "code",
      "source": [
        "# You may need to run this cell at the beginning of each new session\n",
        "\n",
        "!pip install requests\n",
        "\n",
        "# This will just take a few seconds\n",
        "\n",
        "import requests\n",
        "\n",
        "# Get the library from GitHub\n",
        "url = 'https://raw.githubusercontent.com/freeCodeCamp/cdn/main/build/math-cert-tests/math-code-test-a.py'\n",
        "r = requests.get(url)\n",
        "\n",
        "# Save the library in a local working directory\n",
        "with open('math_code_test_a.py', 'w') as f:\n",
        "    f.write(r.text)\n",
        "\n",
        "# Now you can import the library\n",
        "import math_code_test_a as test\n",
        "\n",
        "# This will tell you if the code works\n",
        "test.step19()"
      ],
      "metadata": {
        "id": "V88D7Zrei2ym",
        "colab": {
          "base_uri": "https://localhost:8080/"
        },
        "outputId": "75a0e985-7949-4831-eedf-5adf9fa1ff16"
      },
      "execution_count": null,
      "outputs": [
        {
          "output_type": "stream",
          "name": "stdout",
          "text": [
            "Requirement already satisfied: requests in /usr/local/lib/python3.10/dist-packages (2.27.1)\n",
            "Requirement already satisfied: urllib3<1.27,>=1.21.1 in /usr/local/lib/python3.10/dist-packages (from requests) (1.26.16)\n",
            "Requirement already satisfied: certifi>=2017.4.17 in /usr/local/lib/python3.10/dist-packages (from requests) (2023.7.22)\n",
            "Requirement already satisfied: charset-normalizer~=2.0.0 in /usr/local/lib/python3.10/dist-packages (from requests) (2.0.12)\n",
            "Requirement already satisfied: idna<4,>=2.5 in /usr/local/lib/python3.10/dist-packages (from requests) (3.4)\n",
            "\n",
            " Test passed. You can go on to the next step.\n"
          ]
        }
      ]
    },
    {
      "cell_type": "markdown",
      "metadata": {
        "id": "EjxsoAEij2z5"
      },
      "source": [
        "# Step 1 - Add"
      ]
    },
    {
      "cell_type": "markdown",
      "metadata": {
        "id": "tYdScbUgkif-"
      },
      "source": [
        "To help you get familiar with Colab notebooks, you will start with the basics. Python uses `+`, `-`, `*`, and `/` for the four math operations: <i>add</i>, <i>subtract</i>, <i>multiply</i>, and <i>divide</i>. When you add two numbers, the result is the <i>sum</i>. Use addition within the `print` statement to get the sum of `a` and `b`. To run the code, you can hit \"shift\" and \"enter\" or you can click the run button (the triangle inside a circle)."
      ]
    },
    {
      "cell_type": "code",
      "metadata": {
        "id": "muuUL56MknVm",
        "colab": {
          "base_uri": "https://localhost:8080/"
        },
        "outputId": "926e8cc7-02fd-4005-8f8c-c10bdd5cae40"
      },
      "source": [
        "a=1\n",
        "b=2\n",
        "\n",
        "# Change the next line to print the sum of a and b\n",
        "print(a + b)\n",
        "\n",
        "\n",
        "# Only change code above this line\n",
        "import math_code_test_a as test\n",
        "test.step01(In[-1].split('# Only change code above this line')[0])"
      ],
      "execution_count": null,
      "outputs": [
        {
          "output_type": "stream",
          "name": "stdout",
          "text": [
            "3\n",
            " \n",
            "Code test passed\n",
            "Go on to the next step\n"
          ]
        }
      ]
    },
    {
      "cell_type": "markdown",
      "metadata": {
        "id": "yAR4qoEcj7tv"
      },
      "source": [
        "# Step 2 - Subtract"
      ]
    },
    {
      "cell_type": "markdown",
      "metadata": {
        "id": "kxpYn-rfjomx"
      },
      "source": [
        "When you subtract two numbers, the result is the <i>difference</i>. Use subtraction in the print statement to get the difference between `c` and `d`. Remember to use \"shift\" and \"enter\" to run the code.\n"
      ]
    },
    {
      "cell_type": "code",
      "metadata": {
        "id": "cLscGSGcjtPM",
        "colab": {
          "base_uri": "https://localhost:8080/"
        },
        "outputId": "ee2e1e74-30af-4de2-eb93-5ab42c68c846"
      },
      "source": [
        "c = 7\n",
        "d = 3\n",
        "\n",
        "# Change the next line to print the positive difference between c and d\n",
        "print(c - d)\n",
        "\n",
        "\n",
        "# Only change code above this line\n",
        "import math_code_test_a as test\n",
        "test.step02(In[-1].split('# Only change code above this line')[0])"
      ],
      "execution_count": null,
      "outputs": [
        {
          "output_type": "stream",
          "name": "stdout",
          "text": [
            "4\n",
            " \n",
            "Code test passed\n",
            "Go on to the next step\n"
          ]
        }
      ]
    },
    {
      "cell_type": "markdown",
      "metadata": {
        "id": "9n3Rf_u4kVRc"
      },
      "source": [
        "# Step 3 - Multiply"
      ]
    },
    {
      "cell_type": "markdown",
      "metadata": {
        "id": "upss2rbrkNE3"
      },
      "source": [
        "When you multiply numbers, the result is the <i>product</i>. Use multiplication within the print statement to get the product of `e` and `f`:\n"
      ]
    },
    {
      "cell_type": "code",
      "metadata": {
        "id": "riH3m4YekQNk",
        "colab": {
          "base_uri": "https://localhost:8080/"
        },
        "outputId": "08a1f6a0-621b-441a-f525-e81b42c818b9"
      },
      "source": [
        "e = 2\n",
        "f = 4\n",
        "\n",
        "# Change the next line to print the product of e and f\n",
        "print(e * f)\n",
        "\n",
        "\n",
        "# Only change code above this line\n",
        "import math_code_test_a as test\n",
        "test.step03(In[-1].split('# Only change code above this line')[0])"
      ],
      "execution_count": null,
      "outputs": [
        {
          "output_type": "stream",
          "name": "stdout",
          "text": [
            "8\n",
            " \n",
            "Code test passed\n",
            "Go on to the next step\n"
          ]
        }
      ]
    },
    {
      "cell_type": "markdown",
      "metadata": {
        "id": "33FosVOV1NBu"
      },
      "source": [
        "# Step 4 - Divide\n"
      ]
    },
    {
      "cell_type": "markdown",
      "metadata": {
        "id": "odHJk50S1V05"
      },
      "source": [
        "When you divide two numbers, the result is the <i>quotient</i>. Use division within the print statement to get the quotient of `g` and `h`:"
      ]
    },
    {
      "cell_type": "code",
      "metadata": {
        "id": "5YWS8tuA1UMc",
        "colab": {
          "base_uri": "https://localhost:8080/"
        },
        "outputId": "cc0baac3-a4ce-4d23-9539-eaa42934877d"
      },
      "source": [
        "g = 8\n",
        "h = 4\n",
        "\n",
        "# Change the next line\n",
        "print(g / h)\n",
        "\n",
        "\n",
        "# Only change code above this line\n",
        "import math_code_test_a as test\n",
        "test.step04(In[-1].split('# Only change code above this line')[0])"
      ],
      "execution_count": null,
      "outputs": [
        {
          "output_type": "stream",
          "name": "stdout",
          "text": [
            "2.0\n",
            " \n",
            "Code test passed\n",
            "Go on to the next step\n"
          ]
        }
      ]
    },
    {
      "cell_type": "markdown",
      "metadata": {
        "id": "rujSYyXZ3AOY"
      },
      "source": [
        "# Step 5 - Cast Input"
      ]
    },
    {
      "cell_type": "markdown",
      "metadata": {
        "id": "ttrSrlGh3CK8"
      },
      "source": [
        "User input comes in as a <i>string</i>, so you need to cast it as an <i>integer</i> or a <i>float</i> before doing any math. The code below asks for input and uses `int()` to cast it as an integer. Follow the model and cast the second variable as an integer. Then run the code an test it. (Remember to hit \"enter\" after you type each integer in the box.)\n"
      ]
    },
    {
      "cell_type": "code",
      "metadata": {
        "id": "fWYQrvOP3Cif",
        "colab": {
          "base_uri": "https://localhost:8080/"
        },
        "outputId": "2631ef83-4223-48d7-b337-e66cb4af373e"
      },
      "source": [
        "strA = input('Enter a positive integer: ')\n",
        "intA = int(strA)\n",
        "\n",
        "strB = input('Enter another positive integer: ')\n",
        "\n",
        "\n",
        "# Change the next line but keep the variable name:\n",
        "intB = int(strB)\n",
        "\n",
        "\n",
        "print(intA+intB)\n",
        "\n",
        "\n",
        "# Only change code above this line\n",
        "import math_code_test_a as test\n",
        "test.step05(In[-1].split('# Only change code above this line')[0])"
      ],
      "execution_count": null,
      "outputs": [
        {
          "output_type": "stream",
          "name": "stdout",
          "text": [
            "Enter a positive integer: 3\n",
            "Enter another positive integer: 4\n",
            "7\n",
            " \n",
            "Code test passed\n",
            "Go on to the next step\n"
          ]
        }
      ]
    },
    {
      "cell_type": "markdown",
      "source": [
        "#Step 6 - Input and cast on the same line"
      ],
      "metadata": {
        "id": "_NVz--_vqAxA"
      }
    },
    {
      "cell_type": "markdown",
      "source": [
        "You can prompt for input and cast that input on the same line. Notice the nested functions in the first line of code. Follow that model to prompt for input and cast that input as an integer on the same line."
      ],
      "metadata": {
        "id": "M7tIwnUdqUBp"
      }
    },
    {
      "cell_type": "code",
      "source": [
        "intA = int(input('Enter an integer: '))\n",
        "\n",
        "# Change the next line but keep the variable name:\n",
        "intB = int(input('Enter an integer: '))\n",
        "\n",
        "\n",
        "print(intA+intB)\n",
        "\n",
        "\n",
        "# Only change code above this line\n",
        "import math_code_test_a as test\n",
        "test.step06(In[-1].split('# Only change code above this line')[0])"
      ],
      "metadata": {
        "id": "I9a4sf1aqYZd",
        "colab": {
          "base_uri": "https://localhost:8080/"
        },
        "outputId": "a84fdf44-0781-4c82-9e1d-21f9a0650a91"
      },
      "execution_count": null,
      "outputs": [
        {
          "output_type": "stream",
          "name": "stdout",
          "text": [
            "Enter an integer: 5\n",
            "Enter an integer: 6\n",
            "11\n",
            " \n",
            "Code test passed\n",
            "Go on to the next step\n"
          ]
        }
      ]
    },
    {
      "cell_type": "markdown",
      "source": [
        "#Step 7 - Float numbers"
      ],
      "metadata": {
        "id": "-lFO35p7l3cL"
      }
    },
    {
      "cell_type": "markdown",
      "source": [
        "A <i>float</i> number allows decimal places. When prompting for a number as input, casting that as a <i>float</i> is usually the best choice. Follow the model below to prompt for input and cast that input as a <i>float</i> on the same line."
      ],
      "metadata": {
        "id": "Qb0X7hCIl5yO"
      }
    },
    {
      "cell_type": "code",
      "source": [
        "a = float(input('Enter a number: '))\n",
        "\n",
        "# Change the next line but keep the variable name:\n",
        "b = float(input('Enter a number: '))\n",
        "\n",
        "\n",
        "print(a/b)\n",
        "\n",
        "\n",
        "# Only change code above this line\n",
        "import math_code_test_a as test\n",
        "test.step07(In[-1].split('# Only change code above this line')[0])"
      ],
      "metadata": {
        "id": "tKFaQlQ4l8ti",
        "colab": {
          "base_uri": "https://localhost:8080/"
        },
        "outputId": "31306c8a-3192-47f3-afc1-675d7a625723"
      },
      "execution_count": null,
      "outputs": [
        {
          "output_type": "stream",
          "name": "stdout",
          "text": [
            "Enter a number: 3\n",
            "Enter a number: 4\n",
            "0.75\n",
            " \n",
            "Code test passed\n",
            "Go on to the next step\n"
          ]
        }
      ]
    },
    {
      "cell_type": "markdown",
      "metadata": {
        "id": "6PeVH4Gx3PE3"
      },
      "source": [
        "# Step 8 - Order of Operations"
      ]
    },
    {
      "cell_type": "markdown",
      "metadata": {
        "id": "tComwmxt3UuP"
      },
      "source": [
        "You may have heard of the <b>order of operations</b> and the acronym <b>PEMDAS</b>, which reminds you of the correct order. This means that you do what is in <b>Parentheses</b> first, then simplify <b>Exponents</b>. You then do all of the <b>Multiplication</b> and <b>Division</b> together, as long as you work from left to right and simplify them in order. The same is true of <b>Addition</b> and <b>Subtraction</b>: work from left to right and simplify the one the comes up next. Python knows the order of operations. In the following code, Python will calculate the actual_answer correctly. Notice the use of `**` to indicate an exponent. Do the arithmetic in your head (no writing code) and change the `your_answer` variable, then run the code to see if your_answer matches the actual_answer."
      ]
    },
    {
      "cell_type": "code",
      "metadata": {
        "id": "d-3CdCL53VHA",
        "colab": {
          "base_uri": "https://localhost:8080/"
        },
        "outputId": "14e9f1a7-d71c-48d7-d39e-1091291d31d5"
      },
      "source": [
        "actual_answer = (1+4*2-14/2)**3\n",
        "\n",
        "# Put your answer on the following line:\n",
        "your_answer = 8\n",
        "\n",
        "print('Actual answer is ', actual_answer)\n",
        "print('Your answer is ', your_answer)\n",
        "\n",
        "\n",
        "# Only change code above this line\n",
        "import math_code_test_a as test\n",
        "test.step08(your_answer)"
      ],
      "execution_count": null,
      "outputs": [
        {
          "output_type": "stream",
          "name": "stdout",
          "text": [
            "Actual answer is  8.0\n",
            "Your answer is  8\n",
            " \n",
            "Code test passed\n",
            "Go on to the next step\n"
          ]
        }
      ]
    },
    {
      "cell_type": "markdown",
      "metadata": {
        "id": "D5Z8_9gN39TD"
      },
      "source": [
        "# Step 9 - Remainder and Modulus"
      ]
    },
    {
      "cell_type": "markdown",
      "metadata": {
        "id": "IBEwjqML39TH"
      },
      "source": [
        "A <i>remainder</i> is what is left over when you try to divide two numbers and it doesn’t divide evenly. The remainder of 10 / 4 is 2 because 4 goes into 10 two whole times, with 2 left over. The <i>modulus</i> (`%`) operator will output the remainder, so `10 % 4` will return 2. Use the modulus operator to find the remainder of a divided by b:"
      ]
    },
    {
      "cell_type": "code",
      "metadata": {
        "id": "EonWJtHS39TI",
        "colab": {
          "base_uri": "https://localhost:8080/"
        },
        "outputId": "8789313d-6adb-4078-80e9-d168320f288d"
      },
      "source": [
        "a = 14\n",
        "b = 6\n",
        "\n",
        "# Change this line\n",
        "print(a % b)\n",
        "\n",
        "\n",
        "# Only change code above this line\n",
        "import math_code_test_a as test\n",
        "test.step09(In[-1].split('# Only change code above this line')[0])"
      ],
      "execution_count": null,
      "outputs": [
        {
          "output_type": "stream",
          "name": "stdout",
          "text": [
            "2\n",
            " \n",
            "Code test passed\n",
            "Go on to the next step\n"
          ]
        }
      ]
    },
    {
      "cell_type": "markdown",
      "metadata": {
        "id": "rPT2OymY4HdE"
      },
      "source": [
        "# Step 10 - Modulus and Factors"
      ]
    },
    {
      "cell_type": "markdown",
      "metadata": {
        "id": "Ct7JeTNm4HdF"
      },
      "source": [
        "Use an `if` statement with the modulus operator to find out if one number is a factor of another. For example, to see if 5 is a factor of 20, you can test `if 20 % 5 == 0`. If there's no remainder, the second number is a factor of the first. Remember that Python comparisons use `==` to test values. Remember that the `if` statement ends in a colon (`:`) and the resulting block is indented four spaces. Finish the code below to print \"true\" if `test_factor` is a factor of `number` and print \"false\" if it is not."
      ]
    },
    {
      "cell_type": "code",
      "metadata": {
        "id": "fRe04K3a4HdF",
        "colab": {
          "base_uri": "https://localhost:8080/"
        },
        "outputId": "51d0a3e4-5748-4b3c-855f-b2b895ebd194"
      },
      "source": [
        "number = int(input('Enter an integer: '))\n",
        "test_factor = int(input('Enter an integer to see if it’s a factor: '))\n",
        "\n",
        "# Change the next line to test the factor:\n",
        "if number % test_factor == 0:\n",
        "    print('true')\n",
        "else:\n",
        "    print('false')\n",
        "\n",
        "\n",
        "# Only change code above this line\n",
        "import math_code_test_a as test\n",
        "test.step10(In[-1].split('# Only change code above this line')[0])"
      ],
      "execution_count": null,
      "outputs": [
        {
          "output_type": "stream",
          "name": "stdout",
          "text": [
            "Enter an integer: 12\n",
            "Enter an integer to see if it’s a factor: 6\n",
            "true\n",
            " \n",
            "Code test passed\n",
            "Go on to the next step\n"
          ]
        }
      ]
    },
    {
      "cell_type": "markdown",
      "metadata": {
        "id": "yED2Dox44JYj"
      },
      "source": [
        "# Step 11 - Finding Factors"
      ]
    },
    {
      "cell_type": "markdown",
      "metadata": {
        "id": "oMQEeGVI4JYk"
      },
      "source": [
        "Now you will find all of the factors of a number. This code has a loop with a variable, `test_factor`, that iterates through a defined range. Remember that the first line defining the loop ends in a colon (:) and each line in the loop requires a four-space indent. Change the `if` statement to find all the factors of `number`."
      ]
    },
    {
      "cell_type": "code",
      "metadata": {
        "id": "YQqur5gF4JYk",
        "colab": {
          "base_uri": "https://localhost:8080/"
        },
        "outputId": "f94e7a1a-fef7-44e6-c8f1-9480a65847d7"
      },
      "source": [
        "number = int(input('Enter an integer: '))\n",
        "\n",
        "# Only change the if statement:\n",
        "for test_factor in range(1, number+1):\n",
        "    if number % test_factor == 0:\n",
        "        print(test_factor)\n",
        "\n",
        "\n",
        "# Only change code above this line\n",
        "import math_code_test_a as test\n",
        "test.step11(In[-1].split('# Only change code above this line')[0])"
      ],
      "execution_count": null,
      "outputs": [
        {
          "output_type": "stream",
          "name": "stdout",
          "text": [
            "Enter an integer: 24\n",
            "1\n",
            "2\n",
            "3\n",
            "4\n",
            "6\n",
            "8\n",
            "12\n",
            "24\n",
            " \n",
            "Code test passed\n",
            "Go on to the next step\n"
          ]
        }
      ]
    },
    {
      "cell_type": "markdown",
      "metadata": {
        "id": "uQdfUUlw4Kfg"
      },
      "source": [
        "# Step 12 - Prime Numbers"
      ]
    },
    {
      "cell_type": "markdown",
      "metadata": {
        "id": "ngn_lXfv4Kfh"
      },
      "source": [
        "A <i>prime</i> number is a number whose only factors are 1 and itself. The number 5 is prime because its only factors are 1 and 5, but the 6 is not prime because it has 1, 2, 3, and 6 as factors. Any number that is not a prime is a <i>composite</i>. For each iteration in the loop, `test_number` will be a possible factor. Change the `if` statement so that the code prints \"composite\" if `number` is not prime."
      ]
    },
    {
      "cell_type": "code",
      "metadata": {
        "id": "9q6wtSTg4Kfh",
        "colab": {
          "base_uri": "https://localhost:8080/"
        },
        "outputId": "6c1413e9-38d4-45e0-a41e-a9737146110f"
      },
      "source": [
        "number = int(input(\"Enter a positive integer: \"))\n",
        "\n",
        "prime_or_comp = \"prime\"\n",
        "\n",
        "for test_number in range(2,number):\n",
        "    # Change the if statement to test one factor here:\n",
        "    if number % test_number == 0:\n",
        "        prime_or_comp = \"composite\"\n",
        "\n",
        "print(prime_or_comp)\n",
        "\n",
        "\n",
        "# Only change code above this line\n",
        "import math_code_test_a as test\n",
        "test.step12(In[-1].split('# Only change code above this line')[0])"
      ],
      "execution_count": null,
      "outputs": [
        {
          "output_type": "stream",
          "name": "stdout",
          "text": [
            "Enter a positive integer: 12\n",
            "composite\n",
            " \n",
            "Code test passed\n",
            "Go on to the next step\n"
          ]
        }
      ]
    },
    {
      "cell_type": "markdown",
      "metadata": {
        "id": "XEf8vCUH4Lc_"
      },
      "source": [
        "# Step 13 - Reciprocals"
      ]
    },
    {
      "cell_type": "markdown",
      "metadata": {
        "id": "QrV7DGum4Lc_"
      },
      "source": [
        "A *reciprocal* is a number \"flipped.\" The reciprocal of $\\frac{2}{3}$ is $\\frac{3}{2}$ and the reciprocal of 5 is $\\frac{1}{5}$ because whole numbers have denominators of 1. You can multiply a number by its reciprocal to get 1, so 5 * $\\frac{1}{5}$ = 1 and $\\frac{2}{3}$ * $\\frac{3}{2}$ = 1. To get the reciprocal of a number, take 1 divided by that number. Trying to get the reciprocal of zero will lead to a \"divide by zero\" error. Use a print statement to output the reciprocal of `n` as a decimal."
      ]
    },
    {
      "cell_type": "code",
      "metadata": {
        "id": "rwExvDuM4LdA",
        "colab": {
          "base_uri": "https://localhost:8080/"
        },
        "outputId": "29ac6594-d0bb-48af-dd29-ef38b3ae73b0"
      },
      "source": [
        "n = float(input('Enter a number: '))\n",
        "\n",
        "# Write your code here\n",
        "print(1/ n)\n",
        "\n",
        "\n",
        "# Only change code above this line\n",
        "import math_code_test_a as test\n",
        "test.step13(In[-1].split('# Only change code above this line')[0])"
      ],
      "execution_count": null,
      "outputs": [
        {
          "output_type": "stream",
          "name": "stdout",
          "text": [
            "Enter a number: 3\n",
            "0.3333333333333333\n",
            " \n",
            "Code test passed\n",
            "Go on to the next step\n"
          ]
        }
      ]
    },
    {
      "cell_type": "markdown",
      "metadata": {
        "id": "EyV2Udzs4MVS"
      },
      "source": [
        "# Step 14 - Splitting input"
      ]
    },
    {
      "cell_type": "markdown",
      "metadata": {
        "id": "_GoKZbiS4MVS"
      },
      "source": [
        "The code below asks for two integers, separated by a comma, then splits the input at the comma. Notice the input remains a string, then the `split()` function creates an array with two elements. Finish the following code to cast the two variables `a` and `b` as `float` numbers, then divide the two numbers and print the result."
      ]
    },
    {
      "cell_type": "code",
      "metadata": {
        "id": "axr86XQ04MVS",
        "colab": {
          "base_uri": "https://localhost:8080/"
        },
        "outputId": "070414a2-de32-4496-ee9c-0f42a67fad87"
      },
      "source": [
        "nums = input('Enter two numbers, separated by a comma: ')\n",
        "sp = nums.split(\",\")\n",
        "\n",
        "# Use the next line as a model:\n",
        "a = float(sp[0])\n",
        "\n",
        "# Change the next line to cast the number as a float:\n",
        "b = float(sp[1])\n",
        "\n",
        "# Change the print statement:\n",
        "print(a / b)\n",
        "\n",
        "\n",
        "# Only change code above this line\n",
        "import math_code_test_a as test\n",
        "test.step14(In[-1].split('# Only change code above this line')[0])"
      ],
      "execution_count": null,
      "outputs": [
        {
          "output_type": "stream",
          "name": "stdout",
          "text": [
            "Enter two numbers, separated by a comma: 3, 5\n",
            "0.6\n",
            " \n",
            "Code test passed\n",
            "Go on to the next step\n"
          ]
        }
      ]
    },
    {
      "cell_type": "markdown",
      "metadata": {
        "id": "76XeyVVM4NrX"
      },
      "source": [
        "# Step 15 - Square Numbers"
      ]
    },
    {
      "cell_type": "markdown",
      "metadata": {
        "id": "cNCxDnCt4NrX"
      },
      "source": [
        "One factor multiplied by itself will produce a <i>square</i> number, so a number raised to an exponent of 2 is that number <i>squared</i> (like calculating the area of a square). Python uses `**` to indicate exponents. Complete the code to print the square of the input."
      ]
    },
    {
      "cell_type": "code",
      "metadata": {
        "id": "ZyikhBYd4NrX",
        "colab": {
          "base_uri": "https://localhost:8080/"
        },
        "outputId": "1c38432d-4ada-4b4b-9d31-30eff5553fec"
      },
      "source": [
        "n = float(input('Enter a number to square: '))\n",
        "\n",
        "# Change this line of code:\n",
        "print(n**2)\n",
        "\n",
        "\n",
        "# Only change code above this line\n",
        "import math_code_test_a as test\n",
        "test.step15(In[-1].split('# Only change code above this line')[0])"
      ],
      "execution_count": null,
      "outputs": [
        {
          "output_type": "stream",
          "name": "stdout",
          "text": [
            "Enter a number to square: 3\n",
            "9.0\n",
            " \n",
            "Code test passed\n",
            "Go on to the next step\n"
          ]
        }
      ]
    },
    {
      "cell_type": "markdown",
      "metadata": {
        "id": "B4WZJ0Iv4O1d"
      },
      "source": [
        "# Step 16 - Square Root Function"
      ]
    },
    {
      "cell_type": "markdown",
      "metadata": {
        "id": "R3RBO7tF4O1d"
      },
      "source": [
        "You can find the square root of a number with the `sqrt()` function. To use this function, you need to import the math library. This library enables you to use many functions, as you will see in later steps. To get the square root of x, you would write `math.sqrt(x)`. Complete the code to print the square root of a number."
      ]
    },
    {
      "cell_type": "code",
      "metadata": {
        "id": "MSkW_Md24O1d",
        "colab": {
          "base_uri": "https://localhost:8080/"
        },
        "outputId": "7bdde0ba-c3bc-487c-856c-3e27085ba931"
      },
      "source": [
        "import math\n",
        "\n",
        "n = float(input('Enter a number to find the square root: '))\n",
        "\n",
        "# Change the next line of code:\n",
        "print(math.sqrt(n))\n",
        "\n",
        "\n",
        "# Only change code above this line\n",
        "import math_code_test_a as test\n",
        "test.step16(In[-1].split('# Only change code above this line')[0])"
      ],
      "execution_count": null,
      "outputs": [
        {
          "output_type": "stream",
          "name": "stdout",
          "text": [
            "Enter a number to find the square root: 345345\n",
            "587.66061634246\n",
            " \n",
            "Code test passed\n",
            "Go on to the next step\n"
          ]
        }
      ]
    },
    {
      "cell_type": "markdown",
      "metadata": {
        "id": "1hru9M7J4P48"
      },
      "source": [
        "# Step 17 - Floor Function"
      ]
    },
    {
      "cell_type": "markdown",
      "metadata": {
        "id": "VG-12xT94P48"
      },
      "source": [
        "The`floor()` function drops any decimals and sometimes is called the <i>integer part</i> of a number. Complete the code to print the floor of a number. Notice you `import math` and use `math.floor(n)`  "
      ]
    },
    {
      "cell_type": "code",
      "metadata": {
        "id": "F-c0gsQL4P48",
        "colab": {
          "base_uri": "https://localhost:8080/"
        },
        "outputId": "452ca5ff-9a86-4d56-db18-fe966fdb0420"
      },
      "source": [
        "import math\n",
        "\n",
        "n = float(input('Enter a number with decimal places: '))\n",
        "\n",
        "# Change the next line of code:\n",
        "print(math.floor(n))\n",
        "\n",
        "\n",
        "# Only change code above this line\n",
        "import math_code_test_a as test\n",
        "test.step17(In[-1].split('# Only change code above this line')[0])"
      ],
      "execution_count": null,
      "outputs": [
        {
          "output_type": "stream",
          "name": "stdout",
          "text": [
            "Enter a number with decimal places: 23.3454356456456\n",
            "23\n",
            " \n",
            "Code test passed\n",
            "Go on to the next step\n"
          ]
        }
      ]
    },
    {
      "cell_type": "markdown",
      "metadata": {
        "id": "cG_JMTeb4Q-E"
      },
      "source": [
        "# Step 18 - Finding Square Factors"
      ]
    },
    {
      "cell_type": "markdown",
      "metadata": {
        "id": "oN6isUiz4Q-E"
      },
      "source": [
        "This step will combine a few things you have already done. Remember that a square number is an integer that is the result of multiplying another integer by itself. Just as you created a loop to find factors of an integer, here you will find the greatest factor that is a perfect square. For example, 2 is a factor of 16, but 2 is not a square number, while 4 is a factor and it is a square number, but it is not the greatest square factor. The greatest square factor of 16 is 16. The greatest square factor of 32 is 16. Complete `if` statement in the loop to find the greatest square factor of a number."
      ]
    },
    {
      "cell_type": "code",
      "metadata": {
        "id": "SRbIgfWr4Q-E",
        "colab": {
          "base_uri": "https://localhost:8080/"
        },
        "outputId": "a0d2642a-327f-48ed-99dd-b6c2c0c6b3a9"
      },
      "source": [
        "import math\n",
        "\n",
        "n = int(input('Enter an integer to find the greatest square factor: '))\n",
        "\n",
        "max_factor = 1\n",
        "upper_limit = math.floor(math.sqrt(n)) + 1\n",
        "\n",
        "# Change one line in this loop:\n",
        "for maybe_factor in range(1,upper_limit):\n",
        "    if n % (maybe_factor**2) == 0:\n",
        "        max_factor = maybe_factor\n",
        "\n",
        "# Keep this print statement:\n",
        "print(max_factor**2)\n",
        "\n",
        "\n",
        "# Only change code above this line\n",
        "import math_code_test_a as test\n",
        "test.step18(In[-1].split('# Only change code above this line')[0])"
      ],
      "execution_count": null,
      "outputs": [
        {
          "output_type": "stream",
          "name": "stdout",
          "text": [
            "Enter an integer to find the greatest square factor: 23\n",
            "1\n",
            " \n",
            "Code test passed\n",
            "Go on to the next step\n"
          ]
        }
      ]
    },
    {
      "cell_type": "markdown",
      "metadata": {
        "id": "a6Kr7wKq4SBP"
      },
      "source": [
        "# Step 19 - Dividing out Factors"
      ]
    },
    {
      "cell_type": "markdown",
      "metadata": {
        "id": "dlB9GF164SBP"
      },
      "source": [
        "Building upon your code from the previous step, this code will divide out the greatest square factor of a number. You don't need to change anything; just run the code below a few times, inputting different numbers each time."
      ]
    },
    {
      "cell_type": "code",
      "metadata": {
        "id": "0KCr-ImL4SBQ",
        "colab": {
          "base_uri": "https://localhost:8080/"
        },
        "outputId": "5c409b8b-7300-454b-ec40-9dd20a637c51"
      },
      "source": [
        "import math\n",
        "\n",
        "n = int(input('Enter an integer to factor: '))\n",
        "upper_limit = math.floor(math.sqrt(n)) + 1\n",
        "square_root = 1\n",
        "max_factor = 1\n",
        "other_factor = 1\n",
        "\n",
        "# Notice what the loop is doing here\n",
        "for maybe_factor in range(1, upper_limit):\n",
        "    # Check for square factors\n",
        "    if n % (maybe_factor**2) == 0:\n",
        "        # Find the greatest square factor\n",
        "        max_factor = maybe_factor**2\n",
        "\n",
        "# Divide out the greatest square factor\n",
        "other_factor = n/max_factor\n",
        "\n",
        "# Display the results\n",
        "print(\"\", n, \" = \", max_factor, \" * \", other_factor)\n",
        "\n",
        "\n",
        "# Only change code above this line\n",
        "import math_code_test_a as test\n",
        "test.step19()"
      ],
      "execution_count": null,
      "outputs": [
        {
          "output_type": "stream",
          "name": "stdout",
          "text": [
            "Enter an integer to factor: 5346548534212\n",
            " 5346548534212  =  4  *  1336637133553.0\n",
            "\n",
            " Test passed. You can go on to the next step.\n"
          ]
        }
      ]
    },
    {
      "cell_type": "markdown",
      "metadata": {
        "id": "IIb5MHzI4TAU"
      },
      "source": [
        "# Step 20 - Factoring Square Roots"
      ]
    },
    {
      "cell_type": "markdown",
      "metadata": {
        "id": "F9mLn2vR4TAU"
      },
      "source": [
        "The last four steps prepared you for this. To factor a square root, you want to divide out any perfect square factors. For example:<br>\n",
        " $\\sqrt{12}$ = $\\sqrt{4 * 3}$ = 2$\\sqrt{3}$<br>\n",
        "Because 4 is a square number, the square root of 4 is now outside the radical.\n",
        "You will import `sympy` and `symbols` to use the radical ($\\sqrt{x}$) in the output. Use the code from the previous step (without changing much). Your goal is to ask for a number and output the factored square root. The radical formatting (using sympy and symbols) is already done for you."
      ]
    },
    {
      "cell_type": "code",
      "metadata": {
        "id": "ucg7J-8m4TAU"
      },
      "source": [
        "import math\n",
        "import sympy\n",
        "from sympy import symbols\n",
        "\n",
        "n = int(input('Without the radical, enter a square root to factor: '))\n",
        "\n",
        "# Use these variables\n",
        "upper_limit = math.floor(math.sqrt(n)) + 1\n",
        "max_factor = 1\n",
        "other_factor = 1\n",
        "square_root = 1\n",
        "\n",
        "# Notice what the loop is doing here\n",
        "for maybe_factor in range(1, upper_limit):\n",
        "    if n % (maybe_factor**2) == 0:\n",
        "        max_factor = maybe_factor**2\n",
        "\n",
        "# Divide out the greatest square factor\n",
        "other_factor = n/max_factor\n",
        "\n",
        "# Output - keep this:\n",
        "square_root = int(math.sqrt(max_factor))\n",
        "other_factor = int(other_factor)\n",
        "output = square_root*sympy.sqrt(other_factor)\n",
        "\n",
        "\n",
        "# Only change code above this line\n",
        "import math_code_test_a as test\n",
        "test.step20()\n",
        "output"
      ],
      "execution_count": null,
      "outputs": []
    },
    {
      "cell_type": "markdown",
      "metadata": {
        "id": "4VnLdwgZ4WHz"
      },
      "source": [
        "# Step 21 - Rounding"
      ]
    },
    {
      "cell_type": "markdown",
      "metadata": {
        "id": "3fxJA-yI4WH0"
      },
      "source": [
        "If you only want a certain number of decimal places, use the `round()` function. This takes two arguments: the number to round and the number of decimal places, so `round(2.468, 2)` will return `2.47`. To round a large number instead of a decimal number, make the second argument negative, so `round(2345, -3)` will return `2000`. Finish the code below so that it prints the first number rounded to the nearest million (six zeros) and the second number rounded to 3 decimal places."
      ]
    },
    {
      "cell_type": "code",
      "metadata": {
        "id": "4n4mYI554WH0",
        "colab": {
          "base_uri": "https://localhost:8080/"
        },
        "outputId": "adc5d8af-383b-4f7f-ffc2-b457daf1e297"
      },
      "source": [
        "a = 14588132\n",
        "b = 0.006538298336\n",
        "\n",
        "# Write your code here\n",
        "print(round(a, -6))\n",
        "print(round(b, 3))\n",
        "\n",
        "\n",
        "\n",
        "# Only change code above this line\n",
        "import math_code_test_a as test\n",
        "test.step21(In[-1].split('# Only change code above this line')[0])"
      ],
      "execution_count": null,
      "outputs": [
        {
          "output_type": "stream",
          "name": "stdout",
          "text": [
            "15000000\n",
            "0.007\n",
            " \n",
            "Code test passed\n",
            "Go on to the next step\n"
          ]
        }
      ]
    },
    {
      "cell_type": "markdown",
      "source": [
        "#Step 22 - Fractions, Decimals, Percents"
      ],
      "metadata": {
        "id": "cVC_ENRHfIP4"
      }
    },
    {
      "cell_type": "markdown",
      "source": [
        "To convert a decimal number to a fraction, let $x$ = the number of decimal places. The basic fraction is the number (without the decimal point) over 10$^{x}$. Example: 0.2 = $\\frac{2}{10}$ and 0.34 = $\\frac{34}{100}$ and 0.567 = $\\frac{567}{1000}$. In some cases, you may be able to reduce that fraction. Because \"percent\" means \"out of 100\" the percent refers to the first two decimal places. Complete the code to ask for a decimal input, then print the fraction and the percent. Hint: The `exponent` variable gives you the number of decimal places."
      ],
      "metadata": {
        "id": "8cZnGQO4fWzS"
      }
    },
    {
      "cell_type": "code",
      "source": [
        "import math\n",
        "\n",
        "digits = input(\"Enter a decimal number to convert: \")\n",
        "exponent = int(len(digits))-1\n",
        "n = float(digits)\n",
        "\n",
        "# Change the values of these three variables\n",
        "numerator = int(n*10**exponent)\n",
        "denominator = 10**exponent\n",
        "percent = n*100\n",
        "\n",
        "# Output - keep this\n",
        "print(\"The decimal is \", n)\n",
        "print(\"The fraction is \", numerator, \"/\", denominator)\n",
        "print(\"The percent is \", percent, \" %\")\n",
        "\n",
        "\n",
        "# Only change code above this line\n",
        "import math_code_test_a as test\n",
        "test.step22(n,numerator,denominator,percent,exponent)"
      ],
      "metadata": {
        "id": "HPyBoXwNfhWQ",
        "colab": {
          "base_uri": "https://localhost:8080/"
        },
        "outputId": "be4d21e8-17a4-41a5-a9d3-e40fe5fc0faa"
      },
      "execution_count": null,
      "outputs": [
        {
          "output_type": "stream",
          "name": "stdout",
          "text": [
            "Enter a decimal number to convert: .12\n",
            "The decimal is  0.12\n",
            "The fraction is  12 / 100\n",
            "The percent is  12.0  %\n",
            " \n",
            "Code test passed\n",
            "Go on to the next step\n"
          ]
        }
      ]
    },
    {
      "cell_type": "markdown",
      "source": [
        "#Step 23 - Defining a Function"
      ],
      "metadata": {
        "id": "Llx2Kaau8Dsz"
      }
    },
    {
      "cell_type": "markdown",
      "source": [
        "To execute a block of code with one command, define a <i>function</i> with the `def` command and the name of the function. Notice everything in the function is indented 4 spaces. Run the following code to see an example. Then change the function name to `fun()` and also change the name where you call the function. Run the code again."
      ],
      "metadata": {
        "id": "PUjA2-X_8OER"
      }
    },
    {
      "cell_type": "code",
      "source": [
        "# Define a function\n",
        "def fun():\n",
        "    print(\"This is in the function\")\n",
        "\n",
        "# Other code not in the function\n",
        "print(\"This is outside the function\")\n",
        "\n",
        "# Call the function\n",
        "fun()\n",
        "\n",
        "print(\"Back outside the function\")\n",
        "\n",
        "# Only change code above this line\n",
        "import math_code_test_a as test\n",
        "test.step23(In[-1].split('# Only change code above this line')[0])"
      ],
      "metadata": {
        "id": "5xeG1__m8h1P",
        "colab": {
          "base_uri": "https://localhost:8080/"
        },
        "outputId": "6ae76402-b1e5-458e-cce8-34d264e75009"
      },
      "execution_count": null,
      "outputs": [
        {
          "output_type": "stream",
          "name": "stdout",
          "text": [
            "This is outside the function\n",
            "This is in the function\n",
            "Back outside the function\n",
            " \n",
            "Code test passed\n",
            "Go on to the next step\n"
          ]
        }
      ]
    },
    {
      "cell_type": "markdown",
      "source": [
        "# Step 24 - Function with Input"
      ],
      "metadata": {
        "id": "tMa9hDVL85sl"
      }
    },
    {
      "cell_type": "markdown",
      "source": [
        "A <i>function</i> can take input (called an \"argument\") and do something with that input. Use `def` to define the function, and include a variable in the parentheses to represent the argument. Indent everything that is a part of the function. When calling the function, pass the argument to it in the parentheses. Run the following code to see this example. Then change the `input()` variable name to `nombre` and also change that variable name in the argument when you call the function. Run the code again."
      ],
      "metadata": {
        "id": "EHxRLGSz9JqT"
      }
    },
    {
      "cell_type": "code",
      "source": [
        "# Define a function\n",
        "def greeting(name):\n",
        "    print(\"Hello \", name)\n",
        "\n",
        "nombre = input(\"What is your name? \\n\")\n",
        "\n",
        "# Call the function\n",
        "greeting(nombre)\n",
        "\n",
        "# Only change code above this line\n",
        "import math_code_test_a as test\n",
        "test.step24(In[-1].split('# Only change code above this line')[0])"
      ],
      "metadata": {
        "id": "RDI_QfDQ9R_q",
        "colab": {
          "base_uri": "https://localhost:8080/"
        },
        "outputId": "27487413-33da-49c5-b0d7-674e0197e9ee"
      },
      "execution_count": null,
      "outputs": [
        {
          "output_type": "stream",
          "name": "stdout",
          "text": [
            "What is your name? \n",
            "Daniel\n",
            "Hello  Daniel\n",
            " \n",
            "Code test passed\n",
            "You can go on to the next step\n"
          ]
        }
      ]
    },
    {
      "cell_type": "markdown",
      "source": [
        "#Step 25 - Function with Two Inputs"
      ],
      "metadata": {
        "id": "d1WVETzF9-Dv"
      }
    },
    {
      "cell_type": "markdown",
      "source": [
        "To pass more than one argument to a function, separate the arguments with commas. Run the code to see the example, then add a third argument to the function and run it again. The `third` variable is already in the code. Change three lines of code to use that variable: (1) the argument when you call the function, (2) the argument when you define the function, (3) the `sum` line within in the function definition."
      ],
      "metadata": {
        "id": "VYhQLZsV-FSr"
      }
    },
    {
      "cell_type": "code",
      "source": [
        "# Define function\n",
        "def add(a,b,c):\n",
        "  # Use c for the third variable\n",
        "  sum = a+b+c\n",
        "  print(\"The sum is \", sum)\n",
        "\n",
        "first = float(input(\"Enter a number: \\n\"))\n",
        "second= float(input(\"Enter another number: \\n\"))\n",
        "third = 3\n",
        "\n",
        "# Call the function\n",
        "add(first,second, third)\n",
        "\n",
        "# Only change code above this line\n",
        "import math_code_test_a as test\n",
        "test.step25(In[-1].split('# Only change code above this line')[0])"
      ],
      "metadata": {
        "id": "0OGuCCOz_VsV",
        "colab": {
          "base_uri": "https://localhost:8080/"
        },
        "outputId": "e5bb366c-a3f6-4a4a-9ed1-580bdc26d933"
      },
      "execution_count": null,
      "outputs": [
        {
          "output_type": "stream",
          "name": "stdout",
          "text": [
            "Enter a number: \n",
            "23\n",
            "Enter another number: \n",
            "24\n",
            "The sum is  50.0\n",
            " \n",
            "Code test passed\n",
            "You can go on to the next step\n"
          ]
        }
      ]
    },
    {
      "cell_type": "markdown",
      "source": [
        "#Step 26 - Function with Return Value"
      ],
      "metadata": {
        "id": "xmlkOkEc-iqL"
      }
    },
    {
      "cell_type": "markdown",
      "source": [
        "Instead of including a `print()` statement within the function, the function can `return` a value right where you call it. To make the function return a value, use the `return` statement. Run the following code to see an example, then change the `return` statement to multiply by 3 instead of 2 and run the code again."
      ],
      "metadata": {
        "id": "KdLW1Msd-pPg"
      }
    },
    {
      "cell_type": "code",
      "source": [
        "# define the function\n",
        "def multiplied(number):\n",
        "    return number*3\n",
        "\n",
        "a = float(input(\"Enter a number: \\n\"))\n",
        "print(\"Your number multiplied = \", multiplied(a))\n",
        "\n",
        "\n",
        "# Only change code above this line\n",
        "import math_code_test_a as test\n",
        "test.step26(In[-1].split('# Only change code above this line')[0])"
      ],
      "metadata": {
        "id": "4JELM_kc-zMP",
        "colab": {
          "base_uri": "https://localhost:8080/"
        },
        "outputId": "3d2b5876-d9c6-4983-acde-b7296b563f2e"
      },
      "execution_count": null,
      "outputs": [
        {
          "output_type": "stream",
          "name": "stdout",
          "text": [
            "Enter a number: \n",
            "9\n",
            "Your number multiplied =  27.0\n",
            " \n",
            "Code test passed\n",
            "You can go on to the next step\n"
          ]
        }
      ]
    },
    {
      "cell_type": "markdown",
      "metadata": {
        "id": "98oHO4mh4X3e"
      },
      "source": [
        "# Step 27 - Solving for x"
      ]
    },
    {
      "cell_type": "markdown",
      "metadata": {
        "id": "jYh9MRv24X3e"
      },
      "source": [
        "In Algebra, `X` often refers to the unknown number in an equation. To find the value of `x` we use algebra rules to get to `x = ` [some number]. SymPy is a Python library to work with symbolic math. The following code works to solve an equation set equal to zero. Run the code and remember to use Python syntax to enter an equation (with \"x\" as the variable) and see the solution."
      ]
    },
    {
      "cell_type": "code",
      "metadata": {
        "id": "H4HFJdc34X3e",
        "colab": {
          "base_uri": "https://localhost:8080/",
          "height": 406
        },
        "outputId": "c4e10b42-9849-4390-81e7-9379248adf50"
      },
      "source": [
        "import sympy\n",
        "from sympy import symbols\n",
        "from sympy.solvers import solve\n",
        "\n",
        "x = symbols('x')\n",
        "\n",
        "eq = input('Enter an equation to solve for x: 0 = ')\n",
        "\n",
        "print(\"x = \", solve(eq,x)[0])\n",
        "\n",
        "\n",
        "# Only change code above this line\n",
        "import math_code_test_a as test\n",
        "test.step27(In[-1].split('# Only change code above this line')[0])\n"
      ],
      "execution_count": null,
      "outputs": [
        {
          "output_type": "stream",
          "name": "stdout",
          "text": [
            "Enter an equation to solve for x: 0 = 32*x-3+4/2\n",
            "x =  1/32\n"
          ]
        },
        {
          "output_type": "error",
          "ename": "ModuleNotFoundError",
          "evalue": "ignored",
          "traceback": [
            "\u001b[0;31m---------------------------------------------------------------------------\u001b[0m",
            "\u001b[0;31mModuleNotFoundError\u001b[0m                       Traceback (most recent call last)",
            "\u001b[0;32m<ipython-input-20-826ca2c9f25b>\u001b[0m in \u001b[0;36m<cell line: 13>\u001b[0;34m()\u001b[0m\n\u001b[1;32m     11\u001b[0m \u001b[0;34m\u001b[0m\u001b[0m\n\u001b[1;32m     12\u001b[0m \u001b[0;31m# Only change code above this line\u001b[0m\u001b[0;34m\u001b[0m\u001b[0;34m\u001b[0m\u001b[0m\n\u001b[0;32m---> 13\u001b[0;31m \u001b[0;32mimport\u001b[0m \u001b[0mmath_code_test_a\u001b[0m \u001b[0;32mas\u001b[0m \u001b[0mtest\u001b[0m\u001b[0;34m\u001b[0m\u001b[0;34m\u001b[0m\u001b[0m\n\u001b[0m\u001b[1;32m     14\u001b[0m \u001b[0mtest\u001b[0m\u001b[0;34m.\u001b[0m\u001b[0mstep27\u001b[0m\u001b[0;34m(\u001b[0m\u001b[0mIn\u001b[0m\u001b[0;34m[\u001b[0m\u001b[0;34m-\u001b[0m\u001b[0;36m1\u001b[0m\u001b[0;34m]\u001b[0m\u001b[0;34m.\u001b[0m\u001b[0msplit\u001b[0m\u001b[0;34m(\u001b[0m\u001b[0;34m'# Only change code above this line'\u001b[0m\u001b[0;34m)\u001b[0m\u001b[0;34m[\u001b[0m\u001b[0;36m0\u001b[0m\u001b[0;34m]\u001b[0m\u001b[0;34m)\u001b[0m\u001b[0;34m\u001b[0m\u001b[0;34m\u001b[0m\u001b[0m\n",
            "\u001b[0;31mModuleNotFoundError\u001b[0m: No module named 'math_code_test_a'",
            "",
            "\u001b[0;31m---------------------------------------------------------------------------\u001b[0;32m\nNOTE: If your import is failing due to a missing package, you can\nmanually install dependencies using either !pip or !apt.\n\nTo view examples of installing some common dependencies, click the\n\"Open Examples\" button below.\n\u001b[0;31m---------------------------------------------------------------------------\u001b[0m\n"
          ],
          "errorDetails": {
            "actions": [
              {
                "action": "open_url",
                "actionText": "Open Examples",
                "url": "/notebooks/snippets/importing_libraries.ipynb"
              }
            ]
          }
        }
      ]
    },
    {
      "cell_type": "markdown",
      "source": [
        "# Step 28 - Make your own Functions"
      ],
      "metadata": {
        "id": "xtI0kyR3RpFw"
      }
    },
    {
      "cell_type": "markdown",
      "source": [
        "Building upon what you did in previous steps, define a different function for each of the following:<br>\n",
        "<ul>\n",
        "  <li>Add, subtract, multiply, divide</li>\n",
        "  <li>Detect prime numbers</li>\n",
        "  <li>Generate prime factors of a number</li>\n",
        "  <li>Simplify square roots</li>\n",
        "  <li>Solve for a variable</li>\n",
        "</ul>\n",
        "Each function should prompt the user with a question, take input, and output the answer."
      ],
      "metadata": {
        "id": "j9jLJyL-Q5T9"
      }
    },
    {
      "cell_type": "code",
      "source": [
        "# Write your code here\n",
        "def addition():\n",
        "  number_array = []\n",
        "  print('Enter a number for addition, if you\\'ve added all the numbers you like, press enter to see the result.')\n",
        "  currentEquation = ''\n",
        "  while True:\n",
        "    number = input('Enter a number: ')\n",
        "    if number == '':\n",
        "      break\n",
        "    else:\n",
        "      try:\n",
        "        number_array.append(float(number))\n",
        "        if len(number_array) > 1:\n",
        "          currentEquation += '+'\n",
        "        currentEquation += str(number)\n",
        "      except:\n",
        "        print('Please enter a valid number')\n",
        "    print(currentEquation)\n",
        "\n",
        "  return 'The result is ' + str(sum(number_array))\n",
        "\n",
        "def subtraction():\n",
        "  number_array = []\n",
        "  initialNumber = None\n",
        "  print('Enter a number to subtract from and then numbers you want to subtract. If you\\'re done press enter to see the result.')\n",
        "  currentEquation = ''\n",
        "  while True:\n",
        "    if initialNumber == None:\n",
        "      initialNumber = float(input('Enter a number to subtract from.'))\n",
        "      currentEquation += str(initialNumber)\n",
        "      print('You chose', initialNumber)\n",
        "      continue\n",
        "\n",
        "    else:\n",
        "      number = input('Enter a number: ')\n",
        "\n",
        "    if number == '':\n",
        "      break\n",
        "    else:\n",
        "      try:\n",
        "        number_array.append(float(number))\n",
        "\n",
        "        if len(number_array) > 0:\n",
        "          currentEquation += '-'\n",
        "        currentEquation += str(number)\n",
        "      except:\n",
        "        print('Please enter a valid number')\n",
        "    print(currentEquation)\n",
        "  result = float(initialNumber)\n",
        "  for num in number_array:\n",
        "    result -= num\n",
        "  return 'The result is ' + str(result)\n",
        "\n",
        "\n",
        "def multiply():\n",
        "  number_array = []\n",
        "  print('Enter a number for multiplying, if you\\'ve added all the numbers you like, press enter to see the result.')\n",
        "  currentEquation = ''\n",
        "  while True:\n",
        "    number = input('Enter a number: ')\n",
        "\n",
        "    if number == '':\n",
        "      break\n",
        "    else:\n",
        "      try:\n",
        "        number_array.append(float(number))\n",
        "\n",
        "        if len(number_array) > 1:\n",
        "          currentEquation += '*'\n",
        "        currentEquation += str(number)\n",
        "      except:\n",
        "        print('Please enter a valid number')\n",
        "    print(currentEquation)\n",
        "  result = 1\n",
        "  for num in number_array:\n",
        "    result *= num\n",
        "  return 'The result is ' + str(result)\n",
        "\n",
        "def divide():\n",
        "  number_array = []\n",
        "  result = None\n",
        "  print('Enter a number for dividing, if you\\'ve added all the numbers you like, press enter to see the result.')\n",
        "  currentEquation = ''\n",
        "  while True:\n",
        "    number = input('Enter a number: ')\n",
        "    if result == None:\n",
        "      result = float(number)\n",
        "      currentEquation += str(result)\n",
        "      continue\n",
        "\n",
        "    if number == '':\n",
        "      break\n",
        "\n",
        "    else:\n",
        "      try:\n",
        "        number_array.append(float(number))\n",
        "\n",
        "        if len(number_array) > 0:\n",
        "          currentEquation += '/'\n",
        "        currentEquation += str(number)\n",
        "      except:\n",
        "        print('Please enter a valid number')\n",
        "    print(currentEquation)\n",
        "  for num in number_array:\n",
        "    result = result / num\n",
        "  return 'The result is ' + str(result)\n",
        "\n",
        "# This step does not have test"
      ],
      "metadata": {
        "id": "AmJ1EPih__sn"
      },
      "execution_count": null,
      "outputs": []
    },
    {
      "cell_type": "code",
      "source": [
        "import math\n",
        "import sympy\n",
        "from sympy import symbols\n",
        "from sympy import *\n",
        "from sympy.solvers import solve\n",
        "import re\n",
        "\n",
        "\n",
        "def basic_math():\n",
        "  operators = {\n",
        "      1: 'Addition',\n",
        "      2: 'Subtraction',\n",
        "      3: 'Multiplication',\n",
        "      4: 'Dividing'}\n",
        "  print('What would you like to do?')\n",
        "  print('1. Add\\n2. Subtract\\n3. Multiply\\n4. Divide')\n",
        "  while True:\n",
        "    try:\n",
        "     userChoice = int(input('Pick one: '))\n",
        "     if userChoice > 0 and userChoice < 5:\n",
        "       break\n",
        "    except:\n",
        "      print('You didn\\'t enter a number.')\n",
        "      continue\n",
        "    print('Please pick a valid number')\n",
        "\n",
        "\n",
        "  print('You chose {}!'.format(operators[userChoice]))\n",
        "\n",
        "  while True:\n",
        "    try:\n",
        "      firstNum = float(input('Enter the first number: '))\n",
        "      break\n",
        "    except:\n",
        "      print('You didn\\'t enter a number.')\n",
        "      continue\n",
        "  while True:\n",
        "   try:\n",
        "    secondNum = float(input('Enter the second number: '))\n",
        "    break\n",
        "   except:\n",
        "      print('You didn\\'t enter a number.')\n",
        "      continue\n",
        "  if userChoice == 1:\n",
        "    result = firstNum + secondNum\n",
        "  elif userChoice == 2:\n",
        "    result = firstNum - secondNum\n",
        "  elif userChoice == 3:\n",
        "    result = firstNum * secondNum\n",
        "  elif userChoice == 4:\n",
        "    result = firstNum / secondNum\n",
        "  print('The result is {}'.format(result))\n",
        "\n",
        "\n",
        "\n",
        "def is_prime():\n",
        "  while True:\n",
        "    try:\n",
        "      number = int(input('Enter a whole number: '))\n",
        "      break\n",
        "    except:\n",
        "      print('Please enter a number.')\n",
        "  result = '{} is a prime number.'.format(number)\n",
        "  for factor in range(2, number):\n",
        "    if number % factor == 0:\n",
        "      result = '{} is not a prime number.'.format(number)\n",
        "      break\n",
        "  print(result)\n",
        "\n",
        "def find_prime_factors():\n",
        "  list_of_prime_factors = []\n",
        "  while True:\n",
        "    try:\n",
        "      number = int(input('Enter a whole number: '))\n",
        "      break\n",
        "    except:\n",
        "      print('Please enter a valid number.')\n",
        "  stagingNumber = number\n",
        "\n",
        "\n",
        "  for factor in range(2, math.floor((number + 1) / 2)):\n",
        "    not_prime = False\n",
        "    for miniFactor in range(2, math.floor((factor + 1) /2)):\n",
        "      if factor % miniFactor == 0:\n",
        "        not_prime = True\n",
        "        break\n",
        "    if not_prime is True:\n",
        "      continue\n",
        "    if stagingNumber % factor == 0:\n",
        "      while stagingNumber % factor == 0:\n",
        "        stagingNumber = stagingNumber / factor\n",
        "        list_of_prime_factors.append(factor)\n",
        "    if stagingNumber == 1:\n",
        "      break\n",
        "  result = '{} in prime factorization is '.format(number)\n",
        "  for prime_factor in list_of_prime_factors:\n",
        "    result += str(prime_factor) + '*'\n",
        "\n",
        "  if len(list_of_prime_factors) == 0:\n",
        "    print('{} is a prime number'.format(number))\n",
        "  else:\n",
        "    print(result[:-1])\n",
        "\n",
        "\n",
        "\n",
        "def factor_square_root():\n",
        "  while True:\n",
        "    try:\n",
        "      number = int(input('Enter a number without the radical: '))\n",
        "      break\n",
        "    except:\n",
        "      print('Please enter a valid number.')\n",
        "\n",
        "  upper_limit = math.floor(math.sqrt(number) + 1)\n",
        "  max_factor = 1\n",
        "  other_factor = 1\n",
        "  square_root = 1\n",
        "\n",
        "  for maybe_factor in range(1, upper_limit):\n",
        "      if number % (maybe_factor**2) == 0:\n",
        "          max_factor = maybe_factor**2\n",
        "\n",
        "  other_factor = number/max_factor\n",
        "\n",
        "  square_root = int(math.sqrt(max_factor))\n",
        "  other_factor = int(other_factor)\n",
        "  output = square_root*sympy.sqrt(other_factor)\n",
        "  print(output)\n",
        "\n",
        "def solve_variable():\n",
        "  equation = input('Enter an equation: ')\n",
        "  variableDict = {}\n",
        "  variables_from_equation = re.findall('[A-Za-z]', equation)\n",
        "  sympy_vars = var(' '.join(variables_from_equation))\n",
        "\n",
        "  for index, variable in enumerate(variables_from_equation):\n",
        "    variableDict[variable] = sympy_vars[index]\n",
        "\n",
        "  solveFor = input('Which variable do you want to solve for? ')\n",
        "  answers = solve(equation, variableDict[solveFor])\n",
        "  print('Possible Solutions:')\n",
        "\n",
        "  for answer in answers:\n",
        "    print('{} = '.format(solveFor), answer)\n",
        "\n",
        "\n",
        "def solve_proportions():\n",
        "  known_proportion = input('Enter the known proportion (ex. 23/7): ')\n",
        "  firstNumber = float(known_proportion.split('/')[0])\n",
        "  secondNumber = float(known_proportion.split('/')[1])\n",
        "\n",
        "  unknown_proportion = input('Enter the unknown proportion, one of the numbers should be 0 (ex. 0/7 or 7/0)')\n",
        "  unknown_prop_one = float(unknown_proportion.split('/')[0])\n",
        "  unknown_prop_two = float(unknown_proportion.split('/')[1])\n",
        "\n",
        "  if unknown_prop_one == 0:\n",
        "    answer = unknown_prop_two * firstNumber / secondNumber\n",
        "    print('The proportion is {}/{}'.format(answer, unknown_prop_two))\n",
        "  elif unknown_prop_two == 0:\n",
        "    answer = unknown_prop_one * secondNumber / firstNumber\n",
        "    print('The proportion is {}/{}'.format(unknown_prop_one, answer))\n",
        "\n",
        "\n",
        "\n",
        "def convert_decimal():\n",
        "  digits = input('Enter a decimal: ')\n",
        "  exponent = len(digits) - 1\n",
        "  decimal = float(digits)\n",
        "\n",
        "  numerator = int(decimal * 10**exponent)\n",
        "  denominator = 10**exponent\n",
        "  percent = round(decimal * 100, 2)\n",
        "\n",
        "  print('The decimal is {}.\\nThe fraction is {}/{}.\\nThe percent is {}%.'.format(decimal, numerator, denominator, percent))\n",
        "\n",
        "def convert_fraction():\n",
        "  fraction = input('Enter a fraction (ex. 3/7): ')\n",
        "  numerator = int(fraction.split('/')[0])\n",
        "  denominator = int(fraction.split('/')[1])\n",
        "\n",
        "  decimal = numerator / denominator\n",
        "  percent = round(numerator / denominator * 100)\n",
        "\n",
        "  print('The fraction is {}.\\nThe decimal is {}.\\nThe percent is {}%.'.format(fraction, decimal, percent))\n",
        "\n",
        "def convert_percent():\n",
        "  percent = input('Enter a percent value without the % sign: ')\n",
        "  decimal = float(percent) / 100\n",
        "  exponent = len(str(decimal)) -1\n",
        "\n",
        "  numerator = int(decimal * 10**exponent)\n",
        "  denominator = int(10**exponent)\n",
        "\n",
        "  print('The percent is {}%.\\nThe decimal is {}.\\nThe fraction is {}/{}.'.format(percent, decimal, numerator, denominator))\n",
        "\n"
      ],
      "metadata": {
        "id": "wmtRDDigPrXZ"
      },
      "execution_count": null,
      "outputs": []
    },
    {
      "cell_type": "code",
      "source": [
        "import sympy\n",
        "from sympy import symbols\n",
        "from sympy.solvers import solve\n",
        "\n",
        "def solve_variable():\n",
        "  equation = input('Enter an equation')\n",
        "  variableDict = {}\n",
        "  variables_from_equation = re.findall('[A-Za-z]', equation)\n",
        "  sympy_vars = var(' '.join(variables_from_equation))\n",
        "  for index, variable in enumerate(variables_from_equation):\n",
        "    variableDict[variable] = sympy_vars[index]\n",
        "  solveFor = input('Which variable do you want to solve for? ')\n",
        "  print(\"{} = \".format(solveFor), solve(equation, variableDict[solveFor]))\n"
      ],
      "metadata": {
        "id": "xenEaXlE_2pd"
      },
      "execution_count": null,
      "outputs": []
    },
    {
      "cell_type": "markdown",
      "source": [
        "# Step 29 - Create a Menu"
      ],
      "metadata": {
        "id": "lgqRbYTWTIst"
      }
    },
    {
      "cell_type": "markdown",
      "source": [
        "Use print statements to create a menu that displays a numbered list of options. Then prompt for user input to choose an option. Use an `if` statement to print a different message for each option in the menu."
      ],
      "metadata": {
        "id": "12Ki56SNR4te"
      }
    },
    {
      "cell_type": "code",
      "source": [
        "# Write your code here\n",
        "\n",
        "def calculator():\n",
        "  print('Hello! What would you like to do?\\n1. Add\\n2. Subtract\\n3. Multiply\\n4. Divide\\n5. Detect Prime Numbers\\n6. Prime Factorization\\n7. Simplify square roots\\n8. Solve for A variable')\n",
        "  while True:\n",
        "    userChoice = input('Enter the number of the menu item you\\'d like to choose\\n')\n",
        "    try:\n",
        "      userInt = int(userChoice)\n",
        "      if userInt not in range(1,9):\n",
        "        print('Please enter a number from the list.')\n",
        "        continue\n",
        "      break\n",
        "    except:\n",
        "      print('Please enter a number.')\n",
        "\n",
        "\n",
        "\n",
        "# This step does not have test\n",
        "calculator()"
      ],
      "metadata": {
        "id": "bEy0V41ASSjX",
        "colab": {
          "base_uri": "https://localhost:8080/"
        },
        "outputId": "716c0ce9-71b6-4abe-cd9d-19355436e473"
      },
      "execution_count": null,
      "outputs": [
        {
          "name": "stdout",
          "output_type": "stream",
          "text": [
            "Hello! What would you like to do?\n",
            "1. Add\n",
            "2. Subtract\n",
            "3. Multiply\n",
            "4. Divide\n",
            "5. Detect Prime Numbers\n",
            "6. Prime Factorization\n",
            "7. Simplify square roots\n",
            "8. Solve for A variable\n",
            "Enter the number of the menu item you'd like to choose\n",
            "3\n"
          ]
        }
      ]
    },
    {
      "cell_type": "markdown",
      "source": [
        "# Step 30 - Certification Project 1"
      ],
      "metadata": {
        "id": "HHSMmc2yUa3N"
      }
    },
    {
      "cell_type": "markdown",
      "source": [
        "Now put it all together to build a multi-function calculator. Use the menu and the functions you created in the previous steps. Define one more function of your own. Create the menu so that the user input will run a function."
      ],
      "metadata": {
        "id": "Om-8B7mRTShM"
      }
    },
    {
      "cell_type": "code",
      "source": [
        "import math\n",
        "import sympy\n",
        "from sympy import symbols\n",
        "from sympy import *\n",
        "from sympy.solvers import solve\n",
        "import re\n",
        "\n",
        "\n",
        "def basic_math():\n",
        "  operators = {\n",
        "      1: 'Addition',\n",
        "      2: 'Subtraction',\n",
        "      3: 'Multiplication',\n",
        "      4: 'Dividing'}\n",
        "  print('What would you like to do?')\n",
        "  print('1. Add\\n2. Subtract\\n3. Multiply\\n4. Divide')\n",
        "  while True:\n",
        "    try:\n",
        "     userChoice = int(input('Pick one: '))\n",
        "     if userChoice > 0 and userChoice < 5:\n",
        "       break\n",
        "    except:\n",
        "      print('You didn\\'t enter a number.')\n",
        "      continue\n",
        "    print('Please pick a valid number')\n",
        "\n",
        "\n",
        "  print('You chose {}!'.format(operators[userChoice]))\n",
        "\n",
        "  while True:\n",
        "    try:\n",
        "      firstNum = float(input('Enter the first number: '))\n",
        "      break\n",
        "    except:\n",
        "      print('You didn\\'t enter a number.')\n",
        "      continue\n",
        "  while True:\n",
        "   try:\n",
        "    secondNum = float(input('Enter the second number: '))\n",
        "    break\n",
        "   except:\n",
        "      print('You didn\\'t enter a number.')\n",
        "      continue\n",
        "  if userChoice == 1:\n",
        "    result = firstNum + secondNum\n",
        "  elif userChoice == 2:\n",
        "    result = firstNum - secondNum\n",
        "  elif userChoice == 3:\n",
        "    result = firstNum * secondNum\n",
        "  elif userChoice == 4:\n",
        "    result = firstNum / secondNum\n",
        "  print('The result is {}'.format(result))\n",
        "\n",
        "\n",
        "\n",
        "def is_prime():\n",
        "  while True:\n",
        "    try:\n",
        "      number = int(input('Enter a whole number: '))\n",
        "      break\n",
        "    except:\n",
        "      print('Please enter a number.')\n",
        "  result = '{} is a prime number.'.format(number)\n",
        "  for factor in range(2, number):\n",
        "    if number % factor == 0:\n",
        "      result = '{} is not a prime number.'.format(number)\n",
        "      break\n",
        "  print(result)\n",
        "\n",
        "def find_prime_factors():\n",
        "  list_of_prime_factors = []\n",
        "  while True:\n",
        "    try:\n",
        "      number = int(input('Enter a whole number: '))\n",
        "      break\n",
        "    except:\n",
        "      print('Please enter a valid number.')\n",
        "  stagingNumber = number\n",
        "\n",
        "\n",
        "  for factor in range(2, math.floor((number + 1) / 2)):\n",
        "    not_prime = False\n",
        "    for miniFactor in range(2, math.floor((factor + 1) /2)):\n",
        "      if factor % miniFactor == 0:\n",
        "        not_prime = True\n",
        "        break\n",
        "    if not_prime is True:\n",
        "      continue\n",
        "    if stagingNumber % factor == 0:\n",
        "      while stagingNumber % factor == 0:\n",
        "        stagingNumber = stagingNumber / factor\n",
        "        list_of_prime_factors.append(factor)\n",
        "    if stagingNumber == 1:\n",
        "      break\n",
        "  result = '{} in prime factorization is '.format(number)\n",
        "  for prime_factor in list_of_prime_factors:\n",
        "    result += str(prime_factor) + '*'\n",
        "\n",
        "  if len(list_of_prime_factors) == 0:\n",
        "    print('{} is a prime number'.format(number))\n",
        "  else:\n",
        "    print(result[:-1])\n",
        "\n",
        "\n",
        "\n",
        "def factor_square_root():\n",
        "  while True:\n",
        "    try:\n",
        "      number = int(input('Enter a number without the radical: '))\n",
        "      break\n",
        "    except:\n",
        "      print('Please enter a valid number.')\n",
        "\n",
        "  upper_limit = math.floor(math.sqrt(number) + 1)\n",
        "  max_factor = 1\n",
        "  other_factor = 1\n",
        "  square_root = 1\n",
        "\n",
        "  for maybe_factor in range(1, upper_limit):\n",
        "      if number % (maybe_factor**2) == 0:\n",
        "          max_factor = maybe_factor**2\n",
        "\n",
        "  other_factor = number/max_factor\n",
        "\n",
        "  square_root = int(math.sqrt(max_factor))\n",
        "  other_factor = int(other_factor)\n",
        "  output = square_root*sympy.sqrt(other_factor)\n",
        "  print(output)\n",
        "\n",
        "def solve_variable():\n",
        "  equation = input('Enter an equation: ')\n",
        "  variableDict = {}\n",
        "  variables_from_equation = re.findall('[A-Za-z]', equation)\n",
        "  sympy_vars = var(' '.join(variables_from_equation))\n",
        "\n",
        "  for index, variable in enumerate(variables_from_equation):\n",
        "    variableDict[variable] = sympy_vars[index]\n",
        "\n",
        "  solveFor = input('Which variable do you want to solve for? ')\n",
        "  answers = solve(equation, variableDict[solveFor])\n",
        "  print('Possible Solutions:')\n",
        "\n",
        "  for answer in answers:\n",
        "    print('{} = '.format(solveFor), answer)\n",
        "\n",
        "\n",
        "def solve_proportions():\n",
        "  known_proportion = input('Enter the known proportion (ex. 23/7): ')\n",
        "  firstNumber = float(known_proportion.split('/')[0])\n",
        "  secondNumber = float(known_proportion.split('/')[1])\n",
        "\n",
        "  unknown_proportion = input('Enter the unknown proportion, one of the numbers should be 0 (ex. 0/7 or 7/0)')\n",
        "  unknown_prop_one = float(unknown_proportion.split('/')[0])\n",
        "  unknown_prop_two = float(unknown_proportion.split('/')[1])\n",
        "\n",
        "  if unknown_prop_one == 0:\n",
        "    answer = unknown_prop_two * firstNumber / secondNumber\n",
        "    print('The proportion is {}/{}'.format(answer, unknown_prop_two))\n",
        "  elif unknown_prop_two == 0:\n",
        "    answer = unknown_prop_one * secondNumber / firstNumber\n",
        "    print('The proportion is {}/{}'.format(unknown_prop_one, answer))\n",
        "\n",
        "\n",
        "\n",
        "def convert_decimal():\n",
        "  digits = input('Enter a decimal: ')\n",
        "  exponent = len(digits) - 1\n",
        "  decimal = float(digits)\n",
        "\n",
        "  numerator = int(decimal * 10**exponent)\n",
        "  denominator = 10**exponent\n",
        "  percent = round(decimal * 100, 2)\n",
        "\n",
        "  print('The decimal is {}.\\nThe fraction is {}/{}.\\nThe percent is {}%.'.format(decimal, numerator, denominator, percent))\n",
        "\n",
        "def convert_fraction():\n",
        "  fraction = input('Enter a fraction (ex. 3/7): ')\n",
        "  numerator = int(fraction.split('/')[0])\n",
        "  denominator = int(fraction.split('/')[1])\n",
        "\n",
        "  decimal = numerator / denominator\n",
        "  percent = round(numerator / denominator * 100)\n",
        "\n",
        "  print('The fraction is {}.\\nThe decimal is {}.\\nThe percent is {}%.'.format(fraction, decimal, percent))\n",
        "\n",
        "def convert_percent():\n",
        "  percent = input('Enter a percent value without the % sign: ')\n",
        "  decimal = float(percent) / 100\n",
        "  exponent = len(str(decimal)) -1\n",
        "\n",
        "  numerator = int(decimal * 10**exponent)\n",
        "  denominator = int(10**exponent)\n",
        "\n",
        "  print('The percent is {}%.\\nThe decimal is {}.\\nThe fraction is {}/{}.'.format(percent, decimal, numerator, denominator))\n",
        "\n",
        "\n",
        "# Write your code here\n",
        "def calculator():\n",
        "  print(\"\"\"\n",
        "What would you like to do?\n",
        "1. Add/Subtract/Multiply/Divide\n",
        "2. Detect Prime Numbers\n",
        "3. Prime Factorization\n",
        "4. Simplify square roots\n",
        "5. Solve for a variable\n",
        "6. Solve a Proportion\n",
        "7. Convert a Decimal\n",
        "8. Convert a Fraction\n",
        "9. Convert a Percentage\"\"\")\n",
        "  while True:\n",
        "    userChoice = input('Enter the number of the menu item you\\'d like to choose\\n')\n",
        "    try:\n",
        "      userInt = int(userChoice)\n",
        "      if userInt not in range(1,10):\n",
        "        print('Please enter a number from the list.')\n",
        "        continue\n",
        "      break\n",
        "    except:\n",
        "      print('Please enter a number.')\n",
        "\n",
        "  if userInt == 1:\n",
        "    basic_math()\n",
        "  elif userInt == 2:\n",
        "    is_prime()\n",
        "  elif userInt == 3:\n",
        "    find_prime_factors()\n",
        "  elif userInt == 4:\n",
        "    factor_square_root()\n",
        "  elif userInt == 5:\n",
        "    solve_variable()\n",
        "  elif userInt == 6:\n",
        "    solve_proportions()\n",
        "  elif userInt == 7:\n",
        "    convert_decimal()\n",
        "  elif userInt == 8:\n",
        "    convert_fraction()\n",
        "  elif userInt == 9:\n",
        "    convert_percent()\n",
        "\n",
        "  go_again = input('Would you like to do something else? Y/N ')\n",
        "  if go_again == 'Y' or go_again == 'y':\n",
        "    calculator()\n",
        "  else:\n",
        "    exit()\n",
        "\n",
        "\n",
        "# This step does not have test"
      ],
      "metadata": {
        "id": "vJruVEMwUWFX",
        "colab": {
          "base_uri": "https://localhost:8080/",
          "height": 588
        },
        "outputId": "d9a02965-129c-4d49-bc53-0f0b7289cee3"
      },
      "execution_count": null,
      "outputs": [
        {
          "output_type": "stream",
          "name": "stdout",
          "text": [
            "\n",
            "What would you like to do?\n",
            "1. Add/Subtract/Multiply/Divide\n",
            "2. Detect Prime Numbers\n",
            "3. Prime Factorization\n",
            "4. Simplify square roots\n",
            "5. Solve for a variable\n",
            "6. Solve a Proportion\n",
            "7. Convert a Decimal\n",
            "8. Convert a Fraction\n",
            "9. Convert a Percentage\n"
          ]
        },
        {
          "output_type": "error",
          "ename": "KeyboardInterrupt",
          "evalue": "ignored",
          "traceback": [
            "\u001b[0;31m---------------------------------------------------------------------------\u001b[0m",
            "\u001b[0;31mKeyboardInterrupt\u001b[0m                         Traceback (most recent call last)",
            "\u001b[0;32m<ipython-input-2-693f9a9ed487>\u001b[0m in \u001b[0;36m<cell line: 248>\u001b[0;34m()\u001b[0m\n\u001b[1;32m    246\u001b[0m \u001b[0;34m\u001b[0m\u001b[0m\n\u001b[1;32m    247\u001b[0m \u001b[0;31m# This step does not have test\u001b[0m\u001b[0;34m\u001b[0m\u001b[0;34m\u001b[0m\u001b[0m\n\u001b[0;32m--> 248\u001b[0;31m \u001b[0mcalculator\u001b[0m\u001b[0;34m(\u001b[0m\u001b[0;34m)\u001b[0m\u001b[0;34m\u001b[0m\u001b[0;34m\u001b[0m\u001b[0m\n\u001b[0m\u001b[1;32m    249\u001b[0m \u001b[0;34m\u001b[0m\u001b[0m\n\u001b[1;32m    250\u001b[0m \u001b[0;31m# This step does not have test\u001b[0m\u001b[0;34m\u001b[0m\u001b[0;34m\u001b[0m\u001b[0m\n",
            "\u001b[0;32m<ipython-input-2-693f9a9ed487>\u001b[0m in \u001b[0;36mcalculator\u001b[0;34m()\u001b[0m\n\u001b[1;32m    209\u001b[0m 9. Convert a Percentage\"\"\")\n\u001b[1;32m    210\u001b[0m   \u001b[0;32mwhile\u001b[0m \u001b[0;32mTrue\u001b[0m\u001b[0;34m:\u001b[0m\u001b[0;34m\u001b[0m\u001b[0;34m\u001b[0m\u001b[0m\n\u001b[0;32m--> 211\u001b[0;31m     \u001b[0muserChoice\u001b[0m \u001b[0;34m=\u001b[0m \u001b[0minput\u001b[0m\u001b[0;34m(\u001b[0m\u001b[0;34m'Enter the number of the menu item you\\'d like to choose\\n'\u001b[0m\u001b[0;34m)\u001b[0m\u001b[0;34m\u001b[0m\u001b[0;34m\u001b[0m\u001b[0m\n\u001b[0m\u001b[1;32m    212\u001b[0m     \u001b[0;32mtry\u001b[0m\u001b[0;34m:\u001b[0m\u001b[0;34m\u001b[0m\u001b[0;34m\u001b[0m\u001b[0m\n\u001b[1;32m    213\u001b[0m       \u001b[0muserInt\u001b[0m \u001b[0;34m=\u001b[0m \u001b[0mint\u001b[0m\u001b[0;34m(\u001b[0m\u001b[0muserChoice\u001b[0m\u001b[0;34m)\u001b[0m\u001b[0;34m\u001b[0m\u001b[0;34m\u001b[0m\u001b[0m\n",
            "\u001b[0;32m/usr/local/lib/python3.10/dist-packages/ipykernel/kernelbase.py\u001b[0m in \u001b[0;36mraw_input\u001b[0;34m(self, prompt)\u001b[0m\n\u001b[1;32m    849\u001b[0m                 \u001b[0;34m\"raw_input was called, but this frontend does not support input requests.\"\u001b[0m\u001b[0;34m\u001b[0m\u001b[0;34m\u001b[0m\u001b[0m\n\u001b[1;32m    850\u001b[0m             )\n\u001b[0;32m--> 851\u001b[0;31m         return self._input_request(str(prompt),\n\u001b[0m\u001b[1;32m    852\u001b[0m             \u001b[0mself\u001b[0m\u001b[0;34m.\u001b[0m\u001b[0m_parent_ident\u001b[0m\u001b[0;34m,\u001b[0m\u001b[0;34m\u001b[0m\u001b[0;34m\u001b[0m\u001b[0m\n\u001b[1;32m    853\u001b[0m             \u001b[0mself\u001b[0m\u001b[0;34m.\u001b[0m\u001b[0m_parent_header\u001b[0m\u001b[0;34m,\u001b[0m\u001b[0;34m\u001b[0m\u001b[0;34m\u001b[0m\u001b[0m\n",
            "\u001b[0;32m/usr/local/lib/python3.10/dist-packages/ipykernel/kernelbase.py\u001b[0m in \u001b[0;36m_input_request\u001b[0;34m(self, prompt, ident, parent, password)\u001b[0m\n\u001b[1;32m    893\u001b[0m             \u001b[0;32mexcept\u001b[0m \u001b[0mKeyboardInterrupt\u001b[0m\u001b[0;34m:\u001b[0m\u001b[0;34m\u001b[0m\u001b[0;34m\u001b[0m\u001b[0m\n\u001b[1;32m    894\u001b[0m                 \u001b[0;31m# re-raise KeyboardInterrupt, to truncate traceback\u001b[0m\u001b[0;34m\u001b[0m\u001b[0;34m\u001b[0m\u001b[0m\n\u001b[0;32m--> 895\u001b[0;31m                 \u001b[0;32mraise\u001b[0m \u001b[0mKeyboardInterrupt\u001b[0m\u001b[0;34m(\u001b[0m\u001b[0;34m\"Interrupted by user\"\u001b[0m\u001b[0;34m)\u001b[0m \u001b[0;32mfrom\u001b[0m \u001b[0;32mNone\u001b[0m\u001b[0;34m\u001b[0m\u001b[0;34m\u001b[0m\u001b[0m\n\u001b[0m\u001b[1;32m    896\u001b[0m             \u001b[0;32mexcept\u001b[0m \u001b[0mException\u001b[0m \u001b[0;32mas\u001b[0m \u001b[0me\u001b[0m\u001b[0;34m:\u001b[0m\u001b[0;34m\u001b[0m\u001b[0;34m\u001b[0m\u001b[0m\n\u001b[1;32m    897\u001b[0m                 \u001b[0mself\u001b[0m\u001b[0;34m.\u001b[0m\u001b[0mlog\u001b[0m\u001b[0;34m.\u001b[0m\u001b[0mwarning\u001b[0m\u001b[0;34m(\u001b[0m\u001b[0;34m\"Invalid Message:\"\u001b[0m\u001b[0;34m,\u001b[0m \u001b[0mexc_info\u001b[0m\u001b[0;34m=\u001b[0m\u001b[0;32mTrue\u001b[0m\u001b[0;34m)\u001b[0m\u001b[0;34m\u001b[0m\u001b[0;34m\u001b[0m\u001b[0m\n",
            "\u001b[0;31mKeyboardInterrupt\u001b[0m: Interrupted by user"
          ]
        }
      ]
    },
    {
      "cell_type": "code",
      "source": [
        "# Run the previous cell before running this one for the calculator to work\n",
        "\n",
        "calculator()"
      ],
      "metadata": {
        "colab": {
          "base_uri": "https://localhost:8080/"
        },
        "id": "JpFyI3glrjFE",
        "outputId": "89d3114b-bf37-4ecc-b0d8-4e0fb5a62587"
      },
      "execution_count": null,
      "outputs": [
        {
          "name": "stdout",
          "output_type": "stream",
          "text": [
            "\n",
            "What would you like to do?\n",
            "1. Add/Subtract/Multiply/Divide\n",
            "2. Detect Prime Numbers\n",
            "3. Prime Factorization\n",
            "4. Simplify square roots\n",
            "5. Solve for a variable\n",
            "6. Solve a Proportion\n",
            "7. Convert a Decimal\n",
            "8. Convert a Fraction\n",
            "9. Convert a Percentage\n",
            "Enter the number of the menu item you'd like to choose\n",
            "2\n",
            "Enter a whole number: 38\n",
            "38 is not a prime number.\n",
            "Would you like to do something else? Y/N N\n"
          ]
        }
      ]
    }
  ]
}