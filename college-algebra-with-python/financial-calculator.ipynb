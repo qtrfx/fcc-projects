{
  "nbformat": 4,
  "nbformat_minor": 0,
  "metadata": {
    "colab": {
      "provenance": [],
      "collapsed_sections": [
        "szp5flp1fA8-",
        "KDloBuvnHQTS",
        "r1AM-AcqkbyF",
        "8wXbGsoYkm60",
        "tBxuJtHck2Oo",
        "s3z_zaNWlet8",
        "yoavB8H_ljVn",
        "MlRfYVIylkQf",
        "NGH1FcttllvS",
        "Sx0kwIdalmmY",
        "S-DVSzwDvKvE",
        "H6LTAPYplxvi",
        "iaEBltZXln-Q",
        "l5GwlqRdlpEu",
        "U_7bv7aG4UJe",
        "B7DOz9nh4XAb",
        "cqvLtj7t4VMN",
        "GsLj1NhZl1ya",
        "d7Lc9KfMYU8Y",
        "VkD30ljxlyw9",
        "bJzxcKIfz8Qt",
        "8iWUAktvPLYp",
        "rzaQj8dEOfzb",
        "UptjjiCOTSS2",
        "CRa5i8s3UCuL"
      ]
    },
    "kernelspec": {
      "name": "python3",
      "display_name": "Python 3"
    },
    "language_info": {
      "name": "python"
    },
    "widgets": {
      "application/vnd.jupyter.widget-state+json": {
        "00fdaa5d04f3423499fd801f65a312cd": {
          "model_module": "@jupyter-widgets/controls",
          "model_name": "VBoxModel",
          "model_module_version": "1.5.0",
          "state": {
            "_dom_classes": [
              "widget-interact"
            ],
            "_model_module": "@jupyter-widgets/controls",
            "_model_module_version": "1.5.0",
            "_model_name": "VBoxModel",
            "_view_count": null,
            "_view_module": "@jupyter-widgets/controls",
            "_view_module_version": "1.5.0",
            "_view_name": "VBoxView",
            "box_style": "",
            "children": [
              "IPY_MODEL_39d25dd000eb49e79c9ae10122138dac",
              "IPY_MODEL_0329b969bc4d4017917d90e6508c8e71",
              "IPY_MODEL_cfcf14b851bb46ab905ce24779293b54",
              "IPY_MODEL_ff4b54abb8ad4c938b46700f9b6b7608"
            ],
            "layout": "IPY_MODEL_3c88fad166e14daf919b012a090de037"
          }
        },
        "39d25dd000eb49e79c9ae10122138dac": {
          "model_module": "@jupyter-widgets/controls",
          "model_name": "IntSliderModel",
          "model_module_version": "1.5.0",
          "state": {
            "_dom_classes": [],
            "_model_module": "@jupyter-widgets/controls",
            "_model_module_version": "1.5.0",
            "_model_name": "IntSliderModel",
            "_view_count": null,
            "_view_module": "@jupyter-widgets/controls",
            "_view_module_version": "1.5.0",
            "_view_name": "IntSliderView",
            "continuous_update": true,
            "description": "a",
            "description_tooltip": null,
            "disabled": false,
            "layout": "IPY_MODEL_f2271fb6d3f54c4ca555a03be37a8ccb",
            "max": 9,
            "min": -9,
            "orientation": "horizontal",
            "readout": true,
            "readout_format": "d",
            "step": 1,
            "style": "IPY_MODEL_5aebfcfd93f8430485dff5e39753e79b",
            "value": 0
          }
        },
        "0329b969bc4d4017917d90e6508c8e71": {
          "model_module": "@jupyter-widgets/controls",
          "model_name": "IntSliderModel",
          "model_module_version": "1.5.0",
          "state": {
            "_dom_classes": [],
            "_model_module": "@jupyter-widgets/controls",
            "_model_module_version": "1.5.0",
            "_model_name": "IntSliderModel",
            "_view_count": null,
            "_view_module": "@jupyter-widgets/controls",
            "_view_module_version": "1.5.0",
            "_view_name": "IntSliderView",
            "continuous_update": true,
            "description": "b",
            "description_tooltip": null,
            "disabled": false,
            "layout": "IPY_MODEL_4b7d82bb37954a0dbe38eb8596f12bf6",
            "max": 9,
            "min": -9,
            "orientation": "horizontal",
            "readout": true,
            "readout_format": "d",
            "step": 1,
            "style": "IPY_MODEL_beb43a623b7d4607a877e5f16eb0529b",
            "value": 0
          }
        },
        "cfcf14b851bb46ab905ce24779293b54": {
          "model_module": "@jupyter-widgets/controls",
          "model_name": "IntSliderModel",
          "model_module_version": "1.5.0",
          "state": {
            "_dom_classes": [],
            "_model_module": "@jupyter-widgets/controls",
            "_model_module_version": "1.5.0",
            "_model_name": "IntSliderModel",
            "_view_count": null,
            "_view_module": "@jupyter-widgets/controls",
            "_view_module_version": "1.5.0",
            "_view_name": "IntSliderView",
            "continuous_update": true,
            "description": "c",
            "description_tooltip": null,
            "disabled": false,
            "layout": "IPY_MODEL_2b8c05ec92f14470a1a877f394eb0c83",
            "max": 9,
            "min": -9,
            "orientation": "horizontal",
            "readout": true,
            "readout_format": "d",
            "step": 1,
            "style": "IPY_MODEL_f00bf0d162c349a4bbce778dc3141418",
            "value": 0
          }
        },
        "ff4b54abb8ad4c938b46700f9b6b7608": {
          "model_module": "@jupyter-widgets/output",
          "model_name": "OutputModel",
          "model_module_version": "1.0.0",
          "state": {
            "_dom_classes": [],
            "_model_module": "@jupyter-widgets/output",
            "_model_module_version": "1.0.0",
            "_model_name": "OutputModel",
            "_view_count": null,
            "_view_module": "@jupyter-widgets/output",
            "_view_module_version": "1.0.0",
            "_view_name": "OutputView",
            "layout": "IPY_MODEL_4b5a5a4f62e3494a9fb04e06495bd88b",
            "msg_id": "",
            "outputs": [
              {
                "output_type": "display_data",
                "data": {
                  "text/plain": "<Figure size 640x480 with 1 Axes>",
                  "image/png": "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\n"
                },
                "metadata": {}
              }
            ]
          }
        },
        "3c88fad166e14daf919b012a090de037": {
          "model_module": "@jupyter-widgets/base",
          "model_name": "LayoutModel",
          "model_module_version": "1.2.0",
          "state": {
            "_model_module": "@jupyter-widgets/base",
            "_model_module_version": "1.2.0",
            "_model_name": "LayoutModel",
            "_view_count": null,
            "_view_module": "@jupyter-widgets/base",
            "_view_module_version": "1.2.0",
            "_view_name": "LayoutView",
            "align_content": null,
            "align_items": null,
            "align_self": null,
            "border": null,
            "bottom": null,
            "display": null,
            "flex": null,
            "flex_flow": null,
            "grid_area": null,
            "grid_auto_columns": null,
            "grid_auto_flow": null,
            "grid_auto_rows": null,
            "grid_column": null,
            "grid_gap": null,
            "grid_row": null,
            "grid_template_areas": null,
            "grid_template_columns": null,
            "grid_template_rows": null,
            "height": null,
            "justify_content": null,
            "justify_items": null,
            "left": null,
            "margin": null,
            "max_height": null,
            "max_width": null,
            "min_height": null,
            "min_width": null,
            "object_fit": null,
            "object_position": null,
            "order": null,
            "overflow": null,
            "overflow_x": null,
            "overflow_y": null,
            "padding": null,
            "right": null,
            "top": null,
            "visibility": null,
            "width": null
          }
        },
        "f2271fb6d3f54c4ca555a03be37a8ccb": {
          "model_module": "@jupyter-widgets/base",
          "model_name": "LayoutModel",
          "model_module_version": "1.2.0",
          "state": {
            "_model_module": "@jupyter-widgets/base",
            "_model_module_version": "1.2.0",
            "_model_name": "LayoutModel",
            "_view_count": null,
            "_view_module": "@jupyter-widgets/base",
            "_view_module_version": "1.2.0",
            "_view_name": "LayoutView",
            "align_content": null,
            "align_items": null,
            "align_self": null,
            "border": null,
            "bottom": null,
            "display": null,
            "flex": null,
            "flex_flow": null,
            "grid_area": null,
            "grid_auto_columns": null,
            "grid_auto_flow": null,
            "grid_auto_rows": null,
            "grid_column": null,
            "grid_gap": null,
            "grid_row": null,
            "grid_template_areas": null,
            "grid_template_columns": null,
            "grid_template_rows": null,
            "height": null,
            "justify_content": null,
            "justify_items": null,
            "left": null,
            "margin": null,
            "max_height": null,
            "max_width": null,
            "min_height": null,
            "min_width": null,
            "object_fit": null,
            "object_position": null,
            "order": null,
            "overflow": null,
            "overflow_x": null,
            "overflow_y": null,
            "padding": null,
            "right": null,
            "top": null,
            "visibility": null,
            "width": null
          }
        },
        "5aebfcfd93f8430485dff5e39753e79b": {
          "model_module": "@jupyter-widgets/controls",
          "model_name": "SliderStyleModel",
          "model_module_version": "1.5.0",
          "state": {
            "_model_module": "@jupyter-widgets/controls",
            "_model_module_version": "1.5.0",
            "_model_name": "SliderStyleModel",
            "_view_count": null,
            "_view_module": "@jupyter-widgets/base",
            "_view_module_version": "1.2.0",
            "_view_name": "StyleView",
            "description_width": "",
            "handle_color": null
          }
        },
        "4b7d82bb37954a0dbe38eb8596f12bf6": {
          "model_module": "@jupyter-widgets/base",
          "model_name": "LayoutModel",
          "model_module_version": "1.2.0",
          "state": {
            "_model_module": "@jupyter-widgets/base",
            "_model_module_version": "1.2.0",
            "_model_name": "LayoutModel",
            "_view_count": null,
            "_view_module": "@jupyter-widgets/base",
            "_view_module_version": "1.2.0",
            "_view_name": "LayoutView",
            "align_content": null,
            "align_items": null,
            "align_self": null,
            "border": null,
            "bottom": null,
            "display": null,
            "flex": null,
            "flex_flow": null,
            "grid_area": null,
            "grid_auto_columns": null,
            "grid_auto_flow": null,
            "grid_auto_rows": null,
            "grid_column": null,
            "grid_gap": null,
            "grid_row": null,
            "grid_template_areas": null,
            "grid_template_columns": null,
            "grid_template_rows": null,
            "height": null,
            "justify_content": null,
            "justify_items": null,
            "left": null,
            "margin": null,
            "max_height": null,
            "max_width": null,
            "min_height": null,
            "min_width": null,
            "object_fit": null,
            "object_position": null,
            "order": null,
            "overflow": null,
            "overflow_x": null,
            "overflow_y": null,
            "padding": null,
            "right": null,
            "top": null,
            "visibility": null,
            "width": null
          }
        },
        "beb43a623b7d4607a877e5f16eb0529b": {
          "model_module": "@jupyter-widgets/controls",
          "model_name": "SliderStyleModel",
          "model_module_version": "1.5.0",
          "state": {
            "_model_module": "@jupyter-widgets/controls",
            "_model_module_version": "1.5.0",
            "_model_name": "SliderStyleModel",
            "_view_count": null,
            "_view_module": "@jupyter-widgets/base",
            "_view_module_version": "1.2.0",
            "_view_name": "StyleView",
            "description_width": "",
            "handle_color": null
          }
        },
        "2b8c05ec92f14470a1a877f394eb0c83": {
          "model_module": "@jupyter-widgets/base",
          "model_name": "LayoutModel",
          "model_module_version": "1.2.0",
          "state": {
            "_model_module": "@jupyter-widgets/base",
            "_model_module_version": "1.2.0",
            "_model_name": "LayoutModel",
            "_view_count": null,
            "_view_module": "@jupyter-widgets/base",
            "_view_module_version": "1.2.0",
            "_view_name": "LayoutView",
            "align_content": null,
            "align_items": null,
            "align_self": null,
            "border": null,
            "bottom": null,
            "display": null,
            "flex": null,
            "flex_flow": null,
            "grid_area": null,
            "grid_auto_columns": null,
            "grid_auto_flow": null,
            "grid_auto_rows": null,
            "grid_column": null,
            "grid_gap": null,
            "grid_row": null,
            "grid_template_areas": null,
            "grid_template_columns": null,
            "grid_template_rows": null,
            "height": null,
            "justify_content": null,
            "justify_items": null,
            "left": null,
            "margin": null,
            "max_height": null,
            "max_width": null,
            "min_height": null,
            "min_width": null,
            "object_fit": null,
            "object_position": null,
            "order": null,
            "overflow": null,
            "overflow_x": null,
            "overflow_y": null,
            "padding": null,
            "right": null,
            "top": null,
            "visibility": null,
            "width": null
          }
        },
        "f00bf0d162c349a4bbce778dc3141418": {
          "model_module": "@jupyter-widgets/controls",
          "model_name": "SliderStyleModel",
          "model_module_version": "1.5.0",
          "state": {
            "_model_module": "@jupyter-widgets/controls",
            "_model_module_version": "1.5.0",
            "_model_name": "SliderStyleModel",
            "_view_count": null,
            "_view_module": "@jupyter-widgets/base",
            "_view_module_version": "1.2.0",
            "_view_name": "StyleView",
            "description_width": "",
            "handle_color": null
          }
        },
        "4b5a5a4f62e3494a9fb04e06495bd88b": {
          "model_module": "@jupyter-widgets/base",
          "model_name": "LayoutModel",
          "model_module_version": "1.2.0",
          "state": {
            "_model_module": "@jupyter-widgets/base",
            "_model_module_version": "1.2.0",
            "_model_name": "LayoutModel",
            "_view_count": null,
            "_view_module": "@jupyter-widgets/base",
            "_view_module_version": "1.2.0",
            "_view_name": "LayoutView",
            "align_content": null,
            "align_items": null,
            "align_self": null,
            "border": null,
            "bottom": null,
            "display": null,
            "flex": null,
            "flex_flow": null,
            "grid_area": null,
            "grid_auto_columns": null,
            "grid_auto_flow": null,
            "grid_auto_rows": null,
            "grid_column": null,
            "grid_gap": null,
            "grid_row": null,
            "grid_template_areas": null,
            "grid_template_columns": null,
            "grid_template_rows": null,
            "height": null,
            "justify_content": null,
            "justify_items": null,
            "left": null,
            "margin": null,
            "max_height": null,
            "max_width": null,
            "min_height": null,
            "min_width": null,
            "object_fit": null,
            "object_position": null,
            "order": null,
            "overflow": null,
            "overflow_x": null,
            "overflow_y": null,
            "padding": null,
            "right": null,
            "top": null,
            "visibility": null,
            "width": null
          }
        },
        "1a2dad9173a543dc8c7b82548291b24c": {
          "model_module": "@jupyter-widgets/controls",
          "model_name": "VBoxModel",
          "model_module_version": "1.5.0",
          "state": {
            "_dom_classes": [
              "widget-interact"
            ],
            "_model_module": "@jupyter-widgets/controls",
            "_model_module_version": "1.5.0",
            "_model_name": "VBoxModel",
            "_view_count": null,
            "_view_module": "@jupyter-widgets/controls",
            "_view_module_version": "1.5.0",
            "_view_name": "VBoxView",
            "box_style": "",
            "children": [
              "IPY_MODEL_a4aa029a28c04b2cbe07a0773080ce6f",
              "IPY_MODEL_bc8a962c11c84a11a750ec51c3bd002f",
              "IPY_MODEL_5eb653340c99463f9bca69824fd0c018"
            ],
            "layout": "IPY_MODEL_095d45ffba2b407a95622cc760150159"
          }
        },
        "a4aa029a28c04b2cbe07a0773080ce6f": {
          "model_module": "@jupyter-widgets/controls",
          "model_name": "IntSliderModel",
          "model_module_version": "1.5.0",
          "state": {
            "_dom_classes": [],
            "_model_module": "@jupyter-widgets/controls",
            "_model_module_version": "1.5.0",
            "_model_name": "IntSliderModel",
            "_view_count": null,
            "_view_module": "@jupyter-widgets/controls",
            "_view_module_version": "1.5.0",
            "_view_name": "IntSliderView",
            "continuous_update": true,
            "description": "a",
            "description_tooltip": null,
            "disabled": false,
            "layout": "IPY_MODEL_959dec1a66b643d99798686e02131f7b",
            "max": -1,
            "min": -9,
            "orientation": "horizontal",
            "readout": true,
            "readout_format": "d",
            "step": 1,
            "style": "IPY_MODEL_5d36b1af3821473ea67a1bdd736c1983",
            "value": -8
          }
        },
        "bc8a962c11c84a11a750ec51c3bd002f": {
          "model_module": "@jupyter-widgets/controls",
          "model_name": "IntSliderModel",
          "model_module_version": "1.5.0",
          "state": {
            "_dom_classes": [],
            "_model_module": "@jupyter-widgets/controls",
            "_model_module_version": "1.5.0",
            "_model_name": "IntSliderModel",
            "_view_count": null,
            "_view_module": "@jupyter-widgets/controls",
            "_view_module_version": "1.5.0",
            "_view_name": "IntSliderView",
            "continuous_update": true,
            "description": "b",
            "description_tooltip": null,
            "disabled": false,
            "layout": "IPY_MODEL_9813e76734de4f539de760ad63bf26e7",
            "max": 9,
            "min": 1,
            "orientation": "horizontal",
            "readout": true,
            "readout_format": "d",
            "step": 1,
            "style": "IPY_MODEL_515430e4839e4fe698ebc40368ac13b3",
            "value": 5
          }
        },
        "5eb653340c99463f9bca69824fd0c018": {
          "model_module": "@jupyter-widgets/output",
          "model_name": "OutputModel",
          "model_module_version": "1.0.0",
          "state": {
            "_dom_classes": [],
            "_model_module": "@jupyter-widgets/output",
            "_model_module_version": "1.0.0",
            "_model_name": "OutputModel",
            "_view_count": null,
            "_view_module": "@jupyter-widgets/output",
            "_view_module_version": "1.0.0",
            "_view_name": "OutputView",
            "layout": "IPY_MODEL_449a4225f51d4af38193b5206d6aa0e6",
            "msg_id": "",
            "outputs": [
              {
                "output_type": "display_data",
                "data": {
                  "text/plain": "<Figure size 640x480 with 1 Axes>",
                  "image/png": "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\n"
                },
                "metadata": {}
              }
            ]
          }
        },
        "095d45ffba2b407a95622cc760150159": {
          "model_module": "@jupyter-widgets/base",
          "model_name": "LayoutModel",
          "model_module_version": "1.2.0",
          "state": {
            "_model_module": "@jupyter-widgets/base",
            "_model_module_version": "1.2.0",
            "_model_name": "LayoutModel",
            "_view_count": null,
            "_view_module": "@jupyter-widgets/base",
            "_view_module_version": "1.2.0",
            "_view_name": "LayoutView",
            "align_content": null,
            "align_items": null,
            "align_self": null,
            "border": null,
            "bottom": null,
            "display": null,
            "flex": null,
            "flex_flow": null,
            "grid_area": null,
            "grid_auto_columns": null,
            "grid_auto_flow": null,
            "grid_auto_rows": null,
            "grid_column": null,
            "grid_gap": null,
            "grid_row": null,
            "grid_template_areas": null,
            "grid_template_columns": null,
            "grid_template_rows": null,
            "height": null,
            "justify_content": null,
            "justify_items": null,
            "left": null,
            "margin": null,
            "max_height": null,
            "max_width": null,
            "min_height": null,
            "min_width": null,
            "object_fit": null,
            "object_position": null,
            "order": null,
            "overflow": null,
            "overflow_x": null,
            "overflow_y": null,
            "padding": null,
            "right": null,
            "top": null,
            "visibility": null,
            "width": null
          }
        },
        "959dec1a66b643d99798686e02131f7b": {
          "model_module": "@jupyter-widgets/base",
          "model_name": "LayoutModel",
          "model_module_version": "1.2.0",
          "state": {
            "_model_module": "@jupyter-widgets/base",
            "_model_module_version": "1.2.0",
            "_model_name": "LayoutModel",
            "_view_count": null,
            "_view_module": "@jupyter-widgets/base",
            "_view_module_version": "1.2.0",
            "_view_name": "LayoutView",
            "align_content": null,
            "align_items": null,
            "align_self": null,
            "border": null,
            "bottom": null,
            "display": null,
            "flex": null,
            "flex_flow": null,
            "grid_area": null,
            "grid_auto_columns": null,
            "grid_auto_flow": null,
            "grid_auto_rows": null,
            "grid_column": null,
            "grid_gap": null,
            "grid_row": null,
            "grid_template_areas": null,
            "grid_template_columns": null,
            "grid_template_rows": null,
            "height": null,
            "justify_content": null,
            "justify_items": null,
            "left": null,
            "margin": null,
            "max_height": null,
            "max_width": null,
            "min_height": null,
            "min_width": null,
            "object_fit": null,
            "object_position": null,
            "order": null,
            "overflow": null,
            "overflow_x": null,
            "overflow_y": null,
            "padding": null,
            "right": null,
            "top": null,
            "visibility": null,
            "width": null
          }
        },
        "5d36b1af3821473ea67a1bdd736c1983": {
          "model_module": "@jupyter-widgets/controls",
          "model_name": "SliderStyleModel",
          "model_module_version": "1.5.0",
          "state": {
            "_model_module": "@jupyter-widgets/controls",
            "_model_module_version": "1.5.0",
            "_model_name": "SliderStyleModel",
            "_view_count": null,
            "_view_module": "@jupyter-widgets/base",
            "_view_module_version": "1.2.0",
            "_view_name": "StyleView",
            "description_width": "",
            "handle_color": null
          }
        },
        "9813e76734de4f539de760ad63bf26e7": {
          "model_module": "@jupyter-widgets/base",
          "model_name": "LayoutModel",
          "model_module_version": "1.2.0",
          "state": {
            "_model_module": "@jupyter-widgets/base",
            "_model_module_version": "1.2.0",
            "_model_name": "LayoutModel",
            "_view_count": null,
            "_view_module": "@jupyter-widgets/base",
            "_view_module_version": "1.2.0",
            "_view_name": "LayoutView",
            "align_content": null,
            "align_items": null,
            "align_self": null,
            "border": null,
            "bottom": null,
            "display": null,
            "flex": null,
            "flex_flow": null,
            "grid_area": null,
            "grid_auto_columns": null,
            "grid_auto_flow": null,
            "grid_auto_rows": null,
            "grid_column": null,
            "grid_gap": null,
            "grid_row": null,
            "grid_template_areas": null,
            "grid_template_columns": null,
            "grid_template_rows": null,
            "height": null,
            "justify_content": null,
            "justify_items": null,
            "left": null,
            "margin": null,
            "max_height": null,
            "max_width": null,
            "min_height": null,
            "min_width": null,
            "object_fit": null,
            "object_position": null,
            "order": null,
            "overflow": null,
            "overflow_x": null,
            "overflow_y": null,
            "padding": null,
            "right": null,
            "top": null,
            "visibility": null,
            "width": null
          }
        },
        "515430e4839e4fe698ebc40368ac13b3": {
          "model_module": "@jupyter-widgets/controls",
          "model_name": "SliderStyleModel",
          "model_module_version": "1.5.0",
          "state": {
            "_model_module": "@jupyter-widgets/controls",
            "_model_module_version": "1.5.0",
            "_model_name": "SliderStyleModel",
            "_view_count": null,
            "_view_module": "@jupyter-widgets/base",
            "_view_module_version": "1.2.0",
            "_view_name": "StyleView",
            "description_width": "",
            "handle_color": null
          }
        },
        "449a4225f51d4af38193b5206d6aa0e6": {
          "model_module": "@jupyter-widgets/base",
          "model_name": "LayoutModel",
          "model_module_version": "1.2.0",
          "state": {
            "_model_module": "@jupyter-widgets/base",
            "_model_module_version": "1.2.0",
            "_model_name": "LayoutModel",
            "_view_count": null,
            "_view_module": "@jupyter-widgets/base",
            "_view_module_version": "1.2.0",
            "_view_name": "LayoutView",
            "align_content": null,
            "align_items": null,
            "align_self": null,
            "border": null,
            "bottom": null,
            "display": null,
            "flex": null,
            "flex_flow": null,
            "grid_area": null,
            "grid_auto_columns": null,
            "grid_auto_flow": null,
            "grid_auto_rows": null,
            "grid_column": null,
            "grid_gap": null,
            "grid_row": null,
            "grid_template_areas": null,
            "grid_template_columns": null,
            "grid_template_rows": null,
            "height": null,
            "justify_content": null,
            "justify_items": null,
            "left": null,
            "margin": null,
            "max_height": null,
            "max_width": null,
            "min_height": null,
            "min_width": null,
            "object_fit": null,
            "object_position": null,
            "order": null,
            "overflow": null,
            "overflow_x": null,
            "overflow_y": null,
            "padding": null,
            "right": null,
            "top": null,
            "visibility": null,
            "width": null
          }
        },
        "2b95e1ac65cb428d980bf756247be001": {
          "model_module": "@jupyter-widgets/controls",
          "model_name": "VBoxModel",
          "model_module_version": "1.5.0",
          "state": {
            "_dom_classes": [
              "widget-interact"
            ],
            "_model_module": "@jupyter-widgets/controls",
            "_model_module_version": "1.5.0",
            "_model_name": "VBoxModel",
            "_view_count": null,
            "_view_module": "@jupyter-widgets/controls",
            "_view_module_version": "1.5.0",
            "_view_name": "VBoxView",
            "box_style": "",
            "children": [
              "IPY_MODEL_4deec297d80a48b7b042d59f0fcc3be9",
              "IPY_MODEL_3fdcf61f14264f179fd20a383e43ffd5",
              "IPY_MODEL_b5010113d9fd4da1bc08992d89e26800",
              "IPY_MODEL_13176b265c204c75a48a3c0e79b8bfb8",
              "IPY_MODEL_78cf9c431b5740c8a9555bdfb16a9372",
              "IPY_MODEL_a9f46b0787da4b5abe2287507bf6b289",
              "IPY_MODEL_b26db93861da41c4add89de5d4342558",
              "IPY_MODEL_d32c6fec1e23401a841c1c5cc34ca870"
            ],
            "layout": "IPY_MODEL_52ca382ae76f4695bc34d379b7bf3f43"
          }
        },
        "4deec297d80a48b7b042d59f0fcc3be9": {
          "model_module": "@jupyter-widgets/controls",
          "model_name": "IntSliderModel",
          "model_module_version": "1.5.0",
          "state": {
            "_dom_classes": [],
            "_model_module": "@jupyter-widgets/controls",
            "_model_module_version": "1.5.0",
            "_model_name": "IntSliderModel",
            "_view_count": null,
            "_view_module": "@jupyter-widgets/controls",
            "_view_module_version": "1.5.0",
            "_view_name": "IntSliderView",
            "continuous_update": true,
            "description": "a",
            "description_tooltip": null,
            "disabled": false,
            "layout": "IPY_MODEL_be8b8ee1c0514852890f9538f73a8cb2",
            "max": 100,
            "min": -100,
            "orientation": "horizontal",
            "readout": true,
            "readout_format": "d",
            "step": 1,
            "style": "IPY_MODEL_3d1d9b1273eb40ab920cd17b184d42dd",
            "value": 0
          }
        },
        "3fdcf61f14264f179fd20a383e43ffd5": {
          "model_module": "@jupyter-widgets/controls",
          "model_name": "IntSliderModel",
          "model_module_version": "1.5.0",
          "state": {
            "_dom_classes": [],
            "_model_module": "@jupyter-widgets/controls",
            "_model_module_version": "1.5.0",
            "_model_name": "IntSliderModel",
            "_view_count": null,
            "_view_module": "@jupyter-widgets/controls",
            "_view_module_version": "1.5.0",
            "_view_name": "IntSliderView",
            "continuous_update": true,
            "description": "b",
            "description_tooltip": null,
            "disabled": false,
            "layout": "IPY_MODEL_66410a82ff16470e9b3a60daca9bf869",
            "max": 100,
            "min": -100,
            "orientation": "horizontal",
            "readout": true,
            "readout_format": "d",
            "step": 1,
            "style": "IPY_MODEL_f86fcf9b39264978acac0d0e560e5776",
            "value": 3
          }
        },
        "b5010113d9fd4da1bc08992d89e26800": {
          "model_module": "@jupyter-widgets/controls",
          "model_name": "IntSliderModel",
          "model_module_version": "1.5.0",
          "state": {
            "_dom_classes": [],
            "_model_module": "@jupyter-widgets/controls",
            "_model_module_version": "1.5.0",
            "_model_name": "IntSliderModel",
            "_view_count": null,
            "_view_module": "@jupyter-widgets/controls",
            "_view_module_version": "1.5.0",
            "_view_name": "IntSliderView",
            "continuous_update": true,
            "description": "c",
            "description_tooltip": null,
            "disabled": false,
            "layout": "IPY_MODEL_4c00661393f64a86b92277095c6c7274",
            "max": 100,
            "min": -100,
            "orientation": "horizontal",
            "readout": true,
            "readout_format": "d",
            "step": 1,
            "style": "IPY_MODEL_98b18d01effa41cab7d4f0f6342ac790",
            "value": 2
          }
        },
        "13176b265c204c75a48a3c0e79b8bfb8": {
          "model_module": "@jupyter-widgets/controls",
          "model_name": "IntSliderModel",
          "model_module_version": "1.5.0",
          "state": {
            "_dom_classes": [],
            "_model_module": "@jupyter-widgets/controls",
            "_model_module_version": "1.5.0",
            "_model_name": "IntSliderModel",
            "_view_count": null,
            "_view_module": "@jupyter-widgets/controls",
            "_view_module_version": "1.5.0",
            "_view_name": "IntSliderView",
            "continuous_update": true,
            "description": "d",
            "description_tooltip": null,
            "disabled": false,
            "layout": "IPY_MODEL_09c1e804f7d54f4a88fe3cc4a1ba8675",
            "max": 100,
            "min": -100,
            "orientation": "horizontal",
            "readout": true,
            "readout_format": "d",
            "step": 1,
            "style": "IPY_MODEL_946009c886bb47259d216f4b86d3c2ef",
            "value": 5
          }
        },
        "78cf9c431b5740c8a9555bdfb16a9372": {
          "model_module": "@jupyter-widgets/controls",
          "model_name": "IntSliderModel",
          "model_module_version": "1.5.0",
          "state": {
            "_dom_classes": [],
            "_model_module": "@jupyter-widgets/controls",
            "_model_module_version": "1.5.0",
            "_model_name": "IntSliderModel",
            "_view_count": null,
            "_view_module": "@jupyter-widgets/controls",
            "_view_module_version": "1.5.0",
            "_view_name": "IntSliderView",
            "continuous_update": true,
            "description": "e",
            "description_tooltip": null,
            "disabled": false,
            "layout": "IPY_MODEL_3b12cacf7a7043519587febae1bdfa8a",
            "max": 100,
            "min": -100,
            "orientation": "horizontal",
            "readout": true,
            "readout_format": "d",
            "step": 1,
            "style": "IPY_MODEL_450c479dfea9456ea0faf76c3a471eb8",
            "value": 0
          }
        },
        "a9f46b0787da4b5abe2287507bf6b289": {
          "model_module": "@jupyter-widgets/controls",
          "model_name": "IntSliderModel",
          "model_module_version": "1.5.0",
          "state": {
            "_dom_classes": [],
            "_model_module": "@jupyter-widgets/controls",
            "_model_module_version": "1.5.0",
            "_model_name": "IntSliderModel",
            "_view_count": null,
            "_view_module": "@jupyter-widgets/controls",
            "_view_module_version": "1.5.0",
            "_view_name": "IntSliderView",
            "continuous_update": true,
            "description": "f",
            "description_tooltip": null,
            "disabled": false,
            "layout": "IPY_MODEL_80df13b5165b459ab3e4b831200570df",
            "max": 100,
            "min": -100,
            "orientation": "horizontal",
            "readout": true,
            "readout_format": "d",
            "step": 1,
            "style": "IPY_MODEL_94f0306685544f4a9351589e70e08e02",
            "value": -1
          }
        },
        "b26db93861da41c4add89de5d4342558": {
          "model_module": "@jupyter-widgets/controls",
          "model_name": "IntSliderModel",
          "model_module_version": "1.5.0",
          "state": {
            "_dom_classes": [],
            "_model_module": "@jupyter-widgets/controls",
            "_model_module_version": "1.5.0",
            "_model_name": "IntSliderModel",
            "_view_count": null,
            "_view_module": "@jupyter-widgets/controls",
            "_view_module_version": "1.5.0",
            "_view_name": "IntSliderView",
            "continuous_update": true,
            "description": "zoom",
            "description_tooltip": null,
            "disabled": false,
            "layout": "IPY_MODEL_d7949f5ab61a4437a547525325f53a14",
            "max": 500,
            "min": 1,
            "orientation": "horizontal",
            "readout": true,
            "readout_format": "d",
            "step": 1,
            "style": "IPY_MODEL_c375825028594e98a44b4174e0e53694",
            "value": 25
          }
        },
        "d32c6fec1e23401a841c1c5cc34ca870": {
          "model_module": "@jupyter-widgets/output",
          "model_name": "OutputModel",
          "model_module_version": "1.0.0",
          "state": {
            "_dom_classes": [],
            "_model_module": "@jupyter-widgets/output",
            "_model_module_version": "1.0.0",
            "_model_name": "OutputModel",
            "_view_count": null,
            "_view_module": "@jupyter-widgets/output",
            "_view_module_version": "1.0.0",
            "_view_name": "OutputView",
            "layout": "IPY_MODEL_8b0daba298e149f4a7630708f75e8a81",
            "msg_id": "",
            "outputs": [
              {
                "output_type": "display_data",
                "data": {
                  "text/plain": "<Figure size 640x480 with 1 Axes>",
                  "image/png": "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\n"
                },
                "metadata": {}
              }
            ]
          }
        },
        "52ca382ae76f4695bc34d379b7bf3f43": {
          "model_module": "@jupyter-widgets/base",
          "model_name": "LayoutModel",
          "model_module_version": "1.2.0",
          "state": {
            "_model_module": "@jupyter-widgets/base",
            "_model_module_version": "1.2.0",
            "_model_name": "LayoutModel",
            "_view_count": null,
            "_view_module": "@jupyter-widgets/base",
            "_view_module_version": "1.2.0",
            "_view_name": "LayoutView",
            "align_content": null,
            "align_items": null,
            "align_self": null,
            "border": null,
            "bottom": null,
            "display": null,
            "flex": null,
            "flex_flow": null,
            "grid_area": null,
            "grid_auto_columns": null,
            "grid_auto_flow": null,
            "grid_auto_rows": null,
            "grid_column": null,
            "grid_gap": null,
            "grid_row": null,
            "grid_template_areas": null,
            "grid_template_columns": null,
            "grid_template_rows": null,
            "height": null,
            "justify_content": null,
            "justify_items": null,
            "left": null,
            "margin": null,
            "max_height": null,
            "max_width": null,
            "min_height": null,
            "min_width": null,
            "object_fit": null,
            "object_position": null,
            "order": null,
            "overflow": null,
            "overflow_x": null,
            "overflow_y": null,
            "padding": null,
            "right": null,
            "top": null,
            "visibility": null,
            "width": null
          }
        },
        "be8b8ee1c0514852890f9538f73a8cb2": {
          "model_module": "@jupyter-widgets/base",
          "model_name": "LayoutModel",
          "model_module_version": "1.2.0",
          "state": {
            "_model_module": "@jupyter-widgets/base",
            "_model_module_version": "1.2.0",
            "_model_name": "LayoutModel",
            "_view_count": null,
            "_view_module": "@jupyter-widgets/base",
            "_view_module_version": "1.2.0",
            "_view_name": "LayoutView",
            "align_content": null,
            "align_items": null,
            "align_self": null,
            "border": null,
            "bottom": null,
            "display": null,
            "flex": null,
            "flex_flow": null,
            "grid_area": null,
            "grid_auto_columns": null,
            "grid_auto_flow": null,
            "grid_auto_rows": null,
            "grid_column": null,
            "grid_gap": null,
            "grid_row": null,
            "grid_template_areas": null,
            "grid_template_columns": null,
            "grid_template_rows": null,
            "height": null,
            "justify_content": null,
            "justify_items": null,
            "left": null,
            "margin": null,
            "max_height": null,
            "max_width": null,
            "min_height": null,
            "min_width": null,
            "object_fit": null,
            "object_position": null,
            "order": null,
            "overflow": null,
            "overflow_x": null,
            "overflow_y": null,
            "padding": null,
            "right": null,
            "top": null,
            "visibility": null,
            "width": null
          }
        },
        "3d1d9b1273eb40ab920cd17b184d42dd": {
          "model_module": "@jupyter-widgets/controls",
          "model_name": "SliderStyleModel",
          "model_module_version": "1.5.0",
          "state": {
            "_model_module": "@jupyter-widgets/controls",
            "_model_module_version": "1.5.0",
            "_model_name": "SliderStyleModel",
            "_view_count": null,
            "_view_module": "@jupyter-widgets/base",
            "_view_module_version": "1.2.0",
            "_view_name": "StyleView",
            "description_width": "",
            "handle_color": null
          }
        },
        "66410a82ff16470e9b3a60daca9bf869": {
          "model_module": "@jupyter-widgets/base",
          "model_name": "LayoutModel",
          "model_module_version": "1.2.0",
          "state": {
            "_model_module": "@jupyter-widgets/base",
            "_model_module_version": "1.2.0",
            "_model_name": "LayoutModel",
            "_view_count": null,
            "_view_module": "@jupyter-widgets/base",
            "_view_module_version": "1.2.0",
            "_view_name": "LayoutView",
            "align_content": null,
            "align_items": null,
            "align_self": null,
            "border": null,
            "bottom": null,
            "display": null,
            "flex": null,
            "flex_flow": null,
            "grid_area": null,
            "grid_auto_columns": null,
            "grid_auto_flow": null,
            "grid_auto_rows": null,
            "grid_column": null,
            "grid_gap": null,
            "grid_row": null,
            "grid_template_areas": null,
            "grid_template_columns": null,
            "grid_template_rows": null,
            "height": null,
            "justify_content": null,
            "justify_items": null,
            "left": null,
            "margin": null,
            "max_height": null,
            "max_width": null,
            "min_height": null,
            "min_width": null,
            "object_fit": null,
            "object_position": null,
            "order": null,
            "overflow": null,
            "overflow_x": null,
            "overflow_y": null,
            "padding": null,
            "right": null,
            "top": null,
            "visibility": null,
            "width": null
          }
        },
        "f86fcf9b39264978acac0d0e560e5776": {
          "model_module": "@jupyter-widgets/controls",
          "model_name": "SliderStyleModel",
          "model_module_version": "1.5.0",
          "state": {
            "_model_module": "@jupyter-widgets/controls",
            "_model_module_version": "1.5.0",
            "_model_name": "SliderStyleModel",
            "_view_count": null,
            "_view_module": "@jupyter-widgets/base",
            "_view_module_version": "1.2.0",
            "_view_name": "StyleView",
            "description_width": "",
            "handle_color": null
          }
        },
        "4c00661393f64a86b92277095c6c7274": {
          "model_module": "@jupyter-widgets/base",
          "model_name": "LayoutModel",
          "model_module_version": "1.2.0",
          "state": {
            "_model_module": "@jupyter-widgets/base",
            "_model_module_version": "1.2.0",
            "_model_name": "LayoutModel",
            "_view_count": null,
            "_view_module": "@jupyter-widgets/base",
            "_view_module_version": "1.2.0",
            "_view_name": "LayoutView",
            "align_content": null,
            "align_items": null,
            "align_self": null,
            "border": null,
            "bottom": null,
            "display": null,
            "flex": null,
            "flex_flow": null,
            "grid_area": null,
            "grid_auto_columns": null,
            "grid_auto_flow": null,
            "grid_auto_rows": null,
            "grid_column": null,
            "grid_gap": null,
            "grid_row": null,
            "grid_template_areas": null,
            "grid_template_columns": null,
            "grid_template_rows": null,
            "height": null,
            "justify_content": null,
            "justify_items": null,
            "left": null,
            "margin": null,
            "max_height": null,
            "max_width": null,
            "min_height": null,
            "min_width": null,
            "object_fit": null,
            "object_position": null,
            "order": null,
            "overflow": null,
            "overflow_x": null,
            "overflow_y": null,
            "padding": null,
            "right": null,
            "top": null,
            "visibility": null,
            "width": null
          }
        },
        "98b18d01effa41cab7d4f0f6342ac790": {
          "model_module": "@jupyter-widgets/controls",
          "model_name": "SliderStyleModel",
          "model_module_version": "1.5.0",
          "state": {
            "_model_module": "@jupyter-widgets/controls",
            "_model_module_version": "1.5.0",
            "_model_name": "SliderStyleModel",
            "_view_count": null,
            "_view_module": "@jupyter-widgets/base",
            "_view_module_version": "1.2.0",
            "_view_name": "StyleView",
            "description_width": "",
            "handle_color": null
          }
        },
        "09c1e804f7d54f4a88fe3cc4a1ba8675": {
          "model_module": "@jupyter-widgets/base",
          "model_name": "LayoutModel",
          "model_module_version": "1.2.0",
          "state": {
            "_model_module": "@jupyter-widgets/base",
            "_model_module_version": "1.2.0",
            "_model_name": "LayoutModel",
            "_view_count": null,
            "_view_module": "@jupyter-widgets/base",
            "_view_module_version": "1.2.0",
            "_view_name": "LayoutView",
            "align_content": null,
            "align_items": null,
            "align_self": null,
            "border": null,
            "bottom": null,
            "display": null,
            "flex": null,
            "flex_flow": null,
            "grid_area": null,
            "grid_auto_columns": null,
            "grid_auto_flow": null,
            "grid_auto_rows": null,
            "grid_column": null,
            "grid_gap": null,
            "grid_row": null,
            "grid_template_areas": null,
            "grid_template_columns": null,
            "grid_template_rows": null,
            "height": null,
            "justify_content": null,
            "justify_items": null,
            "left": null,
            "margin": null,
            "max_height": null,
            "max_width": null,
            "min_height": null,
            "min_width": null,
            "object_fit": null,
            "object_position": null,
            "order": null,
            "overflow": null,
            "overflow_x": null,
            "overflow_y": null,
            "padding": null,
            "right": null,
            "top": null,
            "visibility": null,
            "width": null
          }
        },
        "946009c886bb47259d216f4b86d3c2ef": {
          "model_module": "@jupyter-widgets/controls",
          "model_name": "SliderStyleModel",
          "model_module_version": "1.5.0",
          "state": {
            "_model_module": "@jupyter-widgets/controls",
            "_model_module_version": "1.5.0",
            "_model_name": "SliderStyleModel",
            "_view_count": null,
            "_view_module": "@jupyter-widgets/base",
            "_view_module_version": "1.2.0",
            "_view_name": "StyleView",
            "description_width": "",
            "handle_color": null
          }
        },
        "3b12cacf7a7043519587febae1bdfa8a": {
          "model_module": "@jupyter-widgets/base",
          "model_name": "LayoutModel",
          "model_module_version": "1.2.0",
          "state": {
            "_model_module": "@jupyter-widgets/base",
            "_model_module_version": "1.2.0",
            "_model_name": "LayoutModel",
            "_view_count": null,
            "_view_module": "@jupyter-widgets/base",
            "_view_module_version": "1.2.0",
            "_view_name": "LayoutView",
            "align_content": null,
            "align_items": null,
            "align_self": null,
            "border": null,
            "bottom": null,
            "display": null,
            "flex": null,
            "flex_flow": null,
            "grid_area": null,
            "grid_auto_columns": null,
            "grid_auto_flow": null,
            "grid_auto_rows": null,
            "grid_column": null,
            "grid_gap": null,
            "grid_row": null,
            "grid_template_areas": null,
            "grid_template_columns": null,
            "grid_template_rows": null,
            "height": null,
            "justify_content": null,
            "justify_items": null,
            "left": null,
            "margin": null,
            "max_height": null,
            "max_width": null,
            "min_height": null,
            "min_width": null,
            "object_fit": null,
            "object_position": null,
            "order": null,
            "overflow": null,
            "overflow_x": null,
            "overflow_y": null,
            "padding": null,
            "right": null,
            "top": null,
            "visibility": null,
            "width": null
          }
        },
        "450c479dfea9456ea0faf76c3a471eb8": {
          "model_module": "@jupyter-widgets/controls",
          "model_name": "SliderStyleModel",
          "model_module_version": "1.5.0",
          "state": {
            "_model_module": "@jupyter-widgets/controls",
            "_model_module_version": "1.5.0",
            "_model_name": "SliderStyleModel",
            "_view_count": null,
            "_view_module": "@jupyter-widgets/base",
            "_view_module_version": "1.2.0",
            "_view_name": "StyleView",
            "description_width": "",
            "handle_color": null
          }
        },
        "80df13b5165b459ab3e4b831200570df": {
          "model_module": "@jupyter-widgets/base",
          "model_name": "LayoutModel",
          "model_module_version": "1.2.0",
          "state": {
            "_model_module": "@jupyter-widgets/base",
            "_model_module_version": "1.2.0",
            "_model_name": "LayoutModel",
            "_view_count": null,
            "_view_module": "@jupyter-widgets/base",
            "_view_module_version": "1.2.0",
            "_view_name": "LayoutView",
            "align_content": null,
            "align_items": null,
            "align_self": null,
            "border": null,
            "bottom": null,
            "display": null,
            "flex": null,
            "flex_flow": null,
            "grid_area": null,
            "grid_auto_columns": null,
            "grid_auto_flow": null,
            "grid_auto_rows": null,
            "grid_column": null,
            "grid_gap": null,
            "grid_row": null,
            "grid_template_areas": null,
            "grid_template_columns": null,
            "grid_template_rows": null,
            "height": null,
            "justify_content": null,
            "justify_items": null,
            "left": null,
            "margin": null,
            "max_height": null,
            "max_width": null,
            "min_height": null,
            "min_width": null,
            "object_fit": null,
            "object_position": null,
            "order": null,
            "overflow": null,
            "overflow_x": null,
            "overflow_y": null,
            "padding": null,
            "right": null,
            "top": null,
            "visibility": null,
            "width": null
          }
        },
        "94f0306685544f4a9351589e70e08e02": {
          "model_module": "@jupyter-widgets/controls",
          "model_name": "SliderStyleModel",
          "model_module_version": "1.5.0",
          "state": {
            "_model_module": "@jupyter-widgets/controls",
            "_model_module_version": "1.5.0",
            "_model_name": "SliderStyleModel",
            "_view_count": null,
            "_view_module": "@jupyter-widgets/base",
            "_view_module_version": "1.2.0",
            "_view_name": "StyleView",
            "description_width": "",
            "handle_color": null
          }
        },
        "d7949f5ab61a4437a547525325f53a14": {
          "model_module": "@jupyter-widgets/base",
          "model_name": "LayoutModel",
          "model_module_version": "1.2.0",
          "state": {
            "_model_module": "@jupyter-widgets/base",
            "_model_module_version": "1.2.0",
            "_model_name": "LayoutModel",
            "_view_count": null,
            "_view_module": "@jupyter-widgets/base",
            "_view_module_version": "1.2.0",
            "_view_name": "LayoutView",
            "align_content": null,
            "align_items": null,
            "align_self": null,
            "border": null,
            "bottom": null,
            "display": null,
            "flex": null,
            "flex_flow": null,
            "grid_area": null,
            "grid_auto_columns": null,
            "grid_auto_flow": null,
            "grid_auto_rows": null,
            "grid_column": null,
            "grid_gap": null,
            "grid_row": null,
            "grid_template_areas": null,
            "grid_template_columns": null,
            "grid_template_rows": null,
            "height": null,
            "justify_content": null,
            "justify_items": null,
            "left": null,
            "margin": null,
            "max_height": null,
            "max_width": null,
            "min_height": null,
            "min_width": null,
            "object_fit": null,
            "object_position": null,
            "order": null,
            "overflow": null,
            "overflow_x": null,
            "overflow_y": null,
            "padding": null,
            "right": null,
            "top": null,
            "visibility": null,
            "width": null
          }
        },
        "c375825028594e98a44b4174e0e53694": {
          "model_module": "@jupyter-widgets/controls",
          "model_name": "SliderStyleModel",
          "model_module_version": "1.5.0",
          "state": {
            "_model_module": "@jupyter-widgets/controls",
            "_model_module_version": "1.5.0",
            "_model_name": "SliderStyleModel",
            "_view_count": null,
            "_view_module": "@jupyter-widgets/base",
            "_view_module_version": "1.2.0",
            "_view_name": "StyleView",
            "description_width": "",
            "handle_color": null
          }
        },
        "8b0daba298e149f4a7630708f75e8a81": {
          "model_module": "@jupyter-widgets/base",
          "model_name": "LayoutModel",
          "model_module_version": "1.2.0",
          "state": {
            "_model_module": "@jupyter-widgets/base",
            "_model_module_version": "1.2.0",
            "_model_name": "LayoutModel",
            "_view_count": null,
            "_view_module": "@jupyter-widgets/base",
            "_view_module_version": "1.2.0",
            "_view_name": "LayoutView",
            "align_content": null,
            "align_items": null,
            "align_self": null,
            "border": null,
            "bottom": null,
            "display": null,
            "flex": null,
            "flex_flow": null,
            "grid_area": null,
            "grid_auto_columns": null,
            "grid_auto_flow": null,
            "grid_auto_rows": null,
            "grid_column": null,
            "grid_gap": null,
            "grid_row": null,
            "grid_template_areas": null,
            "grid_template_columns": null,
            "grid_template_rows": null,
            "height": null,
            "justify_content": null,
            "justify_items": null,
            "left": null,
            "margin": null,
            "max_height": null,
            "max_width": null,
            "min_height": null,
            "min_width": null,
            "object_fit": null,
            "object_position": null,
            "order": null,
            "overflow": null,
            "overflow_x": null,
            "overflow_y": null,
            "padding": null,
            "right": null,
            "top": null,
            "visibility": null,
            "width": null
          }
        }
      }
    }
  },
  "cells": [
    {
      "cell_type": "markdown",
      "metadata": {
        "id": "EsfO5Q92tL-6"
      },
      "source": [
        "[![freeCodeCamp](https://cdn.freecodecamp.org/testable-projects-fcc/images/fcc_secondary.svg)](https://freecodecamp.org/)"
      ]
    },
    {
      "cell_type": "markdown",
      "metadata": {
        "id": "57mlyO58UfN0"
      },
      "source": [
        "**Learn Foundational Math 3 by Building a Financial App**<br>\n",
        "Each of these steps will lead you toward the Certification Project. Once you complete a step, click to expand the next step."
      ]
    },
    {
      "cell_type": "markdown",
      "metadata": {
        "id": "szp5flp1fA8-"
      },
      "source": [
        "# &darr; **Do this first** &darr;\n",
        "Copy this notebook to your own account by clicking the `File` button at the top, and then click `Save a copy in Drive`. You will need to be logged in to Google. The file will be in a folder called \"Colab Notebooks\" in your Google Drive."
      ]
    },
    {
      "cell_type": "markdown",
      "source": [
        "# Step 0 - Acquire the Testing Library"
      ],
      "metadata": {
        "id": "KDloBuvnHQTS"
      }
    },
    {
      "cell_type": "markdown",
      "source": [
        "Please run this code to get the library file from FreeCodeCamp. Each step will use this library to test your code. You do not need to edit anything; just run this code cell and wait a few seconds until it tells you to go on to the next step."
      ],
      "metadata": {
        "id": "JiW6TlNezZKS"
      }
    },
    {
      "cell_type": "code",
      "source": [
        "# You may need to run this cell at the beginning of each new session\n",
        "\n",
        "!pip install requests\n",
        "\n",
        "# This will just take a few seconds\n",
        "\n",
        "import requests\n",
        "\n",
        "# Get the library from GitHub\n",
        "url = 'https://raw.githubusercontent.com/edatfreecodecamp/python-math/main/math-code-test-c.py'\n",
        "r = requests.get(url)\n",
        "\n",
        "# Save the library in a local working directory\n",
        "with open('math_code_test_c.py', 'w') as f:\n",
        "    f.write(r.text)\n",
        "\n",
        "# Now you can import the library\n",
        "import math_code_test_c as test\n",
        "\n",
        "# This will tell you if the code works\n",
        "test.step00()"
      ],
      "metadata": {
        "id": "eTlHceacGa1C",
        "colab": {
          "base_uri": "https://localhost:8080/"
        },
        "outputId": "b081a6d1-3522-4b7e-b83c-3191adce66cd"
      },
      "execution_count": null,
      "outputs": [
        {
          "output_type": "stream",
          "name": "stdout",
          "text": [
            "Requirement already satisfied: requests in /usr/local/lib/python3.10/dist-packages (2.31.0)\n",
            "Requirement already satisfied: charset-normalizer<4,>=2 in /usr/local/lib/python3.10/dist-packages (from requests) (3.2.0)\n",
            "Requirement already satisfied: idna<4,>=2.5 in /usr/local/lib/python3.10/dist-packages (from requests) (3.4)\n",
            "Requirement already satisfied: urllib3<3,>=1.21.1 in /usr/local/lib/python3.10/dist-packages (from requests) (2.0.4)\n",
            "Requirement already satisfied: certifi>=2017.4.17 in /usr/local/lib/python3.10/dist-packages (from requests) (2023.7.22)\n",
            "Code test passed\n",
            "Go on to the next step\n"
          ]
        }
      ]
    },
    {
      "cell_type": "markdown",
      "metadata": {
        "id": "r1AM-AcqkbyF"
      },
      "source": [
        "# Step 1 - Graphing Inequalities"
      ]
    },
    {
      "cell_type": "markdown",
      "metadata": {
        "id": "K8rdL_OEkd-t"
      },
      "source": [
        "Learn Inequalities by Building Shaded Graphs. Notice how you set up the plot, like you learned in the last certification. Run the following code and you will see that the graph of y <u>></u> 2x is not quite right. Because y is greater, the shading should be above the line. The second two arguments in the `fill_between()` function give a range of y values to shade. Change just that part of the code to make the graph correct. (Hint: Think about the top of the graph.)\n"
      ]
    },
    {
      "cell_type": "code",
      "metadata": {
        "id": "QAVgVP3xUd4J",
        "colab": {
          "base_uri": "https://localhost:8080/",
          "height": 505
        },
        "outputId": "05af246c-6c60-40dc-e253-cf4d77a96bf1"
      },
      "source": [
        "import matplotlib.pyplot as plt\n",
        "import numpy as np\n",
        "\n",
        "xmin = -10\n",
        "xmax = 10\n",
        "ymin = - 10\n",
        "ymax = 10\n",
        "points = 2*(xmax-xmin)\n",
        "x = np.linspace(xmin,xmax,points)\n",
        "\n",
        "fig, ax = plt.subplots()\n",
        "plt.axis([xmin,xmax,ymin,ymax]) # window size\n",
        "plt.plot([xmin,xmax],[0,0],'b') # blue x axis\n",
        "plt.plot([0,0],[ymin,ymax], 'b') # blue y axis\n",
        "\n",
        "plt.title(\"y > 2x\")\n",
        "\n",
        "y1 = 2*x\n",
        "plt.plot(x, y1)\n",
        "\n",
        "# Only change code below this line\n",
        "plt.fill_between(x, y1, ymax)\n",
        "\n",
        "plt.show()\n",
        "\n",
        "\n",
        "# Only change code above this line\n",
        "import math_code_test_c as test\n",
        "test.step01(In[-1].split('# Only change code above this line')[0])"
      ],
      "execution_count": null,
      "outputs": [
        {
          "output_type": "display_data",
          "data": {
            "text/plain": [
              "<Figure size 640x480 with 1 Axes>"
            ],
            "image/png": "[encoded data removed]"
          },
          "metadata": {}
        },
        {
          "output_type": "stream",
          "name": "stdout",
          "text": [
            " \n",
            "Code test passed\n",
            "Go on to the next step\n"
          ]
        }
      ]
    },
    {
      "cell_type": "markdown",
      "metadata": {
        "id": "8wXbGsoYkm60"
      },
      "source": [
        "# Step 2 - Graphing inequalities - Part 2"
      ]
    },
    {
      "cell_type": "markdown",
      "metadata": {
        "id": "ehY1G02Dkv7r"
      },
      "source": [
        "The default graph will give you a solid line, but you can change the type of line and the color. As `'b'` is for a solid blue line, `'b--'` will be a dashed blue line and `'r--'` will display a dashed red line. Change the code to graph a dashed red line."
      ]
    },
    {
      "cell_type": "code",
      "metadata": {
        "id": "3Pp_SmUikwgy",
        "colab": {
          "base_uri": "https://localhost:8080/",
          "height": 488
        },
        "outputId": "b95cfe7e-38a4-4a20-de75-804680a920c5"
      },
      "source": [
        "import matplotlib.pyplot as plt\n",
        "import numpy as np\n",
        "\n",
        "xmin = -10\n",
        "xmax = 10\n",
        "ymin = - 10\n",
        "ymax = 10\n",
        "points = 2*(xmax-xmin)\n",
        "x = np.linspace(xmin,xmax,points)\n",
        "\n",
        "fig, ax = plt.subplots()\n",
        "plt.axis([xmin,xmax,ymin,ymax]) # window size\n",
        "plt.plot([xmin,xmax],[0,0],'b') # blue x axis\n",
        "plt.plot([0,0],[ymin,ymax], 'b') # blue y axis\n",
        "\n",
        "y1 = 2*x\n",
        "\n",
        "# Only change the next line:\n",
        "plt.plot(x, y1, 'r--')\n",
        "\n",
        "plt.fill_between(x, y1, ymin)\n",
        "plt.show()\n",
        "\n",
        "\n",
        "\n",
        "# Only change code above this line\n",
        "import math_code_test_c as test\n",
        "test.step02(In[-1].split('# Only change code above this line')[0])"
      ],
      "execution_count": null,
      "outputs": [
        {
          "output_type": "display_data",
          "data": {
            "text/plain": [
              "<Figure size 640x480 with 1 Axes>"
            ],
            "image/png": "[encoded data removed]"
          },
          "metadata": {}
        },
        {
          "output_type": "stream",
          "name": "stdout",
          "text": [
            " \n",
            "Code test passed\n",
            "Go on to the next step\n"
          ]
        }
      ]
    },
    {
      "cell_type": "markdown",
      "metadata": {
        "id": "tBxuJtHck2Oo"
      },
      "source": [
        "# Step 3 - Making Art with Graphs"
      ]
    },
    {
      "cell_type": "markdown",
      "metadata": {
        "id": "PTr63nCrlTiM"
      },
      "source": [
        "Now plot four inequalities on the graph, in a pattern. Notice how you only need to define the x values once. In the `fill_between()` function notice a fourth argument, `facecolor=`, to indicate a different color for the shaded area. The color name in single quotes, like 'green' or 'yellow' or any common color name. Run the code to see the pattern, then reverse the order of the colors and run it again."
      ]
    },
    {
      "cell_type": "code",
      "metadata": {
        "id": "Iyoq1h3vlV-a",
        "colab": {
          "base_uri": "https://localhost:8080/",
          "height": 488
        },
        "outputId": "3f80e0b4-c8b3-45e5-e198-c1b15ac6a8bd"
      },
      "source": [
        "import matplotlib.pyplot as plt\n",
        "import numpy as np\n",
        "\n",
        "xmin = -10\n",
        "xmax = 10\n",
        "ymin = - 10\n",
        "ymax = 10\n",
        "points = 2*(xmax-xmin)\n",
        "x = np.linspace(xmin,xmax,points)\n",
        "\n",
        "fig, ax = plt.subplots()\n",
        "plt.axis([xmin,xmax,ymin,ymax]) # window size\n",
        "plt.plot([xmin,xmax],[0,0],'b') # blue x axis\n",
        "plt.plot([0,0],[ymin,ymax], 'b') # blue y axis\n",
        "\n",
        "# Only change the lines indicated below\n",
        "\n",
        "# line 1\n",
        "y1 = x+6\n",
        "plt.plot(x, y1)\n",
        "plt.fill_between(x, y1, 10, facecolor='blue') # change this line\n",
        "\n",
        "# line 2\n",
        "y2 = x+3\n",
        "plt.plot(x, y2)\n",
        "plt.fill_between(x, y2, y1, facecolor='green') # change this line\n",
        "\n",
        "# line 3\n",
        "y3 = x-1\n",
        "plt.plot(x, y3)\n",
        "plt.fill_between(x, y3, y2, facecolor='yellow') # change this line\n",
        "\n",
        "# line 4\n",
        "y4 = x-4\n",
        "plt.plot(x, y4)\n",
        "plt.fill_between(x, y4, y3, facecolor='red') # change this line\n",
        "\n",
        "plt.show()\n",
        "\n",
        "\n",
        "\n",
        "# Only change code above this line\n",
        "import math_code_test_c as test\n",
        "test.step03(In[-1].split('# Only change code above this line')[0])"
      ],
      "execution_count": null,
      "outputs": [
        {
          "output_type": "display_data",
          "data": {
            "text/plain": [
              "<Figure size 640x480 with 1 Axes>"
            ],
            "image/png": "[encoded data removed]"
          },
          "metadata": {}
        },
        {
          "output_type": "stream",
          "name": "stdout",
          "text": [
            " \n",
            "Code test passed\n",
            "Go on to the next step\n"
          ]
        }
      ]
    },
    {
      "cell_type": "markdown",
      "metadata": {
        "id": "s3z_zaNWlet8"
      },
      "source": [
        "# Step 4 - Monomials"
      ]
    },
    {
      "cell_type": "markdown",
      "metadata": {
        "id": "BTOGQIpElet-"
      },
      "source": [
        "A <i>monomial</i> means \"one thing\" or one term. In a math equation, each term has a sign, a coefficient, and a variable to an exponent. Here are some examples: In the term -3x<sup>2</sup> you can see that the sign is negative, the coefficient is 3, the variable is x, the exponent is 2. The term x also has all of these parts: the sign is positive, the coefficient is 1, the variable is x, and the exponent is 1. In the term 5, the sign is positive, the coefficient is 5, the variable is still x, and the exponent is zero (notice that you don't need to write some of these parts, like x<sup>0</sup>). You can use `sympy` to display monomials nicely. Just run the code to see how this looks.  "
      ]
    },
    {
      "cell_type": "code",
      "metadata": {
        "id": "oAPKmzeblet_",
        "colab": {
          "base_uri": "https://localhost:8080/",
          "height": 74
        },
        "outputId": "a5a01359-f607-4b6f-924c-63f84094928a"
      },
      "source": [
        "from sympy import symbols, Eq\n",
        "\n",
        "x = symbols('x')\n",
        "eq1 = Eq(-2*x**3 , -16)\n",
        "display(eq1)\n",
        "\n",
        "\n",
        "# Just run this code\n",
        "import math_code_test_c as test\n",
        "test.step00()"
      ],
      "execution_count": null,
      "outputs": [
        {
          "output_type": "display_data",
          "data": {
            "text/plain": [
              "Eq(-2*x**3, -16)"
            ],
            "text/latex": "$\\displaystyle - 2 x^{3} = -16$"
          },
          "metadata": {}
        },
        {
          "output_type": "stream",
          "name": "stdout",
          "text": [
            "Code test passed\n",
            "Go on to the next step\n"
          ]
        }
      ]
    },
    {
      "cell_type": "markdown",
      "metadata": {
        "id": "lnP9BOpPlhdK"
      },
      "source": [
        "# Step 5 - Polynomials"
      ]
    },
    {
      "cell_type": "markdown",
      "metadata": {
        "id": "ABF6PI7TlhdL"
      },
      "source": [
        "A \"monomial\" is one thing. A \"binomial\" is two things. A \"trinomial\" is three things. A \"polynomial\" is many things. In standard form, `x` is the variable; you put your terms in order from highest exponent to lowest; refer to the coefficients with letters in alphabetical order; and set all of this equal to `y` (because it is a function that you can graph). Example: y = ax<sup>4</sup> + bx<sup>3</sup> + cx<sup>2</sup> + dx + e <br>\n",
        "Write code to prompt for integer input and display a polynomial. Remember to use the `**` for exponents. Parts of this are already done for you."
      ]
    },
    {
      "cell_type": "code",
      "metadata": {
        "id": "USVAJRualhdL",
        "colab": {
          "base_uri": "https://localhost:8080/",
          "height": 179
        },
        "outputId": "1a859c16-8994-40c8-f8e3-742ad85216a9"
      },
      "source": [
        "from IPython.display import display, Math\n",
        "from sympy import *\n",
        "\n",
        "x,y = symbols('x y')\n",
        "\n",
        "a = int(input(\"Enter coefficient A: \"))\n",
        "b = int(input(\"Enter coefficient B: \"))\n",
        "c = int(input(\"Enter coefficient C: \"))\n",
        "d = int(input(\"Enter coefficient D: \"))\n",
        "\n",
        "# continue this to prompt for variables c and d\n",
        "\n",
        "# change the next line to display the full polynomial\n",
        "y = a*x**3 + b*x**2 + c*x + d\n",
        "\n",
        "print(\"Here is your equation:\")\n",
        "display(Math(\"y = \" + latex(y)))\n",
        "\n",
        "\n",
        "# Only change code above this line\n",
        "import math_code_test_c as test\n",
        "test.step05(In[-1].split('# Only change code above this line')[0])"
      ],
      "execution_count": null,
      "outputs": [
        {
          "output_type": "stream",
          "name": "stdout",
          "text": [
            "Enter coefficient A: 2\n",
            "Enter coefficient B: 3\n",
            "Enter coefficient C: 4\n",
            "Enter coefficient D: 5\n",
            "Here is your equation:\n"
          ]
        },
        {
          "output_type": "display_data",
          "data": {
            "text/plain": [
              "<IPython.core.display.Math object>"
            ],
            "text/latex": "$\\displaystyle y = 2 x^{3} + 3 x^{2} + 4 x + 5$"
          },
          "metadata": {}
        },
        {
          "output_type": "stream",
          "name": "stdout",
          "text": [
            " \n",
            "Code test passed\n",
            "Go on to the next step\n"
          ]
        }
      ]
    },
    {
      "cell_type": "markdown",
      "metadata": {
        "id": "yoavB8H_ljVn"
      },
      "source": [
        "# Step 6 - Interactive Polynomial Graph"
      ]
    },
    {
      "cell_type": "markdown",
      "metadata": {
        "id": "3yk-TKO6ljVo"
      },
      "source": [
        "For this polynomial, y = ax<sup>2</sup> + bx + c, you can move the sliders to adjust the coefficients and see how that affects the graph. Notice how the `f()` function takes two arguments and the `interactive()` function defines two sliders. Run this code and interact with it. Then add the third coefficient (\"c\") by changing three things: the `def` line so that the function takes three arguments, the `plt.plot` line so that it includes \"+ c\", and the `interactive` line to include a third slider."
      ]
    },
    {
      "cell_type": "code",
      "metadata": {
        "id": "sOecWXLOljVo",
        "colab": {
          "base_uri": "https://localhost:8080/",
          "height": 584,
          "referenced_widgets": [
            "00fdaa5d04f3423499fd801f65a312cd",
            "39d25dd000eb49e79c9ae10122138dac",
            "0329b969bc4d4017917d90e6508c8e71",
            "cfcf14b851bb46ab905ce24779293b54",
            "ff4b54abb8ad4c938b46700f9b6b7608",
            "3c88fad166e14daf919b012a090de037",
            "f2271fb6d3f54c4ca555a03be37a8ccb",
            "5aebfcfd93f8430485dff5e39753e79b",
            "4b7d82bb37954a0dbe38eb8596f12bf6",
            "beb43a623b7d4607a877e5f16eb0529b",
            "2b8c05ec92f14470a1a877f394eb0c83",
            "f00bf0d162c349a4bbce778dc3141418",
            "4b5a5a4f62e3494a9fb04e06495bd88b"
          ]
        },
        "outputId": "49e3e4f3-38a5-4e2c-9bc1-c5fb90a81031"
      },
      "source": [
        "%matplotlib inline\n",
        "from ipywidgets import interactive\n",
        "import matplotlib.pyplot as plt\n",
        "import numpy as np\n",
        "\n",
        "# Change the next line:\n",
        "def f(a, b, c):\n",
        "    plt.axis([-10,10,-10,10]) # window size\n",
        "    plt.plot([-10,10],[0,0],'k') # blue x axis\n",
        "    plt.plot([0,0],[-10,10], 'k') # blue y axis\n",
        "    x = np.linspace(-10, 10, 200)\n",
        "    plt.plot(x, a*x**2+b*x + c) # Change this line\n",
        "    plt.show()\n",
        "\n",
        "# Change the next line:\n",
        "interactive_plot = interactive(f, a=(-9, 9), b=(-9, 9), c=(-9, 9))\n",
        "display(interactive_plot)\n",
        "\n",
        "\n",
        "# Only change code above this line\n",
        "import math_code_test_c as test\n",
        "test.step06(In[-1].split('# Only change code above this line')[0])"
      ],
      "execution_count": null,
      "outputs": [
        {
          "output_type": "display_data",
          "data": {
            "text/plain": [
              "interactive(children=(IntSlider(value=0, description='a', max=9, min=-9), IntSlider(value=0, description='b', …"
            ],
            "application/vnd.jupyter.widget-view+json": {
              "version_major": 2,
              "version_minor": 0,
              "model_id": "00fdaa5d04f3423499fd801f65a312cd"
            }
          },
          "metadata": {}
        },
        {
          "output_type": "stream",
          "name": "stdout",
          "text": [
            " \n",
            "Code test passed\n",
            "Go on to the next step\n"
          ]
        }
      ]
    },
    {
      "cell_type": "markdown",
      "metadata": {
        "id": "MlRfYVIylkQf"
      },
      "source": [
        "# Step 7 - Exponential Functions"
      ]
    },
    {
      "cell_type": "markdown",
      "metadata": {
        "id": "H16dtXc0lkQg"
      },
      "source": [
        "The general formula for an `exponential function` is $y = a*b^{x}$ (where `a` and `b` are constants and `x` is the variable in the exponent). The shape of exponential graphs, especially when not drawn to scale, are very consistent, so the numerical values are more important to calculate. Things that grow exponentially include populations, investments, and other \"percent increase\" situations. Run this code and use the sliders to see the slight changes. Notice the scale. Then change the slider so that `a` has negative values from -9 to -1 and see how that changes the graph."
      ]
    },
    {
      "cell_type": "code",
      "metadata": {
        "id": "8KIMFu7LlkQg",
        "colab": {
          "base_uri": "https://localhost:8080/",
          "height": 552,
          "referenced_widgets": [
            "1a2dad9173a543dc8c7b82548291b24c",
            "a4aa029a28c04b2cbe07a0773080ce6f",
            "bc8a962c11c84a11a750ec51c3bd002f",
            "5eb653340c99463f9bca69824fd0c018",
            "095d45ffba2b407a95622cc760150159",
            "959dec1a66b643d99798686e02131f7b",
            "5d36b1af3821473ea67a1bdd736c1983",
            "9813e76734de4f539de760ad63bf26e7",
            "515430e4839e4fe698ebc40368ac13b3",
            "449a4225f51d4af38193b5206d6aa0e6"
          ]
        },
        "outputId": "2d948722-918b-4137-a6c3-1c37ca08647a"
      },
      "source": [
        "%matplotlib inline\n",
        "from ipywidgets import interactive\n",
        "import matplotlib.pyplot as plt\n",
        "import numpy as np\n",
        "\n",
        "xmin = -10\n",
        "xmax = 10\n",
        "ymin = -100\n",
        "ymax = 100\n",
        "\n",
        "def f(a, b):\n",
        "    plt.axis([xmin,xmax,ymin,ymax]) # window size\n",
        "    plt.plot([xmin,xmax],[0,0],'k') # x axis\n",
        "    plt.plot([0,0],[ymin,ymax], 'k') # y axis\n",
        "    x = np.linspace(xmin, xmax, 1000)\n",
        "    plt.plot(x, a*b**x)\n",
        "    plt.show()\n",
        "\n",
        "# Only change the next line:\n",
        "interactive_plot = interactive(f, a=(-9, -1), b=(1, 9))\n",
        "display(interactive_plot)\n",
        "\n",
        "\n",
        "# Only change code above this line\n",
        "import math_code_test_c as test\n",
        "test.step07(In[-1].split('# Only change code above this line')[0])"
      ],
      "execution_count": null,
      "outputs": [
        {
          "output_type": "display_data",
          "data": {
            "text/plain": [
              "interactive(children=(IntSlider(value=-5, description='a', max=-1, min=-9), IntSlider(value=5, description='b'…"
            ],
            "application/vnd.jupyter.widget-view+json": {
              "version_major": 2,
              "version_minor": 0,
              "model_id": "1a2dad9173a543dc8c7b82548291b24c"
            }
          },
          "metadata": {}
        },
        {
          "output_type": "stream",
          "name": "stdout",
          "text": [
            " \n",
            "Code test passed\n",
            "Go on to the next step\n"
          ]
        }
      ]
    },
    {
      "cell_type": "markdown",
      "metadata": {
        "id": "NGH1FcttllvS"
      },
      "source": [
        "# Step 8 - Percent Increase"
      ]
    },
    {
      "cell_type": "markdown",
      "metadata": {
        "id": "KLKYiioGllvT"
      },
      "source": [
        "One formula for calculating a percent increase is <b>A = P(1 + r)<sup>t</sup></b> where `A` would be the `y` value on a graph and `t` would be the `x` value. `A` is the <i>annuity</i>, which is the amount you have at the end. `P` is the <i>principle</i>, which is the amount you have at the beginning. `R` (usually not capitalized) is the <i>rate</i>, a percent converted to a decimal. The exponent `t` represents <i>time</i>, usually in years. The code already prompts for `P`, `r` and `t`, so use those variables to calculate the annuity value."
      ]
    },
    {
      "cell_type": "code",
      "metadata": {
        "id": "Vkp6zmxIllvT",
        "colab": {
          "base_uri": "https://localhost:8080/"
        },
        "outputId": "aaa23ef4-5e73-4f1f-9fc8-b5a87305c7b6"
      },
      "source": [
        "p = float(input(\"Starting amount = \"))\n",
        "r = float(input(\"Enter the percentage rate, converted to a decimal: \"))\n",
        "t = float(input(\"How many years will this investment grow? \"))\n",
        "\n",
        "# Change the next line to calculate the annuity\n",
        "a = p*(1+r)**t\n",
        "\n",
        "print(\"The annuity is \", a)\n",
        "\n",
        "\n",
        "# Only change code above this line\n",
        "import math_code_test_c as test\n",
        "test.step08(In[-1].split('# Only change code above this line')[0])"
      ],
      "execution_count": null,
      "outputs": [
        {
          "output_type": "stream",
          "name": "stdout",
          "text": [
            "Starting amount = 2000\n",
            "Enter the percentage rate, converted to a decimal: 0.03\n",
            "How many years will this investment grow? 30\n",
            "The annuity is  4854.524942379325\n",
            " \n",
            "Code test passed\n",
            "Go on to the next step\n"
          ]
        }
      ]
    },
    {
      "cell_type": "markdown",
      "metadata": {
        "id": "Sx0kwIdalmmY"
      },
      "source": [
        "# Step 9 - Percent Decrease"
      ]
    },
    {
      "cell_type": "markdown",
      "metadata": {
        "id": "Wx7fXQDKlmmZ"
      },
      "source": [
        "The percent decrease formula is very similar, except you subtract the rate, so the formula is <b>A = P(1 - r)<sup>t</sup></b>. Some things that decrease by a percent include car values, decay of some elements, and sales discounts. Use the existing variables to calculate the final value (`a`)."
      ]
    },
    {
      "cell_type": "code",
      "metadata": {
        "id": "zJmQoa6YlmmZ",
        "colab": {
          "base_uri": "https://localhost:8080/"
        },
        "outputId": "d8d2c896-cb6e-4655-d9d0-6d5789241dcb"
      },
      "source": [
        "p = float(input(\"Starting amount = \"))\n",
        "r = float(input(\"Enter the percentage rate, converted to a decimal: \"))\n",
        "t = float(input(\"How many years will this decrease continue? \"))\n",
        "\n",
        "# Change the next line to calculate the final amount\n",
        "a = p*(1 - r)**t\n",
        "\n",
        "print(\"The final amount is \", a)\n",
        "\n",
        "# Only change code above this line\n",
        "import math_code_test_c as test\n",
        "test.step09(In[-1].split('# Only change code above this line')[0])"
      ],
      "execution_count": null,
      "outputs": [
        {
          "output_type": "stream",
          "name": "stdout",
          "text": [
            "Starting amount = 2000\n",
            "Enter the percentage rate, converted to a decimal: 0.05\n",
            "How many years will this decrease continue? 30\n",
            "The final amount is  429.2775278858745\n",
            " \n",
            "Code test passed\n",
            "Go on to the next step\n"
          ]
        }
      ]
    },
    {
      "cell_type": "markdown",
      "source": [
        "#Step 10 - Compound Interest"
      ],
      "metadata": {
        "id": "S-DVSzwDvKvE"
      }
    },
    {
      "cell_type": "markdown",
      "source": [
        "When you use percent increase formulas for money in the bank, it's called <i>compound interest</i>. The amount of money you earn beyond the original principle is the interest. When the bank calculates the interest and adds it to the principle, that process is called <i>compounding</i> and it can happen any number of times per year. The formula is <b> A = P(1 + $\\frac{r}{n}$)<sup>nt</sup></b> where <i>n</i> is the number of times the bank compounds the money per year. Notice that if n = 1 then this formula is the same as the formula from an earlier step. Write the code to calculate the annuity (hint: use extra parentheses)."
      ],
      "metadata": {
        "id": "qf181QFOvCgd"
      }
    },
    {
      "cell_type": "code",
      "source": [
        "p = float(input(\"Starting amount: \"))\n",
        "r = float(input(\"Percentage rate, converted to a decimal: \"))\n",
        "t = float(input(\"Number of years this investment will grow: \"))\n",
        "n = int(input(\"Number of times compounded per year: \"))\n",
        "\n",
        "# Change the next line to calculate the annuity\n",
        "annuity = p*(1 + (r/n))**(n*t)\n",
        "\n",
        "\n",
        "\n",
        "print(\"The annuity is \", annuity)\n",
        "\n",
        "\n",
        "# Only change code above this line\n",
        "import math_code_test_c as test\n",
        "test.step10(In[-1].split('# Only change code above this line')[0])"
      ],
      "metadata": {
        "id": "O0FAXixVvGXh",
        "colab": {
          "base_uri": "https://localhost:8080/"
        },
        "outputId": "324a4a97-43b3-4812-ed34-0676d9685918"
      },
      "execution_count": null,
      "outputs": [
        {
          "output_type": "stream",
          "name": "stdout",
          "text": [
            "Starting amount: 2000\n",
            "Percentage rate, converted to a decimal: 0.05\n",
            "Number of years this investment will grow: 30\n",
            "Number of times compounded per year: 12\n",
            "The annuity is  8935.488628012217\n",
            " \n",
            "Code test passed\n",
            "Go on to the next step\n"
          ]
        }
      ]
    },
    {
      "cell_type": "markdown",
      "metadata": {
        "id": "H6LTAPYplxvi"
      },
      "source": [
        "# Step 11 - Continuous Growth"
      ]
    },
    {
      "cell_type": "markdown",
      "metadata": {
        "id": "5oRPxD6olxvi"
      },
      "source": [
        "In the first formula, A = P(1 + r)<sup>t</sup>, money is compounded annually.<br>\n",
        "In the second formula, A = P(1 + $\\frac{r}{n})^{nt}$, money is compounded `n` times per year.<br>\n",
        "As `n` gets to be a really big number, you get a different formula, A = Pe$^{rt}$, for continuous growth.<br>\n",
        "In this formula, `e` is a constant, about equal to 2.718281828. The following code already prompts for the four variables once. Use those variables to compare the annuity from the three formulas. Notice you need to `import math` to use `math.e` (the best approximation of e)."
      ]
    },
    {
      "cell_type": "code",
      "metadata": {
        "id": "kf3Q0Yg7lxvk",
        "colab": {
          "base_uri": "https://localhost:8080/"
        },
        "outputId": "4deb7b5e-a804-403b-c8e3-10bdb710d583"
      },
      "source": [
        "import math\n",
        "\n",
        "p = float(input(\"Principle: \"))\n",
        "r = float(input(\"Rate: \"))\n",
        "t = int(input(\"Time: \"))\n",
        "n = int(input(\"N: \"))\n",
        "\n",
        "# Only change the following three formulas:\n",
        "a_annual = p*(1+r)**t\n",
        "a_n_times = p*(1+r/n)**(n*t)\n",
        "a_continuous = p*math.e**(r*t)\n",
        "\n",
        "# Only change the code above this line\n",
        "\n",
        "print(\"Compounded annually, anuity = \", a_annual)\n",
        "print(\"Compounded \", n, \"times per year, anuity = \", a_n_times)\n",
        "print(\"Compounded continuously, anuity = \", a_continuous)\n",
        "\n",
        "\n",
        "# Only change code above this line\n",
        "import math_code_test_c as test\n",
        "test.step11(In[-1].split('# Only change code above this line')[0])"
      ],
      "execution_count": null,
      "outputs": [
        {
          "output_type": "stream",
          "name": "stdout",
          "text": [
            "Principle: 1\n",
            "Rate: 0.05\n",
            "Time: 30\n",
            "N: 56\n",
            "Compounded annually, anuity =  4.321942375150668\n",
            "Compounded  56 times per year, anuity =  4.478690727881195\n",
            "Compounded continuously, anuity =  4.4816890703380645\n",
            " \n",
            "Code test passed\n",
            "Go on to the next step\n"
          ]
        }
      ]
    },
    {
      "cell_type": "markdown",
      "metadata": {
        "id": "iaEBltZXln-Q"
      },
      "source": [
        "# Step 12 - Investments"
      ]
    },
    {
      "cell_type": "markdown",
      "source": [
        "If you have an investment where you contrubute money every month and the value also increases by a consistent percentage, you can create a loop to calculate the accumulated value. In each iteration, use the <i>simple interest</i> formula: interest = principle * rate * time. (Hint: for one month, t = $\\frac{1}{12}$ or you can just divide by 12.)"
      ],
      "metadata": {
        "id": "JTQ9uZw3UeGT"
      }
    },
    {
      "cell_type": "code",
      "metadata": {
        "id": "t7sRzH5Oln-R",
        "colab": {
          "base_uri": "https://localhost:8080/"
        },
        "outputId": "b9691e36-b311-4fb9-cfd8-9af0f4a53f36"
      },
      "source": [
        "p = float(input(\"Starting amount: \"))\n",
        "r = float(input(\"Annual percentage rate: \"))\n",
        "t = int(input(\"Number of years: \"))\n",
        "monthly = float(input(\"Monthly contribution: \"))\n",
        "\n",
        "# Hint: keep updating this annuity variable in the loop\n",
        "annuity = p\n",
        "\n",
        "# Each iteration of the loop represents one month\n",
        "for a in range(12*t):\n",
        "    annuity = annuity + monthly\n",
        "    # Change the next line to calculate the interest\n",
        "    interest = annuity * r / 12\n",
        "    annuity = annuity + interest\n",
        "\n",
        "# Keep this line:\n",
        "print(\"Annuity = \", annuity)\n",
        "\n",
        "\n",
        "# Only change code above this line\n",
        "import math_code_test_c as test\n",
        "test.step12(p,r,t,monthly,annuity)"
      ],
      "execution_count": null,
      "outputs": [
        {
          "output_type": "stream",
          "name": "stdout",
          "text": [
            "Starting amount: 100\n",
            "Annual percentage rate: 0.03\n",
            "Number of years: 10\n",
            "Monthly contribution: 100\n",
            "Annuity =  14144.0125970715\n",
            " \n",
            "Code test passed\n",
            "Go on to the next step\n"
          ]
        }
      ]
    },
    {
      "cell_type": "markdown",
      "metadata": {
        "id": "l5GwlqRdlpEu"
      },
      "source": [
        "# Step 13 - Mortgage Payments"
      ]
    },
    {
      "cell_type": "markdown",
      "metadata": {
        "id": "50OH4hj8lpEv"
      },
      "source": [
        "When borrowing a large amount of money over a long period of time, the formula to calculate monthly payments gets complicated. Here it is:<br>\n",
        " monthly payment = P$\\frac{\\frac{r}{12}(1 + \\frac{r}{12})^{12t}}{(1 + \\frac{r}{12})^{12t} - 1}$ where, as usual, `P` is the principle, `r` is the annual interest rate (as a decimal), and  `t` is the time in years. Write the code to prompt for these variables and calculate the monthly payment. Hint: Use other variables and do this in steps."
      ]
    },
    {
      "cell_type": "code",
      "metadata": {
        "id": "E5X8_WbnlpEv",
        "colab": {
          "base_uri": "https://localhost:8080/"
        },
        "outputId": "32ac769b-f2ff-4777-a6ef-92e36921596e"
      },
      "source": [
        "p = float(input(\"Amount borrowed: \"))\n",
        "r = float(input(\"Annual percentage rate: \"))\n",
        "t = float(input(\"Number of years: \"))\n",
        "\n",
        "# Write your code here and change the pmt variable\n",
        "\n",
        "numerator = (r/12)*(1+r/12)**(12*t)\n",
        "denominator = (1+r/12)**(12*t)-1\n",
        "\n",
        "pmt = p * numerator / denominator\n",
        "\n",
        "print(\"Monthly payment = $\", pmt)\n",
        "\n",
        "\n",
        "# Only change code above this line\n",
        "import math_code_test_c as test\n",
        "test.step13(p,r,t,pmt)"
      ],
      "execution_count": null,
      "outputs": [
        {
          "output_type": "stream",
          "name": "stdout",
          "text": [
            "Amount borrowed: 300000\n",
            "Annual percentage rate: 0.05\n",
            "Number of years: 30\n",
            "Monthly payment = $ 1610.4648690364193\n",
            " \n",
            "Code test passed\n",
            "Go on to the next step\n"
          ]
        }
      ]
    },
    {
      "cell_type": "markdown",
      "metadata": {
        "id": "8vdTo36Pl0yv"
      },
      "source": [
        "# Step 14 - Exponents and Logarithms"
      ]
    },
    {
      "cell_type": "markdown",
      "metadata": {
        "id": "gyMju8CVl0yw"
      },
      "source": [
        "Exponential functions and logarithmic functions are inverses of each other. Here is an example: <b>2<sup>4</sup> = 16</b> and <b>log<sub>2</sub>16 = 4</b>. Both have the same information rearranged in different ways. If you had 2<sup>4</sup> = x you would be able to do that easily, but if you had 2<sup>x</sup> = 16 it would be more difficult. You could write that last equation as a logarithm: log<sub>2</sub>16 = x. In Python, you would write this as `math.log(16,2)`. In both cases, you would read it as \"the log, base 2, of 16\" and the answer would be an exponent. The logarithm is especially useful when the exponent is not a nice integer. Write code to prompt for the base and the result, then use logarithms to calculate the exponent."
      ]
    },
    {
      "cell_type": "code",
      "metadata": {
        "id": "ehtA_ATbl0yw",
        "colab": {
          "base_uri": "https://localhost:8080/"
        },
        "outputId": "b9175b12-8823-49be-8ee0-d994d9e1f55c"
      },
      "source": [
        "import math\n",
        "\n",
        "base = float(input(\"base: \"))\n",
        "result = float(input(\"result: \"))\n",
        "\n",
        "# Just change the next line:\n",
        "exp = math.log(result, base)\n",
        "\n",
        "print(\"exponent = \", exp)\n",
        "\n",
        "\n",
        "# Only change code above this line\n",
        "import math_code_test_c as test\n",
        "test.step14(In[-1].split('# Only change code above this line')[0])"
      ],
      "execution_count": null,
      "outputs": [
        {
          "output_type": "stream",
          "name": "stdout",
          "text": [
            "base: 28\n",
            "result: 4\n",
            "exponent =  0.4160291953530189\n",
            " \n",
            "Code test passed\n",
            "Go on to the next step\n"
          ]
        }
      ]
    },
    {
      "cell_type": "markdown",
      "metadata": {
        "id": "U_7bv7aG4UJe"
      },
      "source": [
        "# Step 15 - Natural Logs"
      ]
    },
    {
      "cell_type": "markdown",
      "metadata": {
        "id": "uKjifZw04UJe"
      },
      "source": [
        "If you know the rate, how long will it take for something to double?\n",
        "Start with the continuous growth formula:<br>\n",
        "A = Pe<sup>rt</sup><br>\n",
        "If annuity is two times the principle, divide both sides by P\n",
        "and get this:<br>\n",
        "2 = e<sup>rt</sup><br>\n",
        "Because of the base <i>e</i>, take the natural log of both sides and get this:<br>\n",
        "ln(2) = rt<br>\n",
        "Then divide by r to solve for t or divide by t to solve for r. In Python, use `math.log()` with one argument and no base to calculate natural log (which is a logarithm with base e). So the natural log of 2 is `math.log(2)`. Just run the code to see this example."
      ]
    },
    {
      "cell_type": "code",
      "metadata": {
        "id": "dM3RxByK4UJe",
        "colab": {
          "base_uri": "https://localhost:8080/"
        },
        "outputId": "7a703836-9d54-4f48-d1bd-6d08b1df157c"
      },
      "source": [
        "import math\n",
        "\n",
        "r = float(input(\"Enter the annual rate as a decimal: \\n\"))\n",
        "t = math.log(2)/r\n",
        "print(\"Your money will double in \", t, \" years\")\n",
        "\n",
        "\n",
        "# Just run this code\n",
        "import math_code_test_c as test\n",
        "test.step00()"
      ],
      "execution_count": null,
      "outputs": [
        {
          "output_type": "stream",
          "name": "stdout",
          "text": [
            "Enter the annual rate as a decimal: \n",
            "0.05\n",
            "Your money will double in  13.862943611198904  years\n",
            "Code test passed\n",
            "Go on to the next step\n"
          ]
        }
      ]
    },
    {
      "cell_type": "markdown",
      "metadata": {
        "id": "B7DOz9nh4XAb"
      },
      "source": [
        "# Step 16 - Common Logs"
      ]
    },
    {
      "cell_type": "markdown",
      "metadata": {
        "id": "MD3dH5yF4XAb"
      },
      "source": [
        "The <i>common log</i> is base 10, because that is our number system. Run this code a few times to see how the exponents relate to moving the decimal point to get the resulting number. Notice the floor function. Then take out the floor function to see the exact logarithm."
      ]
    },
    {
      "cell_type": "code",
      "metadata": {
        "id": "n390hG0GcEXI",
        "colab": {
          "base_uri": "https://localhost:8080/"
        },
        "outputId": "61ed5ab5-f0a9-4125-f503-d3675633865f"
      },
      "source": [
        "import math\n",
        "\n",
        "n = input('Enter a number with several digits or several decimal places: ')\n",
        "n = float(n)\n",
        "\n",
        "\n",
        "# Rund the code then change the next line:\n",
        "exp = math.log(n, 10)\n",
        "\n",
        "# This avoids a weird Python quirk:\n",
        "if n==1000:\n",
        "    exp = 3;\n",
        "\n",
        "print(\"exponent = \", exp)\n",
        "\n",
        "\n",
        "# Only change code above this line\n",
        "import math_code_test_c as test\n",
        "test.step16(In[-1].split('# Only change code above this line')[0])"
      ],
      "execution_count": null,
      "outputs": [
        {
          "output_type": "stream",
          "name": "stdout",
          "text": [
            "Enter a number with several digits or several decimal places: 13214567\n",
            "exponent =  7.121052937230004\n",
            " \n",
            "Code test passed\n",
            "Go on to the next step\n"
          ]
        }
      ]
    },
    {
      "cell_type": "markdown",
      "metadata": {
        "id": "cqvLtj7t4VMN"
      },
      "source": [
        "# Step 17 - Scientific Notation"
      ]
    },
    {
      "cell_type": "markdown",
      "metadata": {
        "id": "-Uh4YmRt4VMN"
      },
      "source": [
        "<i>Scientific Notation</i> is a way of writing very large or very small numbers without all of the zeros or decimal places. For example, 45,000,000 could be written as 4.5 x 10<sup>7</sup> in scientific notation and 0.00000045 could be written as 4.5 x 10<sup>-7</sup>. The notation requires base 10, so it will always use the structure <b>n $*$ 10<sup>x</sup></b> where n is one digit then the decimal point. Change the code below to print each number in scientific notation. Determine the value of each variable by counting (not writing code). You will automate this process in the next step."
      ]
    },
    {
      "cell_type": "code",
      "metadata": {
        "id": "UyPF6dKz4VMO",
        "colab": {
          "base_uri": "https://localhost:8080/"
        },
        "outputId": "0c77db4b-edfc-4380-8941-ed78739a890f"
      },
      "source": [
        "a = 156000000000\n",
        "b = 0.000000000413\n",
        "\n",
        "# Change the code below this line\n",
        "\n",
        "a1 = 1.56\n",
        "a2 = 11\n",
        "b1 = 4.13\n",
        "b2 = -10\n",
        "\n",
        "print(a, \" = \", a1, \"* 10^\", a2)\n",
        "\n",
        "print(b, \" = \", b1, \"* 10^\", b2)\n",
        "\n",
        "\n",
        "# Only change code above this line\n",
        "import math_code_test_c as test\n",
        "test.step17(b1,b2)"
      ],
      "execution_count": null,
      "outputs": [
        {
          "output_type": "stream",
          "name": "stdout",
          "text": [
            "156000000000  =  1.56 * 10^ 11\n",
            "4.13e-10  =  4.13 * 10^ -10\n",
            " \n",
            "Code test passed\n",
            "Go on to the next step\n"
          ]
        }
      ]
    },
    {
      "cell_type": "markdown",
      "metadata": {
        "id": "GsLj1NhZl1ya"
      },
      "source": [
        "#Step 18 - Logs and Scientific Notation"
      ]
    },
    {
      "cell_type": "markdown",
      "metadata": {
        "id": "uhWbIGVml1yb"
      },
      "source": [
        "Writing code for scientific notation, you will make use of logarithms with base 10. Remember that scientific notation is in the form n $*$ 10<sup>x</sup> where `n` is one digit and then a decimal. To convert a number to scientific notation, take the log of the number and use the `floor()` function to get the expoenent (just as you did in a previous step). Divide the original number by 10 to that exponent and you get `n` (hint: dividing by 10<sup>x</sup> is the same as multiplying by 10<sup>-x</sup>). Rounding is usually necessary. Write the code to convert numbers to scientific notation."
      ]
    },
    {
      "cell_type": "code",
      "metadata": {
        "id": "y8PXrFCYl1yb",
        "colab": {
          "base_uri": "https://localhost:8080/"
        },
        "outputId": "f987af93-edad-4a58-f282-67a071188964"
      },
      "source": [
        "import math\n",
        "\n",
        "a = .00000000000234\n",
        "b = 12300000000000\n",
        "\n",
        "# Use these three lines as a model\n",
        "x1 = math.floor(math.log(a,10))\n",
        "n1 = round(a*10**(-x1),2)\n",
        "print(\"a = \", n1, \"* 10^\", x1)\n",
        "\n",
        "# Change the next two lines to match the model\n",
        "x2 = math.floor(math.log(b,10))\n",
        "n2 = round(b*10**(-x2),2)\n",
        "print(\"b = \", n2, \"* 10^\", x2)\n",
        "\n",
        "\n",
        "\n",
        "# Only change code above this line\n",
        "import math_code_test_c as test\n",
        "test.step18(In[-1].split('# Only change code above this line')[0])"
      ],
      "execution_count": null,
      "outputs": [
        {
          "output_type": "stream",
          "name": "stdout",
          "text": [
            "a =  2.34 * 10^ -12\n",
            "b =  1.23 * 10^ 13\n",
            " \n",
            "Code test passed\n",
            "Go on to the next step\n"
          ]
        }
      ]
    },
    {
      "cell_type": "markdown",
      "metadata": {
        "id": "d7Lc9KfMYU8Y"
      },
      "source": [
        "# Step 19 - Scientific Notation Conversion"
      ]
    },
    {
      "cell_type": "markdown",
      "metadata": {
        "id": "21gdVKfeYc5R"
      },
      "source": [
        "Now ask for a number as input, and write the code to convert that number into scientific notation. You can re-use code you used in the previous step, using `n` and `x` as variables to print n * 10^x."
      ]
    },
    {
      "cell_type": "code",
      "metadata": {
        "id": "VkOkpmrP4XAb",
        "colab": {
          "base_uri": "https://localhost:8080/"
        },
        "outputId": "739cfcc2-8a29-4083-c366-294e64509a78"
      },
      "source": [
        "import math\n",
        "\n",
        "a = float(input('Enter a number to convert to scientific notation: '))\n",
        "\n",
        "# write your code here\n",
        "x = math.floor(math.log(a, 10))\n",
        "n = round(a*10**(-x), 2)\n",
        "if len(str(x)) == 1 and '-' not in str(x):\n",
        "  x = '0' + str(x)\n",
        "if len(str(x)) == 2 and '-' in str(x):\n",
        "  x = '-0' + str(x)[1:]\n",
        "\n",
        "print('{} = {}e{}'.format(a, n, x))\n",
        "\n",
        "# Only change code above this line\n",
        "import math_code_test_c as test\n",
        "test.step19(In[-1].split('# Only change code above this line')[0])"
      ],
      "execution_count": null,
      "outputs": [
        {
          "output_type": "stream",
          "name": "stdout",
          "text": [
            "Enter a number to convert to scientific notation: 0.0000000025\n",
            "2.5e-09 = 2.5e-09\n",
            " \n",
            "Code test passed\n",
            "Go on to the next step\n"
          ]
        }
      ]
    },
    {
      "cell_type": "markdown",
      "metadata": {
        "id": "VkD30ljxlyw9"
      },
      "source": [
        "# Step 20 - Graphing Exponents and Logs"
      ]
    },
    {
      "cell_type": "markdown",
      "metadata": {
        "id": "A7YL0fIdlyw-"
      },
      "source": [
        "When not writing code, the <i>natural log</i> is written as \"ln\" and it means a logarithm with base e. Like any pair of inverse functions, the line y = e<sup>x</sup> and the line y = ln(x) are mirrored over the line y = x.  Because of the `np.linspace()` function in this code, `np.log()` works, but `math.log()` does not work here. Both log() functions in Python use e as the base by default. When using the `numpy` library, use `np.log10()` for base 10, `np.log2()` for base 2, etc. Because log functions can only have positive x values, the np.linspace() function will define a positive range for the log() function. Run this code, then change the blue line function to graph y = 2<sup>x</sup> and change the green line function to graph y = log<sub>2</sub>x and notice the similarities between the graphs."
      ]
    },
    {
      "cell_type": "code",
      "metadata": {
        "id": "fJiDmoW1lyw_",
        "colab": {
          "base_uri": "https://localhost:8080/",
          "height": 488
        },
        "outputId": "f6a0b6a2-31f3-4aa8-883b-5bf09765bec6"
      },
      "source": [
        "import matplotlib.pyplot as plt\n",
        "import numpy as np\n",
        "import math\n",
        "\n",
        "xmin = -10\n",
        "xmax = 10\n",
        "ymin = -10\n",
        "ymax = 10\n",
        "plt.axis([xmin,xmax,ymin,ymax]) # window size\n",
        "plt.plot([xmin,xmax],[0,0],'k') # x axis\n",
        "plt.plot([0,0],[ymin,ymax], 'k') # y axis\n",
        "\n",
        "# Same x values for two lines\n",
        "x1 = np.linspace(xmin, xmax, 1000)\n",
        "\n",
        "# Blue line for y = e^x\n",
        "plt.plot(x1, 2**x1, 'b')  # Change this line\n",
        "\n",
        "# Red line for y = x\n",
        "plt.plot(x1, x1, 'r')\n",
        "\n",
        "# Different x values for y = log(x) because x > 0\n",
        "x2 = np.linspace(.001, xmax, 500)\n",
        "\n",
        "# Green line for y = log(x)\n",
        "plt.plot(x2, np.log2(x2), 'g')  # Change this line\n",
        "\n",
        "plt.show()\n",
        "\n",
        "\n",
        "# Only change code above this line\n",
        "import math_code_test_c as test\n",
        "test.step20(In[-1].split('# Only change code above this line')[0])"
      ],
      "execution_count": null,
      "outputs": [
        {
          "output_type": "display_data",
          "data": {
            "text/plain": [
              "<Figure size 640x480 with 1 Axes>"
            ],
            "image/png": "[encoded data removed]"
          },
          "metadata": {}
        },
        {
          "output_type": "stream",
          "name": "stdout",
          "text": [
            " \n",
            "Code test passed\n",
            "Go on to the next step\n"
          ]
        }
      ]
    },
    {
      "cell_type": "markdown",
      "metadata": {
        "id": "bJzxcKIfz8Qt"
      },
      "source": [
        "# Step 21 - Log Application - pH Scale"
      ]
    },
    {
      "cell_type": "markdown",
      "metadata": {
        "id": "pfF3voqSz8Q9"
      },
      "source": [
        "The pH scale, for measuring acids and bases, is a logarithmic scale. The negative log of the hydrogen concentration is the pH. Example: if the hydrogen concentration is .007 then that would be 7 * 10<sup>-3</sup> and therefore a pH of 3. Write the code to prompt for hydrogen concentration and then print the pH. Hint: the <i>ceiling</i> function (`math.ceil()`) works better than rounding here."
      ]
    },
    {
      "cell_type": "code",
      "metadata": {
        "id": "tepkvSubz8Q9",
        "colab": {
          "base_uri": "https://localhost:8080/"
        },
        "outputId": "fe37944c-3aeb-4df0-fe19-082226050e2a"
      },
      "source": [
        "import math\n",
        "\n",
        "decimal = float(input(\"Enter the hydrogen concentration as a decimal number: \"))\n",
        "\n",
        "# Write your code here\n",
        "h = math.ceil(-math.log(decimal, 10))\n",
        "\n",
        "print(\"pH = \", h)\n",
        "\n",
        "# Only change code above this line\n",
        "import math_code_test_c as test\n",
        "test.step21(In[-1].split('# Only change code above this line')[0])"
      ],
      "execution_count": null,
      "outputs": [
        {
          "output_type": "stream",
          "name": "stdout",
          "text": [
            "Enter the hydrogen concentration as a decimal number: 5000\n",
            "pH =  -3\n",
            " \n",
            "Code test passed\n"
          ]
        }
      ]
    },
    {
      "cell_type": "markdown",
      "source": [
        "# Step 22 - Functions for the Project"
      ],
      "metadata": {
        "id": "8iWUAktvPLYp"
      }
    },
    {
      "cell_type": "markdown",
      "source": [
        "Define a function for calculating mortgage payments and a function for calculating investment balance. Use code you wrote in earlier steps. Each function should prompt for input and print the output."
      ],
      "metadata": {
        "id": "a9gRwbr-PGPC"
      }
    },
    {
      "cell_type": "code",
      "source": [
        "\n",
        "# Write your code here\n",
        "\n",
        "def mortgage_calc():\n",
        "  p = float(input('Input the amount borrowed: '))\n",
        "  r = float(input('Annual percentage rate as a decimal (ex. 5% = 0.05): '))\n",
        "  t = int(input('Amount of years until it should be paid off: '))\n",
        "\n",
        "  numerator = (r/12)*(1+r/12)**(12*t)\n",
        "  denominator = (1+r/12)**(12*t)-1\n",
        "\n",
        "  monthly_payment = round(p * numerator / denominator,2)\n",
        "\n",
        "  if p % 1 == 0:\n",
        "    p = int(p)\n",
        "\n",
        "  if r * 100 % 1 == 0:\n",
        "    r = int(r * 100)\n",
        "  else:\n",
        "    r = round(r*100, 2)\n",
        "\n",
        "  print(monthly_payment)\n",
        "  print(\"\"\"\\nIf you borrowed ${} with and interest rate of {} and wanted to have it paid off in {} years,\n",
        "you would have to pay ${} each month.\"\"\".format(p, r, t, monthly_payment))\n",
        "\n",
        "\n",
        "\n",
        "\n",
        "def investment_calc():\n",
        "\n",
        "  p = float(input(\"Starting amount: \"))\n",
        "  r = float(input(\"Annual percentage rate: \"))\n",
        "  t = int(input(\"Number of years: \"))\n",
        "  a = int(input(\"Amount of payments per year: \"))\n",
        "  contrib = float(input(\"Contribution per payment: \"))\n",
        "\n",
        "  # Hint: keep updating this annuity variable in the loop\n",
        "  annuity = p\n",
        "\n",
        "  # Each iteration of the loop represents one month\n",
        "  for b in range(a*t):\n",
        "      annuity = annuity + contrib\n",
        "      # Change the next line to calculate the interest\n",
        "      interest = annuity * r / a\n",
        "      annuity = annuity + interest\n",
        "\n",
        "  annuity = round(annuity, 2)\n",
        "  print(\"\"\"\n",
        "After {} years with {} payments per year, an interest rate of {}%, a starting amount of $0 and each payment being ${} you will have accrued ${}.\"\"\".format(t, a, round(r*100,2), annuity))\n",
        "  print(\"Annuity = \", annuity)\n",
        "\n",
        "\n",
        "investment_calc()"
      ],
      "metadata": {
        "id": "neFvvCOzO_WB",
        "colab": {
          "base_uri": "https://localhost:8080/"
        },
        "outputId": "7ddb3254-8501-45f6-d676-6053c1d6c717"
      },
      "execution_count": null,
      "outputs": [
        {
          "output_type": "stream",
          "name": "stdout",
          "text": [
            "Starting amount: 0\n",
            "Annual percentage rate: 0.025\n",
            "Number of years: 10\n",
            "Amount of payments per year: 12\n",
            "Contribution per payment: 100\n",
            "\n",
            "After 10 years with 100.0 payments per year and an interest rate of 2.5% you will have accrued $13645.56.\n",
            "Annuity =  13645.56\n"
          ]
        }
      ]
    },
    {
      "cell_type": "markdown",
      "source": [
        "# Step 23 - More Functions"
      ],
      "metadata": {
        "id": "rzaQj8dEOfzb"
      }
    },
    {
      "cell_type": "markdown",
      "source": [
        "Create a function that produces an interactive polynomial graph (with sliders). Use code from an earlier step."
      ],
      "metadata": {
        "id": "C6OV8KzQOTS_"
      }
    },
    {
      "cell_type": "code",
      "source": [
        "# Write your code here\n",
        "%matplotlib inline\n",
        "from ipywidgets import interactive\n",
        "import matplotlib.pyplot as plt\n",
        "import numpy as np\n",
        "import math\n",
        "\n",
        "def func():\n",
        "\n",
        "  def f(a, b, c, d, e, f, zoom):\n",
        "\n",
        "    xmin = -zoom\n",
        "    xmax = zoom\n",
        "    ymin = -zoom\n",
        "    ymax = zoom\n",
        "    points = 20 * (xmax - xmin)\n",
        "    x = np.linspace(math.ceil(xmin),math.ceil(xmax), points)\n",
        "\n",
        "    fig, ax = plt.subplots()\n",
        "\n",
        "    plt.axis([xmin,xmax,ymin,ymax]) # window size\n",
        "    plt.plot([xmin,xmax],[0,0],'black') # blue x axis\n",
        "    plt.plot([0,0],[ymin, ymax], 'black') # blue y axis\n",
        "    ax.grid(True)\n",
        "\n",
        "    plt.plot(x, a*x**5 + b*x**4 + c*x**3 + d*x**2 + e*x + f) # Change this line\n",
        "    plt.show()\n",
        "\n",
        "\n",
        "  interactive_plot = interactive(f, a=(-100, 100), b=(-100, 100), c=(-100, 100), d=(-100,100), e=(-100,100), f=(-100, 100), zoom=(1, 500))\n",
        "  display(interactive_plot)\n",
        "\n",
        "# This step does not have a test\n",
        "func()"
      ],
      "metadata": {
        "id": "6cGh0vE1OYyC",
        "colab": {
          "base_uri": "https://localhost:8080/",
          "height": 654,
          "referenced_widgets": [
            "2b95e1ac65cb428d980bf756247be001",
            "4deec297d80a48b7b042d59f0fcc3be9",
            "3fdcf61f14264f179fd20a383e43ffd5",
            "b5010113d9fd4da1bc08992d89e26800",
            "13176b265c204c75a48a3c0e79b8bfb8",
            "78cf9c431b5740c8a9555bdfb16a9372",
            "a9f46b0787da4b5abe2287507bf6b289",
            "b26db93861da41c4add89de5d4342558",
            "d32c6fec1e23401a841c1c5cc34ca870",
            "52ca382ae76f4695bc34d379b7bf3f43",
            "be8b8ee1c0514852890f9538f73a8cb2",
            "3d1d9b1273eb40ab920cd17b184d42dd",
            "66410a82ff16470e9b3a60daca9bf869",
            "f86fcf9b39264978acac0d0e560e5776",
            "4c00661393f64a86b92277095c6c7274",
            "98b18d01effa41cab7d4f0f6342ac790",
            "09c1e804f7d54f4a88fe3cc4a1ba8675",
            "946009c886bb47259d216f4b86d3c2ef",
            "3b12cacf7a7043519587febae1bdfa8a",
            "450c479dfea9456ea0faf76c3a471eb8",
            "80df13b5165b459ab3e4b831200570df",
            "94f0306685544f4a9351589e70e08e02",
            "d7949f5ab61a4437a547525325f53a14",
            "c375825028594e98a44b4174e0e53694",
            "8b0daba298e149f4a7630708f75e8a81"
          ]
        },
        "outputId": "d7ad26ea-7a64-400e-8228-09937713295f"
      },
      "execution_count": null,
      "outputs": [
        {
          "output_type": "display_data",
          "data": {
            "text/plain": [
              "interactive(children=(IntSlider(value=0, description='a', min=-100), IntSlider(value=0, description='b', min=-…"
            ],
            "application/vnd.jupyter.widget-view+json": {
              "version_major": 2,
              "version_minor": 0,
              "model_id": "2b95e1ac65cb428d980bf756247be001"
            }
          },
          "metadata": {}
        }
      ]
    },
    {
      "cell_type": "markdown",
      "source": [
        "# Step 24 - New Function"
      ],
      "metadata": {
        "id": "UptjjiCOTSS2"
      }
    },
    {
      "cell_type": "markdown",
      "source": [
        "Create a function to print the time required for money to double, given the rate. Use the continuous growth formula from an earlier step."
      ],
      "metadata": {
        "id": "XKXNbHzGTKAp"
      }
    },
    {
      "cell_type": "code",
      "source": [
        "# Write your code here\n",
        "\n",
        "def double_money():\n",
        "  rate = float(input('Input the annual rate as a decimal: '))\n",
        "  years = math.log(2) / rate\n",
        "\n",
        "  rate = math.log / years\n",
        "\n",
        "  print('It will take {} years for the money to double, given the rate of {}% per year.'.format(round(years, 2), round(rate * 100, 2)))\n",
        "# This step does not have a test\n",
        "\n"
      ],
      "metadata": {
        "id": "kWs_IpxrTYyl"
      },
      "execution_count": null,
      "outputs": []
    },
    {
      "cell_type": "markdown",
      "source": [
        "# Step 25 - Certification Project 3"
      ],
      "metadata": {
        "id": "CRa5i8s3UCuL"
      }
    },
    {
      "cell_type": "markdown",
      "source": [
        "Build a financial app that calculates all of the following:<br>\n",
        "<ul>\n",
        "<li>Mortgage payment - given principle, rate, time</li>\n",
        "<li>Retirement account balance at time of retirement</li>\n",
        "<li>Time required for money to double - given the rate</li>\n",
        "<li>Rate of growth - given starting value, time, and ending value</li>\n",
        "</ul>"
      ],
      "metadata": {
        "id": "nngVpvqeT4U7"
      }
    },
    {
      "cell_type": "code",
      "source": [
        "\n",
        "\n",
        "# Write your code here\n",
        "def mortgage_calc():\n",
        "  p = float(input('\\nInput the amount borrowed: '))\n",
        "  r = float(input('Annual percentage rate as a decimal (ex. 5% = 0.05): '))\n",
        "  t = int(input('Amount of years until it should be paid off: '))\n",
        "\n",
        "  numerator = (r/12)*(1+r/12)**(12*t)\n",
        "  denominator = (1+r/12)**(12*t)-1\n",
        "\n",
        "  monthly_payment = round(p * numerator / denominator,2)\n",
        "\n",
        "  if p % 1 == 0:\n",
        "    p = int(p)\n",
        "\n",
        "  if r * 100 % 1 == 0:\n",
        "    r = int(r * 100)\n",
        "  else:\n",
        "    r = round(r*100, 2)\n",
        "\n",
        "  print(monthly_payment)\n",
        "  print(\"\"\"\\nIf you borrowed ${} with and interest rate of {} and wanted to have it paid off in {} years,\n",
        "you would have to pay ${} each month.\"\"\".format(p, r, t, monthly_payment))\n",
        "\n",
        "def retirement_calc():\n",
        "\n",
        "  p = float(input(\"\\nMoney already in the retirement fund: \"))\n",
        "  r = float(input(\"Annual percentage rate: \"))\n",
        "  t = int(input(\"Years until retirement: \"))\n",
        "  contrib = float(input(\"Monthly payment: \"))\n",
        "\n",
        "  # Hint: keep updating this annuity variable in the loop\n",
        "  annuity = p\n",
        "\n",
        "  # Each iteration of the loop represents one month\n",
        "  for b in range(12*t):\n",
        "      annuity = annuity + contrib\n",
        "      # Change the next line to calculate the interest\n",
        "      interest = annuity * r / 12\n",
        "      annuity = annuity + interest\n",
        "\n",
        "  print(\"\\nAt the time of your retirement the bank account will hold ${} and generate ${} each month to live from.\".format(annuity, round(interest, 2)))\n",
        "\n",
        "def double_money():\n",
        "  rate = float(input('\\nInput the annual rate as a decimal: '))\n",
        "  years = math.log(2) / rate\n",
        "\n",
        "  print('\\nIt will take {} years for the money to double, given the rate of {}% per year.'.format(round(years, 2), round(rate * 100, 2)))\n",
        "\n",
        "def rate_of_growth():\n",
        "  start = float(input(\"\\nEnter the beginning value: \"))\n",
        "  end = float(input(\"Enter the end value: \"))\n",
        "  years = int(input(\"Enter the amount of years: \"))\n",
        "\n",
        "  rate = 12 * (((end/start)**(1/(12*years)) - 1))\n",
        "  print(\"\\nThe interest rate is {}%.\".format(round(rate * 100, 2)))\n",
        "\n",
        "def compare_monthly_cont():\n",
        "\n",
        "  p = float(input(\"\\nPrinciple: \"))\n",
        "  r = float(input(\"Rate: \"))\n",
        "  t = int(input(\"Time: \"))\n",
        "\n",
        "  a_monthly_times = p*(1+r/12)**(12*t)\n",
        "  a_continuous = p*math.e**(r*t)\n",
        "\n",
        "  print(\"\\nCompounded monthly, anuity =\", a_monthly_times)\n",
        "  print(\"Compounded continuously, anuity =\", a_continuous)\n",
        "\n",
        "def solve_log():\n",
        "\n",
        "  base = float(input('\\nEnter the base: '))\n",
        "  result = float(input('Enter the result: '))\n",
        "\n",
        "  exp = math.log(result, base)\n",
        "\n",
        "  print('\\nlog{}({}) = {}'.format(base, result, exp))\n",
        "  print('2^{} = {}'.format(base, exp, result))\n",
        "\n",
        "def convert_notation():\n",
        "  print('\\nWhat would you like to convert?')\n",
        "  print('1. From normal to scientific')\n",
        "  print('2. From scientific to normal')\n",
        "  user_choice = int(input('Pick 1 or 2: '))\n",
        "\n",
        "  if user_choice == 1:\n",
        "    str_number = input('Enter a number to convert: ')\n",
        "    number_to_convert = float(str_number)\n",
        "\n",
        "    x = math.floor(math.log(number_to_convert, 10))\n",
        "    n = round(number_to_convert*10**(-x), 2)\n",
        "\n",
        "    if len(str(x)) == 1 and '-' not in str(x):\n",
        "      x = '0' + str(x)\n",
        "    if len(str(x)) == 2 and '-' in str(x):\n",
        "      x = '-0' + str(x)[1:]\n",
        "\n",
        "    print('{} = {}e{}'.format(str_number, n, x))\n",
        "\n",
        "  elif user_choice == 2:\n",
        "    number_to_convert = input('\\nEnter a number in scientific notation to convert: ')\n",
        "    split_notation = number_to_convert.split('e')\n",
        "    converted_number = float(split_notation[0]) * (10 ** float(split_notation[1]))\n",
        "    string_number = '0.'\n",
        "\n",
        "    for decimal in range(1, abs(int(split_notation[1]))):\n",
        "      string_number += '0'\n",
        "    string_number += split_notation[0]\n",
        "    print(string_number)\n",
        "\n",
        "function_dict = {\n",
        "    1: mortgage_calc,\n",
        "    2: retirement_calc,\n",
        "    3: double_money,\n",
        "    4: rate_of_growth,\n",
        "    5: compare_monthly_cont,\n",
        "    6: solve_log,\n",
        "    7: convert_notation\n",
        "    }\n",
        "\n",
        "def financial_calculator():\n",
        "  print('Hello! What would you like to do?')\n",
        "  while True:\n",
        "    print(\"\"\"\n",
        "1. Calculate mortgage payments\n",
        "2. Calculate retirement account balance\n",
        "3. Caluclate Time to double invested money at a given rate\n",
        "4. Calculate a rate of growth\n",
        "5. Compare monthly payments and continuous growth\n",
        "6. Solve a logarithmic equation\n",
        "7. Convert from/to scientific notation\\n\"\"\")\n",
        "\n",
        "    user_choice = int(input('Enter the number of a menu item: '))\n",
        "\n",
        "    if user_choice in range(1, 8):\n",
        "      function_dict[user_choice]()\n",
        "    user_choice = input('\\nWould you like to do anything else Y/N ')\n",
        "    if user_choice.lower() != 'y':\n",
        "      print('\\nThanks for trying out the calculator!')\n",
        "      break\n",
        "\n",
        "\n",
        "\n",
        "\n",
        "\n",
        "\n",
        "financial_calculator()\n",
        "\n"
      ],
      "metadata": {
        "id": "fa2o--pDT-Sd",
        "colab": {
          "base_uri": "https://localhost:8080/",
          "height": 554
        },
        "outputId": "69cd931b-c512-470c-ceeb-63aef69efc7e"
      },
      "execution_count": null,
      "outputs": [
        {
          "output_type": "stream",
          "name": "stdout",
          "text": [
            "Hello! What would you like to do?\n",
            "\n",
            "1. Calculate Mortgage Payments\n",
            "2. Calculate retirement account balance when you retire\n",
            "3. Time to double double invested money at a given rate\n",
            "4. Calculate a rate of growth\n",
            "5. Compare monthly payments and continuous growth\n",
            "6. Sovle a logarithmic equation\n",
            "7. Convert from/to scientific notation\n",
            "\n"
          ]
        },
        {
          "output_type": "error",
          "ename": "KeyboardInterrupt",
          "evalue": "ignored",
          "traceback": [
            "\u001b[0;31m---------------------------------------------------------------------------\u001b[0m",
            "\u001b[0;31mKeyboardInterrupt\u001b[0m                         Traceback (most recent call last)",
            "\u001b[0;32m<ipython-input-39-a5cbd96c12c9>\u001b[0m in \u001b[0;36m<cell line: 146>\u001b[0;34m()\u001b[0m\n\u001b[1;32m    144\u001b[0m \u001b[0;34m\u001b[0m\u001b[0m\n\u001b[1;32m    145\u001b[0m \u001b[0;34m\u001b[0m\u001b[0m\n\u001b[0;32m--> 146\u001b[0;31m \u001b[0mfinancial_calculator\u001b[0m\u001b[0;34m(\u001b[0m\u001b[0;34m)\u001b[0m\u001b[0;34m\u001b[0m\u001b[0;34m\u001b[0m\u001b[0m\n\u001b[0m\u001b[1;32m    147\u001b[0m \u001b[0;34m\u001b[0m\u001b[0m\n",
            "\u001b[0;32m<ipython-input-39-a5cbd96c12c9>\u001b[0m in \u001b[0;36mfinancial_calculator\u001b[0;34m()\u001b[0m\n\u001b[1;32m    130\u001b[0m 7. Convert from/to scientific notation\\n\"\"\")\n\u001b[1;32m    131\u001b[0m \u001b[0;34m\u001b[0m\u001b[0m\n\u001b[0;32m--> 132\u001b[0;31m     \u001b[0muser_choice\u001b[0m \u001b[0;34m=\u001b[0m \u001b[0mint\u001b[0m\u001b[0;34m(\u001b[0m\u001b[0minput\u001b[0m\u001b[0;34m(\u001b[0m\u001b[0;34m'Enter the number of a menu item: '\u001b[0m\u001b[0;34m)\u001b[0m\u001b[0;34m)\u001b[0m\u001b[0;34m\u001b[0m\u001b[0;34m\u001b[0m\u001b[0m\n\u001b[0m\u001b[1;32m    133\u001b[0m \u001b[0;34m\u001b[0m\u001b[0m\n\u001b[1;32m    134\u001b[0m     \u001b[0;32mif\u001b[0m \u001b[0muser_choice\u001b[0m \u001b[0;32min\u001b[0m \u001b[0mrange\u001b[0m\u001b[0;34m(\u001b[0m\u001b[0;36m1\u001b[0m\u001b[0;34m,\u001b[0m \u001b[0;36m8\u001b[0m\u001b[0;34m)\u001b[0m\u001b[0;34m:\u001b[0m\u001b[0;34m\u001b[0m\u001b[0;34m\u001b[0m\u001b[0m\n",
            "\u001b[0;32m/usr/local/lib/python3.10/dist-packages/ipykernel/kernelbase.py\u001b[0m in \u001b[0;36mraw_input\u001b[0;34m(self, prompt)\u001b[0m\n\u001b[1;32m    849\u001b[0m                 \u001b[0;34m\"raw_input was called, but this frontend does not support input requests.\"\u001b[0m\u001b[0;34m\u001b[0m\u001b[0;34m\u001b[0m\u001b[0m\n\u001b[1;32m    850\u001b[0m             )\n\u001b[0;32m--> 851\u001b[0;31m         return self._input_request(str(prompt),\n\u001b[0m\u001b[1;32m    852\u001b[0m             \u001b[0mself\u001b[0m\u001b[0;34m.\u001b[0m\u001b[0m_parent_ident\u001b[0m\u001b[0;34m,\u001b[0m\u001b[0;34m\u001b[0m\u001b[0;34m\u001b[0m\u001b[0m\n\u001b[1;32m    853\u001b[0m             \u001b[0mself\u001b[0m\u001b[0;34m.\u001b[0m\u001b[0m_parent_header\u001b[0m\u001b[0;34m,\u001b[0m\u001b[0;34m\u001b[0m\u001b[0;34m\u001b[0m\u001b[0m\n",
            "\u001b[0;32m/usr/local/lib/python3.10/dist-packages/ipykernel/kernelbase.py\u001b[0m in \u001b[0;36m_input_request\u001b[0;34m(self, prompt, ident, parent, password)\u001b[0m\n\u001b[1;32m    893\u001b[0m             \u001b[0;32mexcept\u001b[0m \u001b[0mKeyboardInterrupt\u001b[0m\u001b[0;34m:\u001b[0m\u001b[0;34m\u001b[0m\u001b[0;34m\u001b[0m\u001b[0m\n\u001b[1;32m    894\u001b[0m                 \u001b[0;31m# re-raise KeyboardInterrupt, to truncate traceback\u001b[0m\u001b[0;34m\u001b[0m\u001b[0;34m\u001b[0m\u001b[0m\n\u001b[0;32m--> 895\u001b[0;31m                 \u001b[0;32mraise\u001b[0m \u001b[0mKeyboardInterrupt\u001b[0m\u001b[0;34m(\u001b[0m\u001b[0;34m\"Interrupted by user\"\u001b[0m\u001b[0;34m)\u001b[0m \u001b[0;32mfrom\u001b[0m \u001b[0;32mNone\u001b[0m\u001b[0;34m\u001b[0m\u001b[0;34m\u001b[0m\u001b[0m\n\u001b[0m\u001b[1;32m    896\u001b[0m             \u001b[0;32mexcept\u001b[0m \u001b[0mException\u001b[0m \u001b[0;32mas\u001b[0m \u001b[0me\u001b[0m\u001b[0;34m:\u001b[0m\u001b[0;34m\u001b[0m\u001b[0;34m\u001b[0m\u001b[0m\n\u001b[1;32m    897\u001b[0m                 \u001b[0mself\u001b[0m\u001b[0;34m.\u001b[0m\u001b[0mlog\u001b[0m\u001b[0;34m.\u001b[0m\u001b[0mwarning\u001b[0m\u001b[0;34m(\u001b[0m\u001b[0;34m\"Invalid Message:\"\u001b[0m\u001b[0;34m,\u001b[0m \u001b[0mexc_info\u001b[0m\u001b[0;34m=\u001b[0m\u001b[0;32mTrue\u001b[0m\u001b[0;34m)\u001b[0m\u001b[0;34m\u001b[0m\u001b[0;34m\u001b[0m\u001b[0m\n",
            "\u001b[0;31mKeyboardInterrupt\u001b[0m: Interrupted by user"
          ]
        }
      ]
    }
  ]
}